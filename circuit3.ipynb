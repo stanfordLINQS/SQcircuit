{
 "cells": [
  {
   "cell_type": "code",
   "execution_count": 1,
   "metadata": {},
   "outputs": [],
   "source": [
    "from circuitClass import *"
   ]
  },
  {
   "cell_type": "markdown",
   "metadata": {},
   "source": [
    "## The circuit That I try to Solve\n",
    "In this document, I am trying to see if my code can generate the right equations for the following circuit.\n",
    "<img src=\"pic/pic4.png\" style=\"height:250px\">"
   ]
  },
  {
   "cell_type": "markdown",
   "metadata": {},
   "source": [
    "## Define the circuit for the circuitClass \n",
    "In this part, I define the input which is necessery for the Hamiltonian."
   ]
  },
  {
   "cell_type": "code",
   "execution_count": 2,
   "metadata": {},
   "outputs": [],
   "source": [
    "graph = [[0,1],[0,2],[1,2],[1,3],[2,5],[2,6],[6,5],[3,5],[3,4],[4,5]]\n",
    "L = [1,0,0,1,0,1,0,0,1,0]\n",
    "C = [1,1,1,1,1,1,1,1,1,1]\n",
    "JJ = [0,1,1,0,[1,1],0,1,1,0,1]\n",
    "phi = np.linspace(0,0.5,15)*2*np.pi\n",
    "\n",
    "# define the circuit\n",
    "cr1 = Qcircuit(graph,L,C,JJ,phi)\n",
    "cr1.configure()"
   ]
  },
  {
   "cell_type": "code",
   "execution_count": 5,
   "metadata": {
    "scrolled": true
   },
   "outputs": [
    {
     "name": "stdout",
     "output_type": "stream",
     "text": [
      "[[ 1.  1.  0.  0.  0.  0.]\n",
      " [ 0.  0.  1.  0.  1.  0.]\n",
      " [ 0. -2.  0.  0.  1.  1.]\n",
      " [ 0.  0.  0.  1.  1.  0.]\n",
      " [ 0.  1.  0.  0.  0.  0.]\n",
      " [ 0.  1.  0.  0. -1.  0.]]\n"
     ]
    }
   ],
   "source": [
    "print(np.array(cr1.JJEq))"
   ]
  },
  {
   "cell_type": "code",
   "execution_count": 7,
   "metadata": {
    "scrolled": false
   },
   "outputs": [
    {
     "name": "stdout",
     "output_type": "stream",
     "text": [
      "lRotated:\n",
      "[3.2469796  1.55495813 0.19806226 2.         0.         0.        ]\n",
      "S:\n",
      "[[-0.59100905 -0.73697623  0.32798528  0.          0.          0.        ]\n",
      " [ 0.          0.          0.          0.70710678  0.70710678  0.        ]\n",
      " [ 0.73697623 -0.32798528  0.59100905  0.          0.          0.        ]\n",
      " [-0.32798528  0.59100905  0.73697623  0.          0.          0.        ]\n",
      " [ 0.          0.          0.          0.          0.          1.        ]\n",
      " [ 0.          0.          0.         -0.70710678  0.70710678  0.        ]]\n",
      "JJEj@S:\n",
      "[[-0.59100905 -0.73697623  0.32798528  0.70710678  0.70710678  0.        ]\n",
      " [ 0.73697623 -0.32798528  0.59100905  0.          0.          1.        ]\n",
      " [ 0.          0.          0.         -2.12132034 -0.70710678  1.        ]\n",
      " [-0.32798528  0.59100905  0.73697623  0.          0.          1.        ]\n",
      " [ 0.          0.          0.          0.70710678  0.70710678  0.        ]\n",
      " [ 0.          0.          0.          0.70710678  0.70710678 -1.        ]]\n"
     ]
    }
   ],
   "source": [
    "lRotated, cInvRotated , S = cr1.buildDiag()\n",
    "print(\"lRotated:\")\n",
    "print(np.diag(lRotated))\n",
    "# print(\"cInvRotated:\")\n",
    "# print(cInvRotated)\n",
    "print(\"S:\")\n",
    "print(S)\n",
    "print(\"JJEq@S:\")\n",
    "print(cr1.JJEq @S)"
   ]
  },
  {
   "cell_type": "markdown",
   "metadata": {},
   "source": [
    "# another circuit\n",
    "<img src=\"pic/pic5.png\" style=\"height:250px\">"
   ]
  },
  {
   "cell_type": "code",
   "execution_count": 9,
   "metadata": {},
   "outputs": [],
   "source": [
    "graph = [[0,1],[0,2],[1,2],[1,3],[2,4],[3,4]]\n",
    "L = [1,0,0,1,0,0]\n",
    "C = [1,1,1,1,1,1]\n",
    "JJ = [0,1,1,0,1,1]\n",
    "phi = np.linspace(0,0.5,15)*2*np.pi\n",
    "\n",
    "# define the circuit\n",
    "cr2 = Qcircuit(graph,L,C,JJ,phi)\n",
    "cr2.configure()"
   ]
  },
  {
   "cell_type": "code",
   "execution_count": 12,
   "metadata": {},
   "outputs": [
    {
     "name": "stdout",
     "output_type": "stream",
     "text": [
      "[[ 1.  1.  0.  0.]\n",
      " [ 0.  0.  1.  1.]\n",
      " [ 0.  1.  0.  0.]\n",
      " [ 0.  1.  0. -1.]]\n"
     ]
    }
   ],
   "source": [
    "print(np.array(cr2.JJEq))"
   ]
  },
  {
   "cell_type": "code",
   "execution_count": 17,
   "metadata": {
    "scrolled": true
   },
   "outputs": [
    {
     "name": "stdout",
     "output_type": "stream",
     "text": [
      "lRotated:\n",
      "[2.61803399 0.38196601 0.         0.        ]\n",
      "S:\n",
      "[[ 0.85065081  0.52573111  0.          0.        ]\n",
      " [ 0.          0.          1.          0.        ]\n",
      " [-0.52573111  0.85065081  0.          0.        ]\n",
      " [ 0.          0.          0.          1.        ]]\n",
      "JJEq@S:\n",
      "[[ 0.85065081  0.52573111  1.          0.        ]\n",
      " [-0.52573111  0.85065081  0.          1.        ]\n",
      " [ 0.          0.          1.          0.        ]\n",
      " [ 0.          0.          1.         -1.        ]]\n"
     ]
    }
   ],
   "source": [
    "lRotated, cInvRotated , S = cr2.buildDiag()\n",
    "print(\"lRotated:\")\n",
    "print(np.diag(lRotated))\n",
    "# print(\"cInvRotated:\")\n",
    "# print(cInvRotated)\n",
    "print(\"S:\")\n",
    "print(S)\n",
    "print(\"JJEq@S:\")\n",
    "print(np.array(cr2.JJEq) @S)"
   ]
  },
  {
   "cell_type": "code",
   "execution_count": null,
   "metadata": {},
   "outputs": [],
   "source": []
  }
 ],
 "metadata": {
  "kernelspec": {
   "display_name": "Python 3",
   "language": "python",
   "name": "python3"
  },
  "language_info": {
   "codemirror_mode": {
    "name": "ipython",
    "version": 3
   },
   "file_extension": ".py",
   "mimetype": "text/x-python",
   "name": "python",
   "nbconvert_exporter": "python",
   "pygments_lexer": "ipython3",
   "version": "3.7.4"
  }
 },
 "nbformat": 4,
 "nbformat_minor": 2
}
