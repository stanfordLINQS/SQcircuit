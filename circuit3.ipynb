{
 "cells": [
  {
   "cell_type": "code",
   "execution_count": 1,
   "metadata": {},
   "outputs": [],
   "source": [
    "from circuitClass import *"
   ]
  },
  {
   "cell_type": "markdown",
   "metadata": {},
   "source": [
    "## The circuit That I try to Solve\n",
    "In this document, I am trying to see if my code can generate the right equations for the following circuit.\n",
    "<img src=\"pic/pic4.png\" style=\"height:250px\">"
   ]
  },
  {
   "cell_type": "markdown",
   "metadata": {},
   "source": [
    "## Define the circuit for the circuitClass \n",
    "In this part, I define the input which is necessery for the Hamiltonian."
   ]
  },
  {
   "cell_type": "code",
   "execution_count": 2,
   "metadata": {},
   "outputs": [
    {
     "name": "stdout",
     "output_type": "stream",
     "text": [
      "[0 0 1 0 0 0 1 1 0 1]\n",
      "[False  True  True False  True False  True  True False  True]\n",
      "[0.88650607 0.80946812 0.6962717  0.79349205 0.         0.        ]\n"
     ]
    }
   ],
   "source": [
    "graph = [[0,1],[0,2],[1,2],[1,3],[2,5],[2,6],[6,5],[3,5],[3,4],[4,5]]\n",
    "L = [1,0,0,1,0,1,0,0,1,0]\n",
    "C = [1,1,1,1,1,1,1,1,1,1]\n",
    "JJ = [0,1,1,0,[1,1],0,1,1,0,1]\n",
    "phi = np.linspace(0,0.5,15)*2*np.pi\n",
    "\n",
    "# define the circuit\n",
    "cr1 = Qcircuit(graph,L,C,JJ)\n",
    "excite = [([0,1,2],0),([1, 3, 5, 2],0),([2, 6, 5],0),([3, 4, 5],0),([2,5],10)]\n",
    "cr1.setExcitation(excite)\n",
    "cr1.configure()\n",
    "print(cr1.omega)"
   ]
  },
  {
   "cell_type": "code",
   "execution_count": 4,
   "metadata": {
    "scrolled": false
   },
   "outputs": [
    {
     "name": "stdout",
     "output_type": "stream",
     "text": [
      "[[0, 2, 1], [1, 3, 5, 2], [2, 6, 5], [3, 4, 5]]\n"
     ]
    }
   ],
   "source": [
    "print(cr1.graphSt.simplestCycles)"
   ]
  },
  {
   "cell_type": "code",
   "execution_count": 5,
   "metadata": {},
   "outputs": [
    {
     "data": {
      "text/plain": [
       "[[0], [1, 0], [2], [3, 1, 0], 0, [0, 4]]"
      ]
     },
     "execution_count": 5,
     "metadata": {},
     "output_type": "execute_result"
    }
   ],
   "source": [
    "cr1.JJExcite"
   ]
  },
  {
   "cell_type": "code",
   "execution_count": 6,
   "metadata": {
    "scrolled": true
   },
   "outputs": [
    {
     "name": "stdout",
     "output_type": "stream",
     "text": [
      "lRotated:\n",
      "[3.2469796  1.55495813 0.19806226 2.         0.         0.        ]\n",
      "S:\n",
      "[[-0.59100905 -0.73697623  0.32798528  0.          0.          0.        ]\n",
      " [ 0.          0.          0.          0.70710678  0.70710678  0.        ]\n",
      " [ 0.73697623 -0.32798528  0.59100905  0.          0.          0.        ]\n",
      " [-0.32798528  0.59100905  0.73697623  0.          0.          0.        ]\n",
      " [ 0.          0.          0.          0.          0.          1.        ]\n",
      " [ 0.          0.          0.         -0.70710678  0.70710678  0.        ]]\n",
      "JJEq@S:\n",
      "[[-0.59100905 -0.73697623  0.32798528  0.70710678  0.70710678  0.        ]\n",
      " [ 0.73697623 -0.32798528  0.59100905  0.          0.          1.        ]\n",
      " [ 0.          0.          0.         -2.12132034 -0.70710678  1.        ]\n",
      " [-0.32798528  0.59100905  0.73697623  0.          0.          1.        ]\n",
      " [ 0.          0.          0.          0.70710678  0.70710678  0.        ]\n",
      " [ 0.          0.          0.          0.70710678  0.70710678 -1.        ]]\n"
     ]
    }
   ],
   "source": [
    "lRotated, cInvRotated , S = cr1.buildDiag()\n",
    "print(\"lRotated:\")\n",
    "print(np.diag(lRotated))\n",
    "# print(\"cInvRotated:\")\n",
    "# print(cInvRotated)\n",
    "print(\"S:\")\n",
    "print(S)\n",
    "print(\"JJEq@S:\")\n",
    "print(cr1.JJEq @S)"
   ]
  },
  {
   "cell_type": "code",
   "execution_count": 6,
   "metadata": {},
   "outputs": [
    {
     "data": {
      "text/plain": [
       "[[0], [[1, 0], 5], [2], [3, 1, 0], 0, [0, 4]]"
      ]
     },
     "execution_count": 6,
     "metadata": {},
     "output_type": "execute_result"
    }
   ],
   "source": [
    "cr1.JJExcite"
   ]
  },
  {
   "cell_type": "markdown",
   "metadata": {},
   "source": [
    "# another circuit\n",
    "<img src=\"pic/pic5.png\" style=\"height:250px\">"
   ]
  },
  {
   "cell_type": "code",
   "execution_count": 7,
   "metadata": {},
   "outputs": [],
   "source": [
    "graph = [[0,1],[0,2],[1,2],[1,3],[2,4],[3,4]]\n",
    "L = [1,0,0,1,0,0]\n",
    "C = [1,1,1,1,1,1]\n",
    "JJ = [0,1,1,0,1,1]\n",
    "phi = np.linspace(0,0.5,15)*2*np.pi\n",
    "\n",
    "# define the circuit\n",
    "cr2 = Qcircuit(graph,L,C,JJ,phi)\n",
    "cr2.configure()"
   ]
  },
  {
   "cell_type": "code",
   "execution_count": 8,
   "metadata": {},
   "outputs": [
    {
     "name": "stdout",
     "output_type": "stream",
     "text": [
      "[[ 1.  1.  0.  0.]\n",
      " [ 0.  0.  1.  1.]\n",
      " [ 0.  1.  0.  0.]\n",
      " [ 0.  1.  0. -1.]]\n"
     ]
    }
   ],
   "source": [
    "print(np.array(cr2.JJEq))"
   ]
  },
  {
   "cell_type": "code",
   "execution_count": 9,
   "metadata": {
    "scrolled": true
   },
   "outputs": [
    {
     "name": "stdout",
     "output_type": "stream",
     "text": [
      "lRotated:\n",
      "[2.61803399 0.38196601 0.         0.        ]\n",
      "S:\n",
      "[[ 0.85065081  0.52573111  0.          0.        ]\n",
      " [ 0.          0.          1.          0.        ]\n",
      " [-0.52573111  0.85065081  0.          0.        ]\n",
      " [ 0.          0.          0.          1.        ]]\n",
      "JJEq@S:\n",
      "[[ 0.85065081  0.52573111  1.          0.        ]\n",
      " [-0.52573111  0.85065081  0.          1.        ]\n",
      " [ 0.          0.          1.          0.        ]\n",
      " [ 0.          0.          1.         -1.        ]]\n"
     ]
    }
   ],
   "source": [
    "lRotated, cInvRotated , S = cr2.buildDiag()\n",
    "print(\"lRotated:\")\n",
    "print(np.diag(lRotated))\n",
    "# print(\"cInvRotated:\")\n",
    "# print(cInvRotated)\n",
    "print(\"S:\")\n",
    "print(S)\n",
    "print(\"JJEq@S:\")\n",
    "print(np.array(cr2.JJEq) @S)"
   ]
  },
  {
   "cell_type": "code",
   "execution_count": 10,
   "metadata": {},
   "outputs": [],
   "source": [
    "c = q.num(3)"
   ]
  },
  {
   "cell_type": "code",
   "execution_count": 11,
   "metadata": {
    "scrolled": true
   },
   "outputs": [
    {
     "data": {
      "text/latex": [
       "Quantum object: dims = [[3], [3]], shape = (3, 3), type = oper, isherm = True\\begin{equation*}\\left(\\begin{array}{*{11}c}0.0 & 0.0 & 0.0\\\\0.0 & 1.0 & 0.0\\\\0.0 & 0.0 & 4.0\\\\\\end{array}\\right)\\end{equation*}"
      ],
      "text/plain": [
       "Quantum object: dims = [[3], [3]], shape = (3, 3), type = oper, isherm = True\n",
       "Qobj data =\n",
       "[[0. 0. 0.]\n",
       " [0. 1. 0.]\n",
       " [0. 0. 4.]]"
      ]
     },
     "execution_count": 11,
     "metadata": {},
     "output_type": "execute_result"
    }
   ],
   "source": [
    "c*c"
   ]
  },
  {
   "cell_type": "code",
   "execution_count": 12,
   "metadata": {},
   "outputs": [
    {
     "data": {
      "text/latex": [
       "Quantum object: dims = [[10], [10]], shape = (10, 10), type = oper, isherm = True\\begin{equation*}\\left(\\begin{array}{*{11}c}1.0 & 1.0 & 1.0 & 1.0 & 1.0 & 1.0 & 1.0 & 1.0 & 1.0 & 1.0\\\\1.0 & 1.0 & 1.0 & 1.0 & 1.0 & 1.0 & 1.0 & 1.0 & 1.0 & 1.0\\\\1.0 & 1.0 & 1.0 & 1.0 & 1.0 & 1.0 & 1.0 & 1.0 & 1.0 & 1.0\\\\1.0 & 1.0 & 1.0 & 1.0 & 1.0 & 1.0 & 1.0 & 1.0 & 1.0 & 1.0\\\\1.0 & 1.0 & 1.0 & 1.0 & 1.0 & 1.0 & 1.0 & 1.0 & 1.0 & 1.0\\\\1.0 & 1.0 & 1.0 & 1.0 & 1.0 & 1.0 & 1.0 & 1.0 & 1.0 & 1.0\\\\1.0 & 1.0 & 1.0 & 1.0 & 1.0 & 1.0 & 1.0 & 1.0 & 1.0 & 1.0\\\\1.0 & 1.0 & 1.0 & 1.0 & 1.0 & 1.0 & 1.0 & 1.0 & 1.0 & 1.0\\\\1.0 & 1.0 & 1.0 & 1.0 & 1.0 & 1.0 & 1.0 & 1.0 & 1.0 & 1.0\\\\1.0 & 1.0 & 1.0 & 1.0 & 1.0 & 1.0 & 1.0 & 1.0 & 1.0 & 1.0\\\\\\end{array}\\right)\\end{equation*}"
      ],
      "text/plain": [
       "Quantum object: dims = [[10], [10]], shape = (10, 10), type = oper, isherm = True\n",
       "Qobj data =\n",
       "[[1. 1. 1. 1. 1. 1. 1. 1. 1. 1.]\n",
       " [1. 1. 1. 1. 1. 1. 1. 1. 1. 1.]\n",
       " [1. 1. 1. 1. 1. 1. 1. 1. 1. 1.]\n",
       " [1. 1. 1. 1. 1. 1. 1. 1. 1. 1.]\n",
       " [1. 1. 1. 1. 1. 1. 1. 1. 1. 1.]\n",
       " [1. 1. 1. 1. 1. 1. 1. 1. 1. 1.]\n",
       " [1. 1. 1. 1. 1. 1. 1. 1. 1. 1.]\n",
       " [1. 1. 1. 1. 1. 1. 1. 1. 1. 1.]\n",
       " [1. 1. 1. 1. 1. 1. 1. 1. 1. 1.]\n",
       " [1. 1. 1. 1. 1. 1. 1. 1. 1. 1.]]"
      ]
     },
     "execution_count": 12,
     "metadata": {},
     "output_type": "execute_result"
    }
   ],
   "source": [
    "q.Qobj(np.ones((10,10)))"
   ]
  },
  {
   "cell_type": "code",
   "execution_count": 13,
   "metadata": {},
   "outputs": [
    {
     "data": {
      "text/latex": [
       "Quantum object: dims = [[2], [2]], shape = (2, 2), type = oper, isherm = False\\begin{equation*}\\left(\\begin{array}{*{11}c}0.0 & 1.0\\\\0.0 & 0.0\\\\\\end{array}\\right)\\end{equation*}"
      ],
      "text/plain": [
       "Quantum object: dims = [[2], [2]], shape = (2, 2), type = oper, isherm = False\n",
       "Qobj data =\n",
       "[[0. 1.]\n",
       " [0. 0.]]"
      ]
     },
     "execution_count": 13,
     "metadata": {},
     "output_type": "execute_result"
    }
   ],
   "source": [
    "m = 2\n",
    "A = np.zeros((m,m))\n",
    "for i in range(m):\n",
    "    for j in range(m):\n",
    "        if(j-1==i):\n",
    "            A[i,j] = 1;\n",
    "A = q.Qobj(A)\n",
    "A"
   ]
  },
  {
   "cell_type": "code",
   "execution_count": 43,
   "metadata": {},
   "outputs": [
    {
     "data": {
      "text/latex": [
       "Quantum object: dims = [[2], [1]], shape = (2, 1), type = ket\\begin{equation*}\\left(\\begin{array}{*{11}c}0.0\\\\1.0\\\\\\end{array}\\right)\\end{equation*}"
      ],
      "text/plain": [
       "Quantum object: dims = [[2], [1]], shape = (2, 1), type = ket\n",
       "Qobj data =\n",
       "[[0.]\n",
       " [1.]]"
      ]
     },
     "execution_count": 43,
     "metadata": {},
     "output_type": "execute_result"
    }
   ],
   "source": [
    "a = q.basis(2,1)\n",
    "a"
   ]
  },
  {
   "cell_type": "code",
   "execution_count": 45,
   "metadata": {},
   "outputs": [
    {
     "data": {
      "text/plain": [
       "array([1, 2, None], dtype=object)"
      ]
     },
     "execution_count": 45,
     "metadata": {},
     "output_type": "execute_result"
    }
   ],
   "source": [
    "np.array([1,2,None])"
   ]
  },
  {
   "cell_type": "code",
   "execution_count": 18,
   "metadata": {},
   "outputs": [
    {
     "name": "stdout",
     "output_type": "stream",
     "text": [
      "False\n"
     ]
    }
   ],
   "source": [
    "a = np.linspace(1,5,5)\n",
    "b = [0,0,0,a]\n",
    "b\n",
    "print(isinstance(b[3],int))"
   ]
  },
  {
   "cell_type": "code",
   "execution_count": null,
   "metadata": {},
   "outputs": [],
   "source": []
  }
 ],
 "metadata": {
  "kernelspec": {
   "display_name": "Python 3",
   "language": "python",
   "name": "python3"
  },
  "language_info": {
   "codemirror_mode": {
    "name": "ipython",
    "version": 3
   },
   "file_extension": ".py",
   "mimetype": "text/x-python",
   "name": "python",
   "nbconvert_exporter": "python",
   "pygments_lexer": "ipython3",
   "version": "3.7.3"
  }
 },
 "nbformat": 4,
 "nbformat_minor": 2
}
