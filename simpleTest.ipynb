{
 "cells": [
  {
   "cell_type": "code",
   "execution_count": 2,
   "metadata": {},
   "outputs": [],
   "source": [
    "from circuitClass import *"
   ]
  },
  {
   "cell_type": "markdown",
   "metadata": {},
   "source": [
    "<img src=\"pic/pic7.png\" style=\"height:250px\">"
   ]
  },
  {
   "cell_type": "code",
   "execution_count": 11,
   "metadata": {
    "scrolled": true
   },
   "outputs": [],
   "source": [
    "graph = [[0,1],[0,2],[1,2]]\n",
    "C = [50*fF,25*fF,0]\n",
    "L = [0,0,100*pH]\n",
    "JJ = [0,0,192*GHz]\n",
    "\n",
    "# define the circuit\n",
    "cr1 = Qcircuit(graph,L,C,JJ)\n",
    "\n",
    "# set excitation\n",
    "phiExt = np.linspace(0,0.02,2)*2*np.pi\n",
    "# phiExt = np.linspace(-0.02,0.02,15)*2*np.pi\n",
    "cr1.setExcitation([([0,2,1],phiExt)])\n",
    "\n",
    "# configure the circuit\n",
    "cr1.configure()"
   ]
  },
  {
   "cell_type": "code",
   "execution_count": 12,
   "metadata": {},
   "outputs": [],
   "source": [
    "cr1.setFockNumbers([13,13])"
   ]
  },
  {
   "cell_type": "code",
   "execution_count": 13,
   "metadata": {
    "scrolled": false
   },
   "outputs": [
    {
     "name": "stdout",
     "output_type": "stream",
     "text": [
      "0\n",
      "1\n"
     ]
    }
   ],
   "source": [
    "cr1.solveCircuit(showLoading=True)"
   ]
  },
  {
   "cell_type": "code",
   "execution_count": 24,
   "metadata": {
    "scrolled": true
   },
   "outputs": [
    {
     "name": "stdout",
     "output_type": "stream",
     "text": [
      "0.0\n",
      "2.066157741511091\n",
      "2.066157741511091\n",
      "8.264630966043484\n",
      "8.264630966043796\n",
      "18.595419673598343\n",
      "18.595419673598343\n",
      "33.05852386417479\n",
      "33.05852386417479\n",
      "51.65394353777327\n",
      "51.65394353777356\n",
      "74.38167869439347\n",
      "74.38167869439347\n",
      "130.19883781332464\n",
      "132.2649955548355\n",
      "132.26499555483576\n",
      "138.46346877936813\n",
      "138.4634687793684\n",
      "148.79425748692307\n",
      "148.79425748692307\n"
     ]
    }
   ],
   "source": [
    "for i in range(20):\n",
    "    print(cr1.HamilEig[i,0].real/GHz-cr1.HamilEig[0,0].real/GHz)"
   ]
  },
  {
   "cell_type": "code",
   "execution_count": 17,
   "metadata": {
    "scrolled": true
   },
   "outputs": [
    {
     "data": {
      "text/plain": [
       "Text(0, 0.5, '($\\\\omega_i$)GHz')"
      ]
     },
     "execution_count": 17,
     "metadata": {},
     "output_type": "execute_result"
    },
    {
     "data": {
      "image/png": "[encoded data removed]",
      "text/plain": [
       "<Figure size 432x288 with 1 Axes>"
      ]
     },
     "metadata": {
      "needs_background": "light"
     },
     "output_type": "display_data"
    }
   ],
   "source": [
    "plt.figure()\n",
    "for i in range(4):\n",
    "    plt.plot(phiExt/2/np.pi,cr1.HamilEig[i,:].real/GHz-np.min(cr1.HamilEig[0,:]).real/GHz,'.')\n",
    "plt.xlabel(\"$\\Phi_{ext}/\\Phi_0$\")\n",
    "plt.ylabel(\"($\\omega_i$)GHz\")"
   ]
  },
  {
   "cell_type": "markdown",
   "metadata": {},
   "source": [
    "## Circuit Hamiltonian\n",
    "In this section, I diogonalize the circuit Hamiltonian without using the Qcircuit Class. The corrected version of the Hamiltonian of the paper is:\n",
    "\n",
    "$$\n",
    "\\begin{equation}\n",
    "H = \\hbar \\omega a_{1}^{\\dagger} a_{1}+ \\frac{1}{2} \\tilde{c}_{22}^{-1} \\tilde{Q}_{2}^{2}-i \\sqrt{\\frac{\\hbar}{2 Z_{1}}} \\tilde{c}_{12}^{-1}\\left(a_{1}-a_{1}^{\\dagger}\\right) \\tilde{Q}_{3}-\\frac{E_{J 12}}{2}\\left(e^{i \\phi_{\\mathrm{var}}} D_{1}^{\\dagger}\\left(\\alpha_{1}\\right)+\\mathrm{h.c.}\\right) \\\\\n",
    "\\end{equation}\n",
    "$$"
   ]
  },
  {
   "cell_type": "code",
   "execution_count": 19,
   "metadata": {
    "scrolled": false
   },
   "outputs": [
    {
     "name": "stdout",
     "output_type": "stream",
     "text": [
      "1st frequency: 123.28088881229996\n",
      "2nd frequency: 3.0992366122663912\n"
     ]
    }
   ],
   "source": [
    "R = np.array([[0,1],[1,1]])\n",
    "RInv = np.linalg.inv(R)\n",
    "Cx = cr1.giveMatC()\n",
    "Lx = cr1.giveMatL()\n",
    "_ ,S = np.linalg.eig(Lx)\n",
    "lRotated = R @ Lx @ R \n",
    "cInvRotated = RInv @ np.linalg.inv(Cx) @ RInv\n",
    "print(\"1st frequency:\", np.sqrt(lRotated[0,0]*cInvRotated[0,0])/GHz)\n",
    "print(\"2nd frequency:\", 4*cInvRotated[1,1]*e**2/GHz/hbar)\n",
    "Z = np.sqrt(cInvRotated[0,0]/lRotated[0,0])\n",
    "omega = np.sqrt(np.diag(cInvRotated)*np.diag(lRotated))"
   ]
  },
  {
   "cell_type": "code",
   "execution_count": 28,
   "metadata": {},
   "outputs": [],
   "source": [
    "m = 13\n",
    "def Hamil(phi):\n",
    "    I = q.qeye(m);\n",
    "    num = q.num(m);\n",
    "    charge = q.charge((m-1)/2)\n",
    "    d = cr1.chargeDisp(m)\n",
    "    intr = q.destroy(m) - q.create(m)\n",
    "    d = d.dag()\n",
    "    \n",
    "    HLC = omega[0]*q.tensor(num,I) +\\\n",
    "    0.5*(2*e)**2*cInvRotated[1,1]/hbar*q.tensor(I,charge)*q.tensor(I,charge)*2-\\\n",
    "    1j*np.sqrt(1/(2*hbar*Z))*(2*e)*cInvRotated[0,1]*q.tensor(intr,charge)*np.sqrt(2)\n",
    "    \n",
    "    alpha = 1j*2*np.pi/Phi0*np.sqrt(hbar*Z/2)\n",
    "    \n",
    "    HJJ = -JJ[2]/2*np.exp(1j*phi)*q.tensor(q.displace(m,alpha),I)\n",
    "    HJJ = HJJ + HJJ.dag()\n",
    "\n",
    "    H = HLC + HJJ\n",
    "    return H"
   ]
  },
  {
   "cell_type": "code",
   "execution_count": 29,
   "metadata": {
    "scrolled": true
   },
   "outputs": [
    {
     "name": "stdout",
     "output_type": "stream",
     "text": [
      "0\n",
      "1\n"
     ]
    }
   ],
   "source": [
    "HamilEig = np.zeros((m**2,len(phiExt)),dtype='complex');\n",
    "for i in range(len(phiExt)):\n",
    "    print(i)\n",
    "    H = Hamil(phiExt[i]);\n",
    "    eigenValues , eigenVectors = H.eigenstates();\n",
    "    HamilEig[:,i] = eigenValues"
   ]
  },
  {
   "cell_type": "code",
   "execution_count": 30,
   "metadata": {},
   "outputs": [
    {
     "name": "stdout",
     "output_type": "stream",
     "text": [
      "0.0\n",
      "2.066157741511091\n",
      "2.0661577415113186\n",
      "8.264630966043825\n",
      "8.264630966044137\n",
      "18.59541967359837\n",
      "18.595419673598684\n",
      "33.058523864175214\n",
      "33.05852386417547\n",
      "51.65394353778112\n",
      "51.65394353778112\n",
      "74.38167869447963\n",
      "74.38167869447994\n",
      "130.19883781332504\n",
      "132.26499555483548\n",
      "132.2649955548358\n",
      "138.46346877936867\n",
      "138.4634687793693\n",
      "148.79425748693038\n",
      "148.79425748693066\n"
     ]
    }
   ],
   "source": [
    "for i in range(20):\n",
    "    print(HamilEig[i,0].real/GHz-HamilEig[0,0].real/GHz)"
   ]
  },
  {
   "cell_type": "code",
   "execution_count": 31,
   "metadata": {
    "scrolled": false
   },
   "outputs": [
    {
     "data": {
      "text/plain": [
       "Text(0, 0.5, '($\\\\omega_i-\\\\omega_0$)GHz')"
      ]
     },
     "execution_count": 31,
     "metadata": {},
     "output_type": "execute_result"
    },
    {
     "data": {
      "image/png": "[encoded data removed]",
      "text/plain": [
       "<Figure size 432x288 with 1 Axes>"
      ]
     },
     "metadata": {
      "needs_background": "light"
     },
     "output_type": "display_data"
    }
   ],
   "source": [
    "plt.figure()\n",
    "for i in range(4):\n",
    "    plt.plot(phiExt/2/np.pi,(HamilEig[(i),:].real/GHz-np.min(HamilEig[0,:]).real/GHz),'.')\n",
    "plt.xlabel(\"$\\Phi_{ext}/\\Phi_0$\")\n",
    "plt.ylabel(\"($\\omega_i-\\omega_0$)GHz\")"
   ]
  },
  {
   "cell_type": "code",
   "execution_count": 32,
   "metadata": {},
   "outputs": [],
   "source": [
    "graph = [[1,3],[2,0],[2,3],[3,0],[1,2]]\n",
    "C = [98.8*fF,15*fF,38.7*fF,67.5*fF,0]\n",
    "L = [293*pH,0,98.1*pH,0,100*pH]\n",
    "pi2 = 2*np.pi\n",
    "JJ = [0,187*GHz/pi2,0,192*GHz/pi2,1865*GHz/pi2]\n",
    "\n",
    "# define the circuit\n",
    "cr2 = Qcircuit(graph,L,C,JJ)\n",
    "\n",
    "R = np.array([[1,1,1],[1,0,1],[1,1,1]])\n",
    "\n",
    "Lx = cr2.giveMatL()*pH\n",
    "lRotated = R @ Lx @ R"
   ]
  },
  {
   "cell_type": "code",
   "execution_count": 33,
   "metadata": {},
   "outputs": [
    {
     "data": {
      "text/plain": [
       "array([[4.33680869e-19, 4.33680869e-19, 4.33680869e-19],\n",
       "       [0.00000000e+00, 2.01936799e-02, 0.00000000e+00],\n",
       "       [4.33680869e-19, 4.33680869e-19, 4.33680869e-19]])"
      ]
     },
     "execution_count": 33,
     "metadata": {},
     "output_type": "execute_result"
    }
   ],
   "source": [
    "lRotated"
   ]
  },
  {
   "cell_type": "code",
   "execution_count": 34,
   "metadata": {},
   "outputs": [
    {
     "data": {
      "text/plain": [
       "array([0.e+00, 1.e-05])"
      ]
     },
     "execution_count": 34,
     "metadata": {},
     "output_type": "execute_result"
    }
   ],
   "source": [
    "np.linspace(0,0.00001,2)"
   ]
  },
  {
   "cell_type": "code",
   "execution_count": 22,
   "metadata": {},
   "outputs": [
    {
     "name": "stdout",
     "output_type": "stream",
     "text": [
      "[[ 0.70710678  0.70710678]\n",
      " [-0.70710678  0.70710678]]\n"
     ]
    }
   ],
   "source": [
    "H = np.array([[10,-10],[-10,10]])\n",
    "_,S = np.linalg.eig(H)\n",
    "print(S)"
   ]
  }
 ],
 "metadata": {
  "kernelspec": {
   "display_name": "Python 3",
   "language": "python",
   "name": "python3"
  },
  "language_info": {
   "codemirror_mode": {
    "name": "ipython",
    "version": 3
   },
   "file_extension": ".py",
   "mimetype": "text/x-python",
   "name": "python",
   "nbconvert_exporter": "python",
   "pygments_lexer": "ipython3",
   "version": "3.7.3"
  }
 },
 "nbformat": 4,
 "nbformat_minor": 2
}
