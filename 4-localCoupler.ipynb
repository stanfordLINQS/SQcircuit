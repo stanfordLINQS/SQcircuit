{
 "cells": [
  {
   "cell_type": "code",
   "execution_count": 114,
   "metadata": {},
   "outputs": [],
   "source": [
    "from circuitClass import *\n",
    "from jupyterthemes import jtplot\n",
    "jtplot.style()"
   ]
  },
  {
   "cell_type": "markdown",
   "metadata": {},
   "source": [
    "<img src=\"pic/pic9a.png\" style=\"height:250px\">\n",
    "<img src=\"pic/pic9b.png\" style=\"height:75px\">"
   ]
  },
  {
   "cell_type": "code",
   "execution_count": 134,
   "metadata": {
    "scrolled": true
   },
   "outputs": [
    {
     "name": "stdout",
     "output_type": "stream",
     "text": [
      "0.5773502691896258\n"
     ]
    }
   ],
   "source": [
    "graph = [[1,3],[2,0],[2,3],[3,0],[1,2]]\n",
    "C = [98.8*fF,15*fF,38.7*fF,67.5*fF,0]\n",
    "L = [293*pH,0,98.1*pH,0,0]\n",
    "JJ = [0,187000*GHz,0,192*GHz*1e-13,1560*GHz*1e-13]\n",
    "\n",
    "# define the circuit\n",
    "cr1 = Qcircuit(graph,L,C,JJ)\n",
    "\n",
    "# set excitation\n",
    "# phiExt = np.linspace(-0.02,0.02,15)*2*np.pi\n",
    "phiExt = np.linspace(0,0.1,2)*2*np.pi\n",
    "cr1.setExcitation([([1,2,3],phiExt),([0,2,3],0)])\n",
    "\n",
    "# configure the circuit\n",
    "cr1.configure()"
   ]
  },
  {
   "cell_type": "code",
   "execution_count": 135,
   "metadata": {},
   "outputs": [],
   "source": [
    "cr1.setFockNumbers([9,11,19])"
   ]
  },
  {
   "cell_type": "code",
   "execution_count": 136,
   "metadata": {
    "scrolled": false
   },
   "outputs": [
    {
     "name": "stdout",
     "output_type": "stream",
     "text": [
      "0\n",
      "1\n"
     ]
    }
   ],
   "source": [
    "cr1.solveCircuit(showLoading=True)"
   ]
  },
  {
   "cell_type": "code",
   "execution_count": 137,
   "metadata": {
    "scrolled": true
   },
   "outputs": [
    {
     "name": "stdout",
     "output_type": "stream",
     "text": [
      "0.0\n",
      "29.54165466676932\n",
      "59.08345416246448\n",
      "71.06504077289719\n",
      "88.62711525187478\n",
      "100.60685945858131\n",
      "118.1874487050809\n",
      "130.14999634350534\n",
      "142.13027952879202\n",
      "147.85091655148426\n"
     ]
    }
   ],
   "source": [
    "for i in range(10):\n",
    "    print(cr1.HamilEig[i,0].real/GHz-cr1.HamilEig[0,0].real/GHz)"
   ]
  },
  {
   "cell_type": "code",
   "execution_count": 138,
   "metadata": {
    "scrolled": false
   },
   "outputs": [
    {
     "data": {
      "text/plain": [
       "Text(0, 0.5, '($\\\\omega_i$)GHz')"
      ]
     },
     "execution_count": 138,
     "metadata": {},
     "output_type": "execute_result"
    },
    {
     "data": {
      "image/png": "[encoded data removed]",
      "text/plain": [
       "<Figure size 460.8x403.2 with 1 Axes>"
      ]
     },
     "metadata": {},
     "output_type": "display_data"
    }
   ],
   "source": [
    "fig = plt.figure()\n",
    "for i in range(4):\n",
    "    plt.plot(phiExt/2/np.pi,cr1.HamilEig[i,:].real/GHz-np.min(cr1.HamilEig[0,:]).real/GHz,'.',\\\n",
    "            markersize = 8)\n",
    "plt.xlabel(\"$\\Phi_{ext}/\\Phi_0$\")\n",
    "plt.ylabel(\"($\\omega_i$)GHz\")\n",
    "# plt.savefig(\"fig1\")"
   ]
  },
  {
   "cell_type": "markdown",
   "metadata": {},
   "source": [
    "## Circuit Hamiltonian\n",
    "In this section, I diogonalize the circuit Hamiltonian without using the Qcircuit Class. The corrected version of the Hamiltonian of the paper is:\n",
    "\n",
    "\\begin{equation}\n",
    "\\begin{aligned}\n",
    "H &=H_{O}+H_{C}+H_{\\mathrm{int}} \\\\\n",
    "H_{\\mathrm{O}} &=\\hbar \\omega_{1} a_{1}^{\\dagger} a_{1}+\\hbar \\omega_{2} a_{2}^{\\dagger} a_{2}-\\frac{\\hbar}{2 \\sqrt{Z_{1} Z_{2}}} \\tilde{c}_{12}^{-1}\\left(a_{1}-a_{1}^{\\dagger}\\right)\\left(a_{2}-a_{2}^{\\dagger}\\right)-\\frac{E_{J 12}}{2}\\left(e^{i \\phi_{\\mathrm{var}}} D_{1}^{\\dagger}\\left(\\alpha_{1}\\right) D_{2}^{\\dagger}\\left(-\\alpha_{2}\\right)+\\mathrm{h.c.}\\right) \\\\\n",
    "H_{\\mathrm{C}} &=\\frac{1}{2} \\tilde{c}_{33}^{-1} \\tilde{Q}_{3}^{2} \\\\\n",
    "H_{\\mathrm{int}} &=-i \\sqrt{\\frac{\\hbar}{2 Z_{1}}} \\tilde{c}_{13}^{-1}\\left(a_{1}-a_{1}^{\\dagger}\\right) \\tilde{Q}_{3}-i \\sqrt{\\frac{\\hbar}{2 Z_{2}}} \\tilde{c}_{23}^{-1}\\left(a_{2}-a_{2}^{\\dagger}\\right) \\tilde{Q}_{3}-\\frac{E_{122}}{2}\\left(e^{-i \\phi_{\\mathrm{ix}}} D_{2}^{\\dagger}\\left(\\alpha_{2}\\right) d_{3}^{-}+\\mathrm{h.c.}\\right) \\\\\n",
    "&-\\frac{E_{\\mathrm{J} 33}}{2}\\left(D_{1}^{\\dagger}\\left(\\alpha_{1}\\right) D_{2}^{\\dagger}\\left(\\alpha_{2}\\right) d_{3}^{-}+\\mathrm{h.c.}\\right)\n",
    "\\end{aligned}\n",
    "\\end{equation}\n"
   ]
  },
  {
   "cell_type": "code",
   "execution_count": 139,
   "metadata": {
    "scrolled": false
   },
   "outputs": [
    {
     "name": "stdout",
     "output_type": "stream",
     "text": [
      "1st frequency: 71.17323277860973\n",
      "2nd frequency: 29.58065928330362\n",
      "3rd frequency: 5.481868369201006\n",
      "[[ 7.95238698e+12 -5.31404281e+12 -4.03473884e+12]\n",
      " [-5.31404281e+12  1.18741408e+13 -2.02490060e+12]\n",
      " [-4.03473884e+12 -2.02490060e+12  4.10885805e+13]]\n",
      "[[ 7.95238698e+12 -5.31404281e+12 -2.32945755e+12]\n",
      " [-5.31404281e+12  1.18741408e+13 -1.16907690e+12]\n",
      " [-4.03473884e+12 -2.02490060e+12  1.36961935e+13]]\n",
      "[67.46265936 37.27511314  0.        ]\n",
      "0.1461403925928947j 0.16282277588255015j\n"
     ]
    }
   ],
   "source": [
    "R = np.array([[1,0,1],[0,1,1],[1,1,1]])\n",
    "RInv = np.linalg.inv(R)\n",
    "Cx = cr1.giveMatC()\n",
    "Lx = cr1.giveMatL()\n",
    "_ ,S = np.linalg.eig(Lx)\n",
    "lRotated = R @ Lx @ R \n",
    "cInvRotated = RInv @ np.linalg.inv(Cx) @ RInv\n",
    "print(\"1st frequency:\", np.sqrt(lRotated[0,0]*cInvRotated[0,0])/GHz)\n",
    "print(\"2nd frequency:\", np.sqrt(lRotated[1,1]*cInvRotated[1,1])/GHz)\n",
    "print(\"3rd frequency:\", 4*cInvRotated[2,2]*e**2/GHz/hbar)\n",
    "# print(cr1.JJEqRotated)\n",
    "# print(cr1.JJEq@R)\n",
    "Z1 = np.sqrt(cInvRotated[0,0]/lRotated[0,0])\n",
    "Z2 = np.sqrt(cInvRotated[1,1]/lRotated[1,1])\n",
    "omega = np.sqrt(np.diag(cInvRotated)*np.diag(lRotated))\n",
    "\n",
    "print(S.T @ np.linalg.inv(Cx) @ S)\n",
    "print(cr1.cInvRotated)\n",
    "print(cr1.omega/GHz)\n",
    "alpha1 = 1j*2*np.pi/Phi0*np.sqrt(hbar*Z1/2)\n",
    "alpha2 = 1j*2*np.pi/Phi0*np.sqrt(hbar*Z2/2)\n",
    "print(alpha1,alpha2)"
   ]
  },
  {
   "cell_type": "code",
   "execution_count": 140,
   "metadata": {},
   "outputs": [],
   "source": [
    "m = 15\n",
    "def Hamil(phi):\n",
    "    I = q.qeye(m);\n",
    "    num = q.num(m);\n",
    "    charge = q.charge((m-1)/2)\n",
    "    d = cr1.chargeDisp(m)\n",
    "    intr = q.destroy(m) - q.create(m)\n",
    "    \n",
    "    HLC = omega[0]*q.tensor(num,I,I) +\\\n",
    "    omega[1]*q.tensor(I,num,I) +\\\n",
    "    0.5*(2*e)**2*cInvRotated[2,2]/hbar*q.tensor(I,I,charge)*q.tensor(I,I,charge)-\\\n",
    "    1/np.sqrt(Z1*Z2)/2*cInvRotated[0,1]*q.tensor(intr,intr,I) -\\\n",
    "    1j*np.sqrt(1/(2*hbar*Z1))*(2*e)*cInvRotated[0,2]*q.tensor(intr,I,charge) -\\\n",
    "    1j*np.sqrt(1/(2*hbar*Z2))*(2*e)*cInvRotated[1,2]*q.tensor(I,intr,charge)\n",
    "    \n",
    "    alpha1 = 1j*2*np.pi/Phi0*np.sqrt(hbar*Z1/2)\n",
    "    alpha2 = 1j*2*np.pi/Phi0*np.sqrt(hbar*Z2/2)\n",
    "    \n",
    "    HJ12 = JJ[4]/2*np.exp(1j*phi)*q.tensor(q.displace(m,alpha1),q.displace(m,-alpha2),I)\n",
    "    HJ22 = JJ[1]/2*q.tensor(I,q.displace(m,alpha2),d);\n",
    "    HJ33 = JJ[3]/2*q.tensor(q.displace(m,alpha1),q.displace(m,alpha2),d)\n",
    "    \n",
    "    H = HLC +  HJ12+HJ12.dag() + HJ22+HJ22.dag() + HJ33+HJ33.dag()\n",
    "    return H"
   ]
  },
  {
   "cell_type": "code",
   "execution_count": 141,
   "metadata": {
    "scrolled": true
   },
   "outputs": [
    {
     "name": "stdout",
     "output_type": "stream",
     "text": [
      "0\n",
      "1\n"
     ]
    }
   ],
   "source": [
    "HamilEig = np.zeros((m**3,len(phiExt)),dtype='complex');\n",
    "for i in range(len(phiExt)):\n",
    "    print(i)\n",
    "    if(i==1):\n",
    "        continue\n",
    "    H = Hamil(phiExt[i]);\n",
    "    eigenValues , eigenVectors = H.eigenstates();\n",
    "    HamilEig[:,i] = eigenValues"
   ]
  },
  {
   "cell_type": "code",
   "execution_count": 142,
   "metadata": {},
   "outputs": [
    {
     "name": "stdout",
     "output_type": "stream",
     "text": [
      "0.0\n",
      "29.435985250747763\n",
      "58.87197308454779\n",
      "71.0611565685831\n",
      "88.30794449945097\n",
      "100.4971467134601\n",
      "117.74351785349427\n",
      "129.93313944002148\n",
      "142.12231501869974\n",
      "147.1736961072893\n"
     ]
    }
   ],
   "source": [
    "for i in range(10):\n",
    "    print(HamilEig[i,0].real/GHz-HamilEig[0,0].real/GHz)"
   ]
  },
  {
   "cell_type": "code",
   "execution_count": 133,
   "metadata": {
    "scrolled": false
   },
   "outputs": [
    {
     "data": {
      "text/plain": [
       "Text(0, 0.5, '($\\\\omega_i$)GHz')"
      ]
     },
     "execution_count": 133,
     "metadata": {},
     "output_type": "execute_result"
    },
    {
     "data": {
      "image/png": "[encoded data removed]",
      "text/plain": [
       "<Figure size 460.8x403.2 with 1 Axes>"
      ]
     },
     "metadata": {},
     "output_type": "display_data"
    }
   ],
   "source": [
    "plt.figure()\n",
    "for i in range(4):\n",
    "    plt.plot(phiExt/2/np.pi,HamilEig[i,:].real/GHz-np.min(HamilEig[0,:]).real/GHz,'.',\\\n",
    "            markersize = 8)\n",
    "plt.xlabel(\"$\\Phi_{ext}/\\Phi_0$\")\n",
    "plt.ylabel(\"($\\omega_i$)GHz\")\n",
    "# plt.savefig(\"fig2\")"
   ]
  },
  {
   "cell_type": "markdown",
   "metadata": {},
   "source": [
    "## JJ part of the Hamiltonian\n",
    "In this part I want to study the $E_{J12}$ part of the Hamiltonian individually\n",
    "$$\n",
    "H_{J12} = -\\frac{E_{J12}}{2}\\left(D_{1}^{\\dagger}\\left(\\alpha_{1}\\right) D_{2}^{\\dagger}\\left(\\alpha_{2}\\right)+\\mathrm{h.c.}\\right)\n",
    "$$\n"
   ]
  },
  {
   "cell_type": "code",
   "execution_count": 109,
   "metadata": {},
   "outputs": [],
   "source": [
    "R = np.array([[1,0,1],[0,1,1],[1,1,1]])\n",
    "RInv = np.linalg.inv(R)\n",
    "Cx = cr1.giveMatC()\n",
    "Lx = cr1.giveMatL()\n",
    "lRotated = R @ Lx @ R \n",
    "cInvRotated = RInv @ np.linalg.inv(Cx) @ RInv\n",
    "Z1 = np.sqrt(cInvRotated[0,0]/lRotated[0,0])\n",
    "Z2 = np.sqrt(cInvRotated[1,1]/lRotated[1,1])\n",
    "alpha1 = 1j*2*np.pi/Phi0*np.sqrt(hbar*Z1/2)\n",
    "alpha2 = 1j*2*np.pi/Phi0*np.sqrt(hbar*Z2/2)\n",
    "phi = 0\n",
    "\n",
    "def Hamil_JJ12(m):\n",
    "    print(m)\n",
    "    H = -JJ[4]/2*np.exp(1j*phi)*q.tensor(q.displace(m[0],alpha1),q.displace(m[1],-alpha2),q.qeye(m[2]))\n",
    "    H = H + H.dag()\n",
    "    print(JJ[4])\n",
    "    return H\n",
    "\n",
    "def eigH_JJ12(m,j):\n",
    "    numEig=3\n",
    "    HamilEig = np.zeros((numEig,len(m[j])),dtype='complex');\n",
    "    for i0 in range(len(m[j])):\n",
    "        mList= [];\n",
    "        for i1 in range(len(m)):\n",
    "            if(i1==j):\n",
    "                mList.append(int(m[i1][i0])) \n",
    "            else:\n",
    "                mList.append(m[i1])\n",
    "        H = Hamil_JJ12(mList)\n",
    "        eigenValues , eigenVectors = H.eigenstates();\n",
    "        HamilEig[:,i0] = eigenValues[0:numEig]\n",
    "    return HamilEig"
   ]
  },
  {
   "cell_type": "code",
   "execution_count": 137,
   "metadata": {
    "scrolled": true
   },
   "outputs": [
    {
     "name": "stdout",
     "output_type": "stream",
     "text": [
      "[8, 17, 21]\n",
      "[9, 17, 21]\n",
      "[10, 17, 21]\n",
      "[11, 17, 21]\n",
      "[12, 17, 21]\n",
      "[13, 17, 21]\n",
      "[14, 17, 21]\n",
      "[15, 17, 21]\n",
      "[16, 17, 21]\n",
      "[17, 17, 21]\n",
      "[18, 17, 21]\n",
      "[19, 17, 21]\n"
     ]
    }
   ],
   "source": [
    "m = [np.linspace(8,19,12),17,21]\n",
    "HamilEig = eigH_JJ12(m,0)"
   ]
  },
  {
   "cell_type": "code",
   "execution_count": 138,
   "metadata": {
    "scrolled": false
   },
   "outputs": [
    {
     "data": {
      "text/plain": [
       "Text(0, 0.5, '($\\\\omega_i$)GHz')"
      ]
     },
     "execution_count": 138,
     "metadata": {},
     "output_type": "execute_result"
    },
    {
     "data": {
      "image/png": "[encoded data removed]",
      "text/plain": [
       "<Figure size 460.8x403.2 with 1 Axes>"
      ]
     },
     "metadata": {},
     "output_type": "display_data"
    }
   ],
   "source": [
    "plt.figure()\n",
    "for i in range(3):\n",
    "    plt.plot(m[0],(HamilEig[i,:]-HamilEig[0,:]).real/GHz,'.',markersize=9)\n",
    "plt.xlabel(\"number of FuckState\")\n",
    "plt.ylabel(\"($\\omega_i$)GHz\")"
   ]
  },
  {
   "cell_type": "code",
   "execution_count": 83,
   "metadata": {},
   "outputs": [
    {
     "name": "stdout",
     "output_type": "stream",
     "text": [
      "[10, 10, 10]\n",
      "9801769079200.154\n"
     ]
    }
   ],
   "source": [
    "H = Hamil_JJ12([10,10,10])\n",
    "I0, J0 = H.data.shape\n",
    "x = np.zeros(H.data.shape, dtype= \"complex\")\n",
    "for i in range(I0):\n",
    "    x[i,i] = H.data[i,i]\n",
    "# eigVal , eigState = np.linalg.eig(x)\n",
    "# print(eigVal)\n",
    "eigVal , eigState = H.eigenstates()\n",
    "# print(eigVal)"
   ]
  }
 ],
 "metadata": {
  "kernelspec": {
   "display_name": "Python 3",
   "language": "python",
   "name": "python3"
  },
  "language_info": {
   "codemirror_mode": {
    "name": "ipython",
    "version": 3
   },
   "file_extension": ".py",
   "mimetype": "text/x-python",
   "name": "python",
   "nbconvert_exporter": "python",
   "pygments_lexer": "ipython3",
   "version": "3.7.3"
  }
 },
 "nbformat": 4,
 "nbformat_minor": 2
}
