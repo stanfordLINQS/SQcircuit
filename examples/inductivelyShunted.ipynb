{
 "cells": [
  {
   "cell_type": "markdown",
   "metadata": {},
   "source": [
    "## Inductively shunted superconducting circuits"
   ]
  },
  {
   "cell_type": "markdown",
   "metadata": {},
   "source": [
    "In this notebook, we use SQcircuit to find the spectrum of the inductively shunted superconducting circuits based on the following paper:   \n",
    "_inductively shunted superconducting circuits_  "
   ]
  },
  {
   "cell_type": "markdown",
   "metadata": {},
   "source": [
    "First, we import the SQcircuit from circuit.py file and specify a number for each nodes on the circuit. The number for each node should be consecutive integer starts from zero(corresponds to circuit ground.) "
   ]
  },
  {
   "cell_type": "code",
   "execution_count": 35,
   "metadata": {},
   "outputs": [],
   "source": [
    "from circuit import *\n",
    "import matplotlib.pyplot as plt"
   ]
  },
  {
   "cell_type": "code",
   "execution_count": 38,
   "metadata": {},
   "outputs": [],
   "source": [
    "H = q.displace(10,3)"
   ]
  },
  {
   "cell_type": "code",
   "execution_count": 41,
   "metadata": {},
   "outputs": [],
   "source": [
    "x = H.data"
   ]
  },
  {
   "cell_type": "code",
   "execution_count": 45,
   "metadata": {},
   "outputs": [
    {
     "data": {
      "text/plain": [
       "matrix([[ 0.01051048+0.j, -0.03645379+0.j,  0.05986826+0.j,\n",
       "         -0.15112048+0.j,  0.12213661+0.j, -0.35727688+0.j,\n",
       "          0.12994541+0.j, -0.57685717+0.j,  0.07462745+0.j,\n",
       "         -0.68873483+0.j],\n",
       "        [ 0.03645379+0.j, -0.07415603+0.j,  0.2101949 +0.j,\n",
       "         -0.14057835+0.j,  0.49665443+0.j, -0.04519417+0.j,\n",
       "          0.65107456+0.j,  0.13272492+0.j,  0.43460603+0.j,\n",
       "          0.22388235+0.j],\n",
       "        [ 0.05986826+0.j, -0.2101949 +0.j,  0.14034985+0.j,\n",
       "         -0.55179861+0.j, -0.04098594+0.j, -0.59504752+0.j,\n",
       "         -0.23469891+0.j, -0.05906271+0.j, -0.15670676+0.j,\n",
       "          0.43492955+0.j],\n",
       "        [ 0.15112048+0.j, -0.14057835+0.j,  0.55179861+0.j,\n",
       "          0.07289458+0.j,  0.53655754+0.j,  0.24210089+0.j,\n",
       "         -0.21970435+0.j,  0.005762  +0.j, -0.49491473+0.j,\n",
       "         -0.08862489+0.j],\n",
       "        [ 0.12213661+0.j, -0.49665443+0.j, -0.04098594+0.j,\n",
       "         -0.53655754+0.j, -0.2332773 +0.j,  0.35364507+0.j,\n",
       "          0.08563419+0.j,  0.35812379+0.j,  0.005374  +0.j,\n",
       "         -0.36571206+0.j],\n",
       "        [ 0.35727688+0.j, -0.04519417+0.j,  0.59504752+0.j,\n",
       "          0.24210089+0.j, -0.35364507+0.j, -0.11054324+0.j,\n",
       "         -0.23284856+0.j,  0.0996798 +0.j,  0.50098377+0.j,\n",
       "         -0.07205853+0.j],\n",
       "        [ 0.12994541+0.j, -0.65107456+0.j, -0.23469891+0.j,\n",
       "          0.21970435+0.j,  0.08563419+0.j,  0.23284856+0.j,\n",
       "         -0.14003676+0.j, -0.50307062+0.j,  0.2082594 +0.j,\n",
       "          0.27972939+0.j],\n",
       "        [ 0.57685717+0.j,  0.13272492+0.j,  0.05906271+0.j,\n",
       "          0.005762  +0.j, -0.35812379+0.j,  0.0996798 +0.j,\n",
       "          0.50307062+0.j, -0.27038987+0.j, -0.39116759+0.j,\n",
       "          0.16943073+0.j],\n",
       "        [ 0.07462745+0.j, -0.43460603+0.j, -0.15670676+0.j,\n",
       "          0.49491473+0.j,  0.005374  +0.j, -0.50098377+0.j,\n",
       "          0.2082594 +0.j,  0.39116759+0.j, -0.25528946+0.j,\n",
       "         -0.153233  +0.j],\n",
       "        [ 0.68873483+0.j,  0.22388235+0.j, -0.43492955+0.j,\n",
       "         -0.08862489+0.j,  0.36571206+0.j, -0.07205853+0.j,\n",
       "         -0.27972939+0.j,  0.16943073+0.j,  0.153233  +0.j,\n",
       "         -0.09554864+0.j]])"
      ]
     },
     "execution_count": 45,
     "metadata": {},
     "output_type": "execute_result"
    }
   ],
   "source": [
    "x.todense()"
   ]
  },
  {
   "cell_type": "code",
   "execution_count": null,
   "metadata": {},
   "outputs": [],
   "source": []
  },
  {
   "cell_type": "markdown",
   "metadata": {},
   "source": [
    "<img src=\"pics/inductivelyShunted_pic1.png\" width=\"300\" />"
   ]
  },
  {
   "cell_type": "markdown",
   "metadata": {},
   "source": [
    "We use Parameter Set for device A of the paper. Note that we added a very small junction $C_x$ to the circuit, because Qcircuit assumes that there is a capacitor between each two nodes of the circuit. If your model does not have a capacitor at specific edge just add a very small capacitor to that edge. "
   ]
  },
  {
   "cell_type": "markdown",
   "metadata": {},
   "source": [
    "<img src=\"pics/inductivelyShunted_pic2.png\" width=\"350\" />"
   ]
  },
  {
   "cell_type": "markdown",
   "metadata": {},
   "source": [
    "We create the object of SQcircuit by initializing it with `circuitParam` dictionary."
   ]
  },
  {
   "cell_type": "code",
   "execution_count": 5,
   "metadata": {},
   "outputs": [
    {
     "name": "stdout",
     "output_type": "stream",
     "text": [
      "Natural frequencies of the circuit:\n",
      "[5.37508633e+13 4.95852225e+10 2.19742534e+10]\n",
      "W transformed matrix:\n",
      "[[-1.  1.  1.]]\n"
     ]
    }
   ],
   "source": [
    "circuitParam = {(0, 1): {\"C\": 20.3 * fF},\n",
    "                (0, 2): {\"C\": 0.0001 * fF, \"L\": 4.5 * nH},\n",
    "                (0, 3): {\"C\": 5.3 * fF, \"JJ\": 6.2 * GHz * 2 * np.pi},\n",
    "                (1, 2): {\"L\": 15.6 * nH},\n",
    "                (2, 3): {\"L\": 386 * nH}}\n",
    "\n",
    "# cr1 is an object of SQcircuit\n",
    "cr1 = SQcircuit(circuitParam)\n",
    "# call this function to set the truncation number for each mode of the circuit. \n",
    "cr1.setTruncationNumbers([1,5,22])"
   ]
  },
  {
   "cell_type": "markdown",
   "metadata": {},
   "source": [
    "## Circuit Eigenvalues"
   ]
  },
  {
   "cell_type": "code",
   "execution_count": 6,
   "metadata": {},
   "outputs": [],
   "source": [
    "numEig = 10\n",
    "phiExt = np.linspace(-0.1, 0.6, 100)*2*np.pi\n",
    "eigenValues = np.zeros((numEig, len(phiExt)))\n",
    "for i in range(len(phiExt)):\n",
    "    cr1.setExternalFluxes({(0, 3): phiExt[i]})\n",
    "    eigenValues[:, i], _ = cr1.run(numEig)"
   ]
  },
  {
   "cell_type": "code",
   "execution_count": 7,
   "metadata": {},
   "outputs": [
    {
     "data": {
      "text/plain": [
       "(0.0, 18.0)"
      ]
     },
     "execution_count": 7,
     "metadata": {},
     "output_type": "execute_result"
    },
    {
     "data": {
      "image/png": "[encoded data removed]",
      "text/plain": [
       "<Figure size 432x288 with 1 Axes>"
      ]
     },
     "metadata": {
      "needs_background": "light"
     },
     "output_type": "display_data"
    }
   ],
   "source": [
    "plt.figure()\n",
    "for i in range(1,numEig):\n",
    "    plt.plot(phiExt/2/np.pi,(eigenValues[i,:]-eigenValues[0,:]).real/GHz/2/np.pi)\n",
    "\n",
    "plt.xlabel(\"$\\Phi_{ext}/\\Phi_0$\")\n",
    "plt.ylabel(\"($\\omega_i-\\omega_0$)GHz\")\n",
    "plt.ylim([0,18])"
   ]
  },
  {
   "cell_type": "markdown",
   "metadata": {},
   "source": [
    "The next cell shows the spectrum from the figure 2 of the paper, which is the same spectrum that SQcircuit calculated."
   ]
  },
  {
   "cell_type": "markdown",
   "metadata": {},
   "source": [
    "<img src=\"pics/inductivelyShunted_pic3.png\" width=\"380\" align = \"left\" />"
   ]
  }
 ],
 "metadata": {
  "kernelspec": {
   "display_name": "Python 3 (ipykernel)",
   "language": "python",
   "name": "python3"
  },
  "language_info": {
   "codemirror_mode": {
    "name": "ipython",
    "version": 3
   },
   "file_extension": ".py",
   "mimetype": "text/x-python",
   "name": "python",
   "nbconvert_exporter": "python",
   "pygments_lexer": "ipython3",
   "version": "3.9.7"
  }
 },
 "nbformat": 4,
 "nbformat_minor": 2
}
