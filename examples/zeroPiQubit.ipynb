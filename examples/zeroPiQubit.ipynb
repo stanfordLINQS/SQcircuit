{
 "cells": [
  {
   "cell_type": "markdown",
   "metadata": {},
   "source": [
    "# 0-π Qubit\n",
    "\n",
    "In this notebook, we try to reproduce the result of the [\"Coherence properties of the 0-π qubit\"](https://iopscience-iop-org.stanford.idm.oclc.org/article/10.1088/1367-2630/aab7cd) paper."
   ]
  },
  {
   "cell_type": "markdown",
   "metadata": {},
   "source": [
    "## Introduction"
   ]
  },
  {
   "cell_type": "markdown",
   "metadata": {},
   "source": [
    "Our goal is to reproduce the enegry spectrum and eigenfunctions that [Groszkowski2018](https://iopscience-iop-org.stanford.idm.oclc.org/article/10.1088/1367-2630/aab7cd) is calculated for the $0-\\pi$ qubit. The diagram of the circuit is"
   ]
  },
  {
   "cell_type": "markdown",
   "metadata": {},
   "source": [
    "<img src=\"pics/zeroPiQubit_pic1.png\" width=\"220\" align=\"left\" />"
   ]
  },
  {
   "cell_type": "markdown",
   "metadata": {},
   "source": [
    "We choose the parameter set 3 for the circuit from the following table of the paper:"
   ]
  },
  {
   "cell_type": "markdown",
   "metadata": {},
   "source": [
    "<img src=\"pics/zeroPiQubit_pic2.png\" width=\"400\" align=\"left\" />"
   ]
  },
  {
   "cell_type": "markdown",
   "metadata": {},
   "source": [
    "## Circuit Description"
   ]
  },
  {
   "cell_type": "markdown",
   "metadata": {},
   "source": [
    "Firstly, we import the SQcircuit and the relavant libraries"
   ]
  },
  {
   "cell_type": "code",
   "execution_count": 1,
   "metadata": {},
   "outputs": [],
   "source": [
    "import SQcircuit as sq\n",
    "import matplotlib.pyplot as plt\n",
    "import numpy as np"
   ]
  },
  {
   "cell_type": "markdown",
   "metadata": {},
   "source": [
    "We define the single inductive loop of the circuit via `Loop` class"
   ]
  },
  {
   "cell_type": "code",
   "execution_count": 2,
   "metadata": {},
   "outputs": [],
   "source": [
    "loop1 = sq.Loop()"
   ]
  },
  {
   "cell_type": "markdown",
   "metadata": {},
   "source": [
    "The elements of the circuit can be defined via `Capacitor`, `Inductor`, and `Junction` classes in SQcircuit, and to define the circuit, we use the `Circuit` class. "
   ]
  },
  {
   "cell_type": "code",
   "execution_count": 3,
   "metadata": {
    "scrolled": true
   },
   "outputs": [],
   "source": [
    "# define the circuit ’s elements\n",
    "C = sq.Capacitor(0.15, \"GHz\")\n",
    "CJ = sq.Capacitor(10, \"GHz\")\n",
    "JJ = sq.Junction(5, \"GHz\", loops=[loop1])\n",
    "L = sq.Inductor(0.13, \"GHz\", loops=[loop1])\n",
    "\n",
    "# define the circuit\n",
    "elements = {(0, 1): [CJ, JJ],\n",
    "            (0, 2): [L],\n",
    "            (0, 3): [C],\n",
    "            (1, 2): [C],\n",
    "            (1, 3): [L],\n",
    "            (2, 3): [CJ, JJ]}\n",
    "\n",
    "zrPi = sq.Circuit(elements, fluxDist = \"junction\")"
   ]
  },
  {
   "cell_type": "markdown",
   "metadata": {},
   "source": [
    "By creating an object of `Circuit` class, SQcircuit systematically finds the correct set of transformations and basis to make the circuit ready to be diagonalized. Since the author of the paper assianged the external flux distribution to the junctions, we set the the `fluxDist` argument to `\"junction\"` to produce the same result.\n",
    "\n",
    "Before setting the truncation numbers for each mode and diagonalizing the Hamiltonian, we can gain more insight into our circuit by calling the `description()` method. This prints out which mode in SQcircuit is the charge mode or the harmonic mode with its natural frequency in GHz( the default unit). Moreover, it shows the prefactors in the Josephson junction part of the Hamiltonian $\\tilde{\\textbf{w}}_k$, which helps find the modes decoupled from the nonlinearity of the circuit."
   ]
  },
  {
   "cell_type": "code",
   "execution_count": 4,
   "metadata": {},
   "outputs": [
    {
     "name": "stdout",
     "output_type": "stream",
     "text": [
      "mode_1: \tharmonic\tfreq=3.2248877883788323\n",
      "mode_2: \tharmonic\tfreq=0.39496850170368347\n",
      "mode_3: \tcharge\n",
      "w1: \t[-1.  0.  1.]\n",
      "w2: \t[-1.  0. -1.]\n"
     ]
    }
   ],
   "source": [
    "zrPi.description()"
   ]
  },
  {
   "cell_type": "markdown",
   "metadata": {},
   "source": [
    "The above output shows that the first two modes of the `zrPi` circuit are harmonic modes with the natural frequency of 3.22 and 0.39 in the frequency unit of SQcircuit (which is GHz in default), and the third mode is a charge mode. From `w1` and `w2`, it becomes clear that the prefactor of the second mode is zero for both Josephson Junctions, which means that the second mode is decoupled from the other modes. We can remove it by setting its truncation number to one."
   ]
  },
  {
   "cell_type": "markdown",
   "metadata": {},
   "source": [
    "To determine the size of the Hilbert space, we specify the truncation number for each circuit mode via `truncationNumbers()` method. Note that this is a necessary step before diagonalizing the circuit."
   ]
  },
  {
   "cell_type": "code",
   "execution_count": 5,
   "metadata": {},
   "outputs": [],
   "source": [
    "zrPi.truncationNumbers([35, 1, 11])"
   ]
  },
  {
   "cell_type": "markdown",
   "metadata": {},
   "source": [
    "## Circuit Spectrum"
   ]
  },
  {
   "cell_type": "markdown",
   "metadata": {},
   "source": [
    "To generate the spectrum of the circuit, firstly, we need to change and sweep the external flux of `loop1` by the `setFlux()` method. Then, we need to find the eigenfrequencies of the circuit that correspond to that external flux via `diag()` method. The following lines of code find the `spec` a 2D NumPy array so that each column of it contains the eigenfrequencies with respect to its external flux. "
   ]
  },
  {
   "cell_type": "code",
   "execution_count": 6,
   "metadata": {},
   "outputs": [],
   "source": [
    "# external flux for sweeping over\n",
    "phi = np.linspace(0,1,100)\n",
    "\n",
    "# spectrum of the circuit\n",
    "numEig=5\n",
    "spec = np.zeros((numEig, len(phi)))\n",
    "\n",
    "for i in range(len(phi)):\n",
    "    # set the external flux for the loop\n",
    "    loop1.setFlux(phi[i])\n",
    "    \n",
    "    # diagonlize the circuit\n",
    "    spec[:, i], _ = zrPi.diag(numEig)"
   ]
  },
  {
   "cell_type": "code",
   "execution_count": 7,
   "metadata": {},
   "outputs": [
    {
     "data": {
      "image/png": "[encoded data removed]",
      "text/plain": [
       "<Figure size 432x288 with 1 Axes>"
      ]
     },
     "metadata": {
      "needs_background": "light"
     },
     "output_type": "display_data"
    }
   ],
   "source": [
    "plt.figure()\n",
    "for i in range(numEig):\n",
    "    plt.plot(phi, spec[i,:]- spec[0,:])\n",
    "    \n",
    "plt.xlabel(r\"$\\Phi_{ext}/\\Phi_0$\", fontsize=13)\n",
    "plt.ylabel(r\"$f_i-f_0$[GHz]\", fontsize=13)\n",
    "plt.show()"
   ]
  },
  {
   "cell_type": "markdown",
   "metadata": {},
   "source": [
    "The next cell shows the spectrum from the figure 4 of the paper, which is the same spectrum that SQcircuit calculated."
   ]
  },
  {
   "cell_type": "markdown",
   "metadata": {},
   "source": [
    "<img src=\"pics/zeroPiQubit_pic3.png\" width=\"250\" align = \"left\" />"
   ]
  },
  {
   "cell_type": "markdown",
   "metadata": {},
   "source": [
    "## Eigenfunctions"
   ]
  },
  {
   "cell_type": "markdown",
   "metadata": {},
   "source": [
    "We generate the eigenfunction in the phase space by `eigPhaseCoordinate()` method for the ground and first excited state. To calculate the eigenfunction at $\\Phi_{ext} = 0.9\\Phi_0$ similar to paper, we set back the flux of our loop to $0.9\\Phi_0$ and diagonalize the `zrPi` again."
   ]
  },
  {
   "cell_type": "code",
   "execution_count": 8,
   "metadata": {},
   "outputs": [],
   "source": [
    "loop1.setFlux(0.9)\n",
    "zrPi.truncationNumbers([35, 1, 11])\n",
    "_, _ = zrPi.diag(numEig)"
   ]
  },
  {
   "cell_type": "code",
   "execution_count": 9,
   "metadata": {},
   "outputs": [],
   "source": [
    "# create a range for each mode\n",
    "phi1=np.pi*np.linspace(-1,1,100)\n",
    "phi2=0\n",
    "phi3=np.pi*np.linspace(-0.5,1.5,100)\n",
    "\n",
    "# the ground state\n",
    "state0 = zrPi.eigPhaseCoordinate(eigInd = 0, grid = [phi1, phi2, phi3])\n",
    "    \n",
    "# the first excited state\n",
    "state1 = zrPi.eigPhaseCoordinate(eigInd = 1, grid = [phi1, phi2, phi3])"
   ]
  },
  {
   "cell_type": "code",
   "execution_count": 10,
   "metadata": {
    "scrolled": true
   },
   "outputs": [
    {
     "data": {
      "text/plain": [
       "Text(0, 0.5, '$\\\\theta$')"
      ]
     },
     "execution_count": 10,
     "metadata": {},
     "output_type": "execute_result"
    },
    {
     "data": {
      "image/png": "[encoded data removed]",
      "text/plain": [
       "<Figure size 360x144 with 1 Axes>"
      ]
     },
     "metadata": {
      "needs_background": "light"
     },
     "output_type": "display_data"
    }
   ],
   "source": [
    "plt.figure(figsize=(5, 2))\n",
    "plt.pcolor(phi1, phi3, np.abs(state0)**2,cmap=\"binary\",shading='auto')\n",
    "plt.xlabel(r'$\\phi$')\n",
    "plt.ylabel(r'$\\theta$')"
   ]
  },
  {
   "cell_type": "code",
   "execution_count": 11,
   "metadata": {},
   "outputs": [
    {
     "data": {
      "text/plain": [
       "Text(0, 0.5, '$\\\\theta$')"
      ]
     },
     "execution_count": 11,
     "metadata": {},
     "output_type": "execute_result"
    },
    {
     "data": {
      "image/png": "[encoded data removed]",
      "text/plain": [
       "<Figure size 360x144 with 1 Axes>"
      ]
     },
     "metadata": {
      "needs_background": "light"
     },
     "output_type": "display_data"
    }
   ],
   "source": [
    "plt.figure(figsize=(5, 2))\n",
    "plt.pcolor(phi1, phi3, np.abs(state1)**2,cmap=\"binary\",shading='auto')\n",
    "plt.xlabel(r'$\\phi$')\n",
    "plt.ylabel(r'$\\theta$')"
   ]
  }
 ],
 "metadata": {
  "kernelspec": {
   "display_name": "Python 3 (ipykernel)",
   "language": "python",
   "name": "python3"
  },
  "language_info": {
   "codemirror_mode": {
    "name": "ipython",
    "version": 3
   },
   "file_extension": ".py",
   "mimetype": "text/x-python",
   "name": "python",
   "nbconvert_exporter": "python",
   "pygments_lexer": "ipython3",
   "version": "3.9.7"
  }
 },
 "nbformat": 4,
 "nbformat_minor": 2
}
