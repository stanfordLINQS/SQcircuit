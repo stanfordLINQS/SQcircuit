{
 "cells": [
  {
   "cell_type": "markdown",
   "metadata": {},
   "source": [
    "# $0-\\pi$ Qubit \n",
    "In this notebook, we use SQcircuit to find the spectrum of the $0-\\pi$ Qubit based on the following paper:   \n",
    "_Coherence properties of the 0-π qubit_  "
   ]
  },
  {
   "cell_type": "markdown",
   "metadata": {},
   "source": [
    "First, we import the SQcircuit from circuit.py file and specify a number for each nodes on the circuit. The number for each node should be consecutive integer starts from zero(corresponds to circuit ground.) "
   ]
  },
  {
   "cell_type": "code",
   "execution_count": 1,
   "metadata": {},
   "outputs": [],
   "source": [
    "from circuit import *\n",
    "import matplotlib.pyplot as plt"
   ]
  },
  {
   "cell_type": "markdown",
   "metadata": {},
   "source": [
    "<img src=\"pics/zeroPiQubit_pic1.png\" width=\"200\" />"
   ]
  },
  {
   "cell_type": "markdown",
   "metadata": {},
   "source": [
    "We use Parameter Set 3 of the paper. By the following cell, we find the correspondance capacitance, inductance, and JJ energies to those values."
   ]
  },
  {
   "cell_type": "markdown",
   "metadata": {},
   "source": [
    "<img src=\"pics/zeroPiQubit_pic2.png\" width=\"650\" />"
   ]
  },
  {
   "cell_type": "code",
   "execution_count": 2,
   "metadata": {},
   "outputs": [],
   "source": [
    "### Parameter Set 1\n",
    "# E_C = hbar*2*np.pi*0.02*GHz\n",
    "# E_CJ = hbar*2*np.pi*20*GHz\n",
    "# E_J = hbar*2*np.pi*10*GHz\n",
    "# E_L = hbar*2*np.pi*0.008*GHz\n",
    "# C = e**2/2/E_C\n",
    "# C_J = e**2/2/E_CJ\n",
    "# L = (Phi0/2/np.pi)**2/E_L\n",
    "\n",
    "### Parameter Set 2\n",
    "# E_C = hbar*2*np.pi*0.04*GHz\n",
    "# E_CJ = hbar*2*np.pi*20*GHz\n",
    "# E_J = hbar*2*np.pi*10*GHz\n",
    "# E_L = hbar*2*np.pi*0.04*GHz\n",
    "# C = e**2/2/E_C\n",
    "# C_J = e**2/2/E_CJ\n",
    "# L = (Phi0/2/np.pi)**2/E_L\n",
    "\n",
    "### Parameter Set 3\n",
    "E_C = hbar*2*np.pi*0.15*GHz\n",
    "E_CJ = hbar*2*np.pi*10*GHz\n",
    "E_J = hbar*2*np.pi*5*GHz\n",
    "E_L = hbar*2*np.pi*0.13*GHz\n",
    "C = e**2/2/E_C\n",
    "C_J = e**2/2/E_CJ\n",
    "L = (Phi0/2/np.pi)**2/E_L"
   ]
  },
  {
   "cell_type": "markdown",
   "metadata": {},
   "source": [
    "We create the object of SQcircuit by initializing it with `circuitParam` dictionary."
   ]
  },
  {
   "cell_type": "code",
   "execution_count": 3,
   "metadata": {
    "scrolled": true
   },
   "outputs": [
    {
     "name": "stdout",
     "output_type": "stream",
     "text": [
      "Natural frequencies of the circuit:\n",
      "[2.02626722e+10 2.48166038e+09 0.00000000e+00]\n",
      "W transformed matrix:\n",
      "[[-1.  0.  1.]\n",
      " [-1.  0. -1.]]\n"
     ]
    }
   ],
   "source": [
    "# cicuitParam is a dictionary that contains the information about the graph structure,\n",
    "# capacitor values, inductor values, and Josephson Junction Values.\n",
    "# inductors should be in Henry\n",
    "# capacitors should be in Farad\n",
    "# JJ energies should be in Hz\n",
    "circuitParam={(0, 1): {\"C\": C_J, \"JJ\": E_J/hbar},\n",
    "              (0, 2): {\"L\": L},\n",
    "              (0, 3): {\"C\": C},\n",
    "              (1, 2): {\"C\": C},\n",
    "              (1, 3): {\"L\": L},\n",
    "              (2, 3): {\"C\": C_J, \"JJ\": E_J/hbar}}\n",
    "\n",
    "# cr is an object of Qcircuit\n",
    "cr1 = SQcircuit(circuitParam)"
   ]
  },
  {
   "cell_type": "markdown",
   "metadata": {},
   "source": [
    "## Circuit Eigenvalues"
   ]
  },
  {
   "cell_type": "code",
   "execution_count": 4,
   "metadata": {},
   "outputs": [],
   "source": [
    "cr1.setTruncationNumbers([25, 3, 25])\n",
    "numEig=5\n",
    "phiExt = np.linspace(0,1,100)*2*np.pi\n",
    "eigenValues = np.zeros((5, len(phiExt)))\n",
    "for i in range(len(phiExt)):\n",
    "    cr1.setExternalFluxes({(0, 1): phiExt[i]})\n",
    "    eigenValues[:, i], _ = cr1.run(numEig)"
   ]
  },
  {
   "cell_type": "code",
   "execution_count": 5,
   "metadata": {},
   "outputs": [
    {
     "data": {
      "image/png": "[encoded data removed]",
      "text/plain": [
       "<Figure size 432x288 with 1 Axes>"
      ]
     },
     "metadata": {
      "needs_background": "light"
     },
     "output_type": "display_data"
    }
   ],
   "source": [
    "plt.figure()\n",
    "for i in range(5):\n",
    "    plt.plot(phiExt/2/np.pi, (eigenValues[i, :]-eigenValues[0, :]).real/GHz/2/np.pi)\n",
    "\n",
    "plt.xlabel(r\"$\\Phi_{ext}/\\Phi_0$\")\n",
    "plt.ylabel(r\"($\\omega_i-\\omega_0$)GHz\")\n",
    "plt.show()"
   ]
  },
  {
   "cell_type": "markdown",
   "metadata": {},
   "source": [
    "The next cell shows the spectrum from the figure 4 of the paper, which is the same spectrum that Qcircuit calculated."
   ]
  },
  {
   "cell_type": "markdown",
   "metadata": {},
   "source": [
    "<img src=\"pics/zeroPiQubit_pic3.png\" width=\"250\" align = \"left\" />"
   ]
  },
  {
   "cell_type": "markdown",
   "metadata": {},
   "source": [
    "## Circuit Eigenvectors"
   ]
  },
  {
   "cell_type": "code",
   "execution_count": 6,
   "metadata": {},
   "outputs": [],
   "source": [
    "cr1.setTruncationNumbers([61, 1, 61])\n",
    "cr1.setExternalFluxes({(0, 1): 0})\n",
    "eigVec, eigVal = cr1.run(numEig=4)"
   ]
  },
  {
   "cell_type": "code",
   "execution_count": 7,
   "metadata": {},
   "outputs": [],
   "source": [
    "phi = np.pi*np.linspace(-1,1,100)\n",
    "theta = np.pi*np.linspace(-0.3,1.3,100)\n",
    "Phi, Theta = np.meshgrid(phi,theta)\n",
    "state0  = np.squeeze(cr1.eigVecPhaseSpace(0,[Phi ,0 , Theta]))"
   ]
  },
  {
   "cell_type": "code",
   "execution_count": 8,
   "metadata": {},
   "outputs": [
    {
     "data": {
      "text/plain": [
       "Text(0, 0.5, '$\\\\theta$')"
      ]
     },
     "execution_count": 8,
     "metadata": {},
     "output_type": "execute_result"
    },
    {
     "data": {
      "image/png": "[encoded data removed]",
      "text/plain": [
       "<Figure size 360x216 with 2 Axes>"
      ]
     },
     "metadata": {
      "needs_background": "light"
     },
     "output_type": "display_data"
    }
   ],
   "source": [
    "plt.figure(figsize=(5, 3))\n",
    "plt.pcolor(Phi, Theta, np.abs(state0),cmap=\"Purples\",shading='auto')\n",
    "plt.colorbar()\n",
    "plt.xlabel(r'$\\phi$')\n",
    "plt.ylabel(r'$\\theta$')"
   ]
  },
  {
   "cell_type": "code",
   "execution_count": null,
   "metadata": {},
   "outputs": [],
   "source": []
  }
 ],
 "metadata": {
  "kernelspec": {
   "display_name": "Python 3 (ipykernel)",
   "language": "python",
   "name": "python3"
  },
  "language_info": {
   "codemirror_mode": {
    "name": "ipython",
    "version": 3
   },
   "file_extension": ".py",
   "mimetype": "text/x-python",
   "name": "python",
   "nbconvert_exporter": "python",
   "pygments_lexer": "ipython3",
   "version": "3.9.7"
  }
 },
 "nbformat": 4,
 "nbformat_minor": 2
}
