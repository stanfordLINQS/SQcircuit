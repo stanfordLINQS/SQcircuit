{
 "cells": [
  {
   "cell_type": "markdown",
   "metadata": {},
   "source": [
    "# Double ZeroPi"
   ]
  },
  {
   "cell_type": "code",
   "execution_count": 1,
   "metadata": {},
   "outputs": [],
   "source": [
    "import sys, os\n",
    "os.chdir(\"../source\")\n",
    "import SQcircuit as sq\n",
    "import matplotlib.pyplot as plt\n",
    "import numpy as np\n",
    "from matplotlib.colors import LinearSegmentedColormap"
   ]
  },
  {
   "cell_type": "markdown",
   "metadata": {},
   "source": [
    "<img src=\"pics/doubleZeroPi.png\" width=\"220\" />"
   ]
  },
  {
   "cell_type": "code",
   "execution_count": 4,
   "metadata": {},
   "outputs": [],
   "source": [
    "loop1 = sq.Loop()\n",
    "loop2 = sq.Loop()\n",
    "\n",
    "CJ = sq.Capacitor(0.15, \"GHz\")\n",
    "JJ1 = sq.Junction(5, \"GHz\", loops=[loop1], cap = CJ)\n",
    "JJ2 = sq.Junction(5, \"GHz\", loops=[loop2], cap = CJ)\n",
    "L = sq.Inductor(0.13, \"GHz\", loops=[loop1,loop2])\n",
    "\n",
    "circuitElements = {(0, 1): [JJ1],\n",
    "                   (1, 2): [JJ1],\n",
    "                   (0, 3): [JJ2],\n",
    "                   (2, 3): [JJ2],\n",
    "                   (0, 2): [L]}\n",
    "\n",
    "cr1 = sq.Circuit(circuitElements)"
   ]
  },
  {
   "cell_type": "markdown",
   "metadata": {},
   "source": [
    "## Eigenfrequencies "
   ]
  },
  {
   "cell_type": "code",
   "execution_count": 5,
   "metadata": {},
   "outputs": [],
   "source": [
    "cr1.setTruncationNumbers([39,11,11])\n",
    "numEig=8\n",
    "phiExt = np.linspace(0,1,40)*2*np.pi\n",
    "eigenValues = np.zeros((numEig, len(phiExt)))\n",
    "for i in range(len(phiExt)):\n",
    "    loop1.setFlux(phiExt[i])\n",
    "    loop2.setFlux(phiExt[i])\n",
    "    eigenValues[:, i], _ = cr1.run(numEig)"
   ]
  },
  {
   "cell_type": "code",
   "execution_count": 6,
   "metadata": {},
   "outputs": [
    {
     "data": {
      "image/png": "[encoded data removed]",
      "text/plain": [
       "<Figure size 432x288 with 1 Axes>"
      ]
     },
     "metadata": {
      "needs_background": "light"
     },
     "output_type": "display_data"
    }
   ],
   "source": [
    "for i in range(numEig):\n",
    "    plt.plot(phiExt/2/np.pi, eigenValues[i,:]- eigenValues[0,:],'.-')\n",
    "\n",
    "plt.xlabel(r\"$\\Phi_{ext}/\\Phi_0$\")\n",
    "plt.ylabel(r\"($\\omega_i-\\omega_0$)GHz\")\n",
    "plt.show()"
   ]
  },
  {
   "cell_type": "markdown",
   "metadata": {},
   "source": [
    "## 1 arm len 4"
   ]
  },
  {
   "cell_type": "code",
   "execution_count": 2,
   "metadata": {},
   "outputs": [],
   "source": [
    "loop1 = sq.Loop()\n",
    "\n",
    "CJ = sq.Capacitor(0.15, \"GHz\")\n",
    "JJ1 = sq.Junction(5, \"GHz\", loops=[loop1], cap = CJ)\n",
    "L = sq.Inductor(0.13, \"GHz\", loops=[loop1])\n",
    "\n",
    "circuitElements = {(0, 1): [JJ1],\n",
    "                   (1, 2): [JJ1],\n",
    "                   (2, 3): [JJ1],\n",
    "                   (3, 4): [JJ1],\n",
    "                   (0, 4): [L]}\n",
    "\n",
    "cr1 = sq.Circuit(circuitElements)"
   ]
  },
  {
   "cell_type": "code",
   "execution_count": 3,
   "metadata": {},
   "outputs": [
    {
     "data": {
      "text/plain": [
       "array([4.96332e+09, 0.00000e+00, 0.00000e+00, 0.00000e+00])"
      ]
     },
     "execution_count": 3,
     "metadata": {},
     "output_type": "execute_result"
    }
   ],
   "source": [
    "cr1.omega"
   ]
  },
  {
   "cell_type": "code",
   "execution_count": 4,
   "metadata": {},
   "outputs": [
    {
     "data": {
      "text/plain": [
       "array([[-1.,  1.,  0.,  0.],\n",
       "       [ 1.,  0.,  1.,  0.],\n",
       "       [ 1.,  0.,  0.,  1.],\n",
       "       [ 1.,  1., -1., -1.]])"
      ]
     },
     "execution_count": 4,
     "metadata": {},
     "output_type": "execute_result"
    }
   ],
   "source": [
    "cr1.wTrans"
   ]
  },
  {
   "cell_type": "markdown",
   "metadata": {},
   "source": [
    "## 2 arm len 3"
   ]
  },
  {
   "cell_type": "code",
   "execution_count": 5,
   "metadata": {},
   "outputs": [],
   "source": [
    "loop1 = sq.Loop()\n",
    "loop2 = sq.Loop()\n",
    "\n",
    "CJ = sq.Capacitor(0.15, \"GHz\")\n",
    "JJ1 = sq.Junction(5, \"GHz\", loops=[loop1], cap = CJ)\n",
    "JJ2 = sq.Junction(5, \"GHz\", loops=[loop2], cap = CJ)\n",
    "L = sq.Inductor(0.13, \"GHz\", loops=[loop1,loop2])\n",
    "\n",
    "circuitElements = {(0, 1): [JJ1],\n",
    "                   (1, 2): [JJ1],\n",
    "                   (2, 3): [JJ1],\n",
    "                   (3, 5): [JJ2],\n",
    "                   (5, 4): [JJ2],\n",
    "                   (4, 0): [JJ2],\n",
    "                   (0, 3): [L]}\n",
    "\n",
    "cr1 = sq.Circuit(circuitElements)"
   ]
  },
  {
   "cell_type": "code",
   "execution_count": 6,
   "metadata": {},
   "outputs": [
    {
     "data": {
      "text/plain": [
       "array([3.03940065e+09, 0.00000000e+00, 0.00000000e+00, 0.00000000e+00,\n",
       "       0.00000000e+00])"
      ]
     },
     "execution_count": 6,
     "metadata": {},
     "output_type": "execute_result"
    }
   ],
   "source": [
    "cr1.omega"
   ]
  },
  {
   "cell_type": "code",
   "execution_count": 7,
   "metadata": {},
   "outputs": [
    {
     "data": {
      "text/plain": [
       "array([[-1.,  1.,  0.,  0.,  0.],\n",
       "       [ 1.,  0.,  1.,  0.,  0.],\n",
       "       [ 1.,  1., -1.,  0.,  0.],\n",
       "       [-1.,  0.,  0.,  1.,  0.],\n",
       "       [-1.,  0.,  0.,  0.,  1.],\n",
       "       [-1.,  0.,  0., -1., -1.]])"
      ]
     },
     "execution_count": 7,
     "metadata": {},
     "output_type": "execute_result"
    }
   ],
   "source": [
    "cr1.wTrans"
   ]
  },
  {
   "cell_type": "code",
   "execution_count": null,
   "metadata": {},
   "outputs": [],
   "source": []
  },
  {
   "cell_type": "code",
   "execution_count": null,
   "metadata": {},
   "outputs": [],
   "source": []
  }
 ],
 "metadata": {
  "kernelspec": {
   "display_name": "Python 3 (ipykernel)",
   "language": "python",
   "name": "python3"
  },
  "language_info": {
   "codemirror_mode": {
    "name": "ipython",
    "version": 3
   },
   "file_extension": ".py",
   "mimetype": "text/x-python",
   "name": "python",
   "nbconvert_exporter": "python",
   "pygments_lexer": "ipython3",
   "version": "3.9.7"
  }
 },
 "nbformat": 4,
 "nbformat_minor": 2
}
