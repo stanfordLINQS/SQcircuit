{
 "cells": [
  {
   "cell_type": "markdown",
   "metadata": {},
   "source": [
    "# Qubit Protected by Two-Cooper-Pair Tunneling"
   ]
  },
  {
   "cell_type": "markdown",
   "metadata": {},
   "source": [
    "In this notebook, we try to reproduce the result of the [\"Superconducting circuit protected by two-Cooper-pair tunneling\"](https://www-nature-com.stanford.idm.oclc.org/articles/s41534-019-0231-2) paper."
   ]
  },
  {
   "cell_type": "markdown",
   "metadata": {},
   "source": [
    "## Introdcution"
   ]
  },
  {
   "cell_type": "markdown",
   "metadata": {},
   "source": [
    "[Smith2020](https://doi-org.stanford.idm.oclc.org/10.1038/s41534-019-0231-2)\n",
    "designed a qubit that is protected by two Cooper-pair tunneling. We reproduced the main results of the paper such as\n",
    "energy spectrum, wavefunctions, and matrix elements by use of SQcircuit. The diagram of the circuit is"
   ]
  },
  {
   "cell_type": "markdown",
   "metadata": {},
   "source": [
    "<img src=\"pics/twoCPB_pic1.png\" width=\"300\" />"
   ]
  },
  {
   "cell_type": "markdown",
   "metadata": {},
   "source": [
    "The circuit consists of four equal inductors with $E_L=2\\text{GHz}$, two equal Josephson Junction with $E_J=15\\text{GHz}$ and $E_{C_J}=2\\text{GHz}$, and one shunt capacitor of $E_{C}=0.04\\text{GHz}$."
   ]
  },
  {
   "cell_type": "markdown",
   "metadata": {},
   "source": [
    "## Circuit Description"
   ]
  },
  {
   "cell_type": "markdown",
   "metadata": {},
   "source": [
    "Firstly, we import the SQcircuit and the relavant libraries"
   ]
  },
  {
   "cell_type": "code",
   "execution_count": 1,
   "metadata": {},
   "outputs": [],
   "source": [
    "import os\n",
    "os.chdir(\"..\")\n",
    "\n",
    "import SQcircuit as sq\n",
    "import matplotlib.pyplot as plt\n",
    "import numpy as np\n",
    "from matplotlib.colors import LinearSegmentedColormap"
   ]
  },
  {
   "cell_type": "markdown",
   "metadata": {},
   "source": [
    "We define the single inductive loop of the circuit via `Loop` class"
   ]
  },
  {
   "cell_type": "code",
   "execution_count": 2,
   "metadata": {},
   "outputs": [],
   "source": [
    "loop1 = sq.Loop()"
   ]
  },
  {
   "cell_type": "markdown",
   "metadata": {},
   "source": [
    "The elements of the circuit can be defined via `Capacitor`, `Inductor`, and `Junction` classes in SQcircuit, and to define the circuit, we use the `Circuit` class. "
   ]
  },
  {
   "cell_type": "code",
   "execution_count": 3,
   "metadata": {},
   "outputs": [],
   "source": [
    "# define the circuit’s elements\n",
    "CJ = sq.Capacitor(2, 'GHz', Q=1e6)\n",
    "Cshunt = sq.Capacitor(0.04, 'GHz')\n",
    "# Cs = sq.Capacitor(1e-17, 'F')\n",
    "L = sq.Inductor(2,'GHz', loops = [loop1])\n",
    "JJ = sq.Junction(15,'GHz', loops = [loop1])\n",
    "# define the circuit\n",
    "circuitElements = {\n",
    "    (0, 1): [L],\n",
    "    (0, 2): [L],\n",
    "    (1, 3): [CJ, JJ],\n",
    "    (2, 4): [CJ, JJ],\n",
    "    (3, 5): [L],\n",
    "    (4 ,5): [L],\n",
    "    (0, 5): [Cshunt]\n",
    "}\n",
    "\n",
    "cr = sq.Circuit(circuitElements, fluxDist=\"junction\")"
   ]
  },
  {
   "cell_type": "markdown",
   "metadata": {},
   "source": [
    "By creating an object of `Circuit` class, SQcircuit systematically finds the correct set of transformations and basis to make the circuit ready to be diagonalized. Since the author of the paper assianged the external flux distribution to the junctions, we set the the `fluxDist` argument to `\"junction\"` to produce the same result.\n",
    "\n",
    "Before setting the truncation numbers for each mode and diagonalizing the Hamiltonian, we can gain more insight into our circuit by calling the `description()` method. This prints out which mode in SQcircuit is the charge mode or the harmonic mode with its natural frequency in GHz( the default unit). Moreover, it shows the prefactors in the Josephson junction part of the Hamiltonian $\\tilde{\\textbf{w}}_k$, which helps find the modes decoupled from the nonlinearity of the circuit."
   ]
  },
  {
   "cell_type": "code",
   "execution_count": 4,
   "metadata": {},
   "outputs": [
    {
     "name": "stdout",
     "output_type": "stream",
     "text": [
      "mode_1: \tharmonic\tfreq=5567.0810875767065\n",
      "mode_2: \tharmonic\tfreq=5567.081087576705\n",
      "mode_3: \tharmonic\tfreq=4.079214182961373\n",
      "mode_4: \tharmonic\tfreq=3.9999985618865486\n",
      "mode_5: \tcharge\n",
      "w1: \t[ 0.  0.  1. -1.  1.]\n",
      "w2: \t[0. 0. 1. 1. 1.]\n"
     ]
    }
   ],
   "source": [
    "cr.description()"
   ]
  },
  {
   "cell_type": "markdown",
   "metadata": {},
   "source": [
    "The above output shows that `cr` circuit has four harmonic modes with one charge mode. From `w1` and `w2`, it becomes clear that the prefactor of the first and second mode is zero for both Josephson Junctions, which means that both modes are decoupled from the other modes. We can remove them by setting their truncation number to one."
   ]
  },
  {
   "cell_type": "markdown",
   "metadata": {},
   "source": [
    "To determine the size of the Hilbert space, we specify the truncation number for each circuit mode via `truncationNumbers()` method. Note that this is a necessary step before diagonalizing the circuit."
   ]
  },
  {
   "cell_type": "code",
   "execution_count": 5,
   "metadata": {},
   "outputs": [],
   "source": [
    "cr.truncationNumbers([1,1,17,17,17])"
   ]
  },
  {
   "cell_type": "markdown",
   "metadata": {},
   "source": [
    "## Circuit Spectrum"
   ]
  },
  {
   "cell_type": "markdown",
   "metadata": {},
   "source": [
    "To generate the spectrum of the circuit, firstly, we need to change and sweep the external flux of `loop1` by the `setFlux()` method. Then, we need to find the eigenfrequencies of the circuit that correspond to that external flux via `diag()` method. The following lines of code find the `spec` a 2D NumPy array so that each column of it contains the eigenfrequencies with respect to its external flux. "
   ]
  },
  {
   "cell_type": "code",
   "execution_count": 6,
   "metadata": {},
   "outputs": [],
   "source": [
    "# number of eigenvalues we aim for\n",
    "numEig=6\n",
    "\n",
    "# array that contains the spectrum\n",
    "phi = np.linspace(-0.1,0.6,50)\n",
    "\n",
    "# array that contains the spectrum\n",
    "spec = np.zeros((numEig, len(phi)))\n",
    "\n",
    "for i in range(len(phi)):\n",
    "    # set the value of the flux external flux\n",
    "    loop1.setFlux(phi[i])\n",
    "    \n",
    "    # diagonlize the circuit\n",
    "    spec[:, i], _ = cr.diag(numEig)"
   ]
  },
  {
   "cell_type": "code",
   "execution_count": 7,
   "metadata": {},
   "outputs": [
    {
     "data": {
      "image/png": "[encoded data removed]",
      "text/plain": [
       "<Figure size 432x288 with 1 Axes>"
      ]
     },
     "metadata": {
      "needs_background": "light"
     },
     "output_type": "display_data"
    }
   ],
   "source": [
    "E_L = 2\n",
    "E_C = 2\n",
    "x=0.02\n",
    "plt.figure()\n",
    "for i in range(numEig):\n",
    "    plt.plot(phi, (spec[i, :] - spec[0, :])/np.sqrt(16*x*(E_L/2)*E_C))\n",
    "\n",
    "plt.xlabel(\"$\\Phi_{ext}/\\Phi_0$\", fontsize=13)\n",
    "plt.ylabel(r\"$f_i-f_0$[GHz]\", fontsize=13)\n",
    "plt.show()"
   ]
  },
  {
   "cell_type": "markdown",
   "metadata": {},
   "source": [
    "The next cell shows the spectrum from the figure 3a of the paper, which is the same spectrum that SQcircuit calculated."
   ]
  },
  {
   "cell_type": "markdown",
   "metadata": {},
   "source": [
    "<img src=\"pics/twoCPB_pic2.png\" width=\"400\" align = \"left\"/>"
   ]
  },
  {
   "cell_type": "markdown",
   "metadata": {},
   "source": [
    "## Eigenfunctions"
   ]
  },
  {
   "cell_type": "markdown",
   "metadata": {},
   "source": [
    "We can get the phase space eigenfunction of a specific eigenvector of a circuit by using the `eigPhaseSpace()` method. To calculate the eigenfunction at $\\varphi_{ext} = 0.5\\times2\\pi$ similar to paper, we set back the flux of our loop to $0.5\\times2\\pi$ and diagonalize the `cr` again."
   ]
  },
  {
   "cell_type": "code",
   "execution_count": 8,
   "metadata": {},
   "outputs": [],
   "source": [
    "loop1.setFlux(0.5)\n",
    "cr.truncationNumbers([1,1,17,17,17])\n",
    "_, _ = cr.diag(numEig=5)"
   ]
  },
  {
   "cell_type": "markdown",
   "metadata": {},
   "source": [
    "We generate the eigenfunction in the phase space by `eigPhaseCoordinate()` method for the first four eigen state of the circuit similar to the paper."
   ]
  },
  {
   "cell_type": "code",
   "execution_count": 9,
   "metadata": {},
   "outputs": [],
   "source": [
    "# create a range for each mode\n",
    "phi1=0\n",
    "phi2=0\n",
    "phi3=0\n",
    "phi4=np.linspace(-0.8,0.8,100)\n",
    "phi5=np.pi*np.linspace(-1.5,2.5,100)\n",
    "# creat the grid list\n",
    "grid = [phi1, phi2, phi3, phi4, phi5]\n",
    "\n",
    "# the ground state\n",
    "state0 = cr.eigPhaseCoordinate(eigInd = 0, grid = grid)\n",
    "    \n",
    "# the first excited state\n",
    "state1 = cr.eigPhaseCoordinate(eigInd = 1, grid = grid)\n",
    "\n",
    "# the second excited state\n",
    "state2 = cr.eigPhaseCoordinate(eigInd = 2, grid = grid)\n",
    "    \n",
    "# the third excited state\n",
    "state3 = cr.eigPhaseCoordinate(eigInd = 3, grid = grid)"
   ]
  },
  {
   "cell_type": "code",
   "execution_count": 10,
   "metadata": {},
   "outputs": [
    {
     "data": {
      "image/png": "[encoded data removed]",
      "text/plain": [
       "<Figure size 1152x288 with 4 Axes>"
      ]
     },
     "metadata": {
      "needs_background": "light"
     },
     "output_type": "display_data"
    }
   ],
   "source": [
    "fig, axs = plt.subplots(1, 4,figsize=(16,4), sharey='row')\n",
    "axs[0].pcolor(phi5, phi4, np.abs(state0.T)**2,cmap=\"Purples\",shading='auto',label='state0')\n",
    "axs[1].pcolor(phi5, phi4, np.abs(state1.T)**2,cmap=\"Greens\",shading='auto',label='state1')\n",
    "axs[2].pcolor(phi5, phi4, np.abs(state2.T)**2,cmap=\"Oranges\",shading='auto',label='state2')\n",
    "axs[3].pcolor(phi5, phi4, np.abs(state3.T)**2,cmap=\"Reds\",shading='auto',label='state3')\n",
    "for i in range(4):\n",
    "    axs[i].set_xlabel(r\"$\\varphi_4$\",fontsize=13)\n",
    "    axs[i].legend(handletextpad=-0.1, handlelength=0.0)\n",
    "axs[0].set_ylabel(r\"$\\varphi_5$\",fontsize=13)\n",
    "plt.subplots_adjust(wspace=0)"
   ]
  },
  {
   "cell_type": "markdown",
   "metadata": {},
   "source": [
    "The next cell shows the eigenfunctions from the figure 3c of the paper, which is the same as what SQcircuit calculated."
   ]
  },
  {
   "cell_type": "markdown",
   "metadata": {},
   "source": [
    "<img src=\"pics/twoCPB_pic3.png\" width=\"800\" align = \"left\"/>"
   ]
  },
  {
   "cell_type": "markdown",
   "metadata": {},
   "source": [
    "## Matrix Elements"
   ]
  },
  {
   "cell_type": "markdown",
   "metadata": {},
   "source": [
    "[Smith2020](https://doi-org.stanford.idm.oclc.org/10.1038/s41534-019-0231-2) defined the normalized matrix element as a measure of degree of freedoms to which circuit can couple. For coupling operator $\\mathcal{O}$ the normalized matrix element is"
   ]
  },
  {
   "cell_type": "markdown",
   "metadata": {},
   "source": [
    "<img src=\"pics/twoCPB_pic4.png\" width=\"220\" align = \"left\"/>"
   ]
  },
  {
   "cell_type": "markdown",
   "metadata": {},
   "source": [
    "where $|\\psi\\rangle$ is the eigenstates of the circuit and $|0o\\rangle$ is the ground state. We calculate the normalized matrix element for inductive coupling to inductor between node 0 and node 2 using `cr.couplingOperator()` method."
   ]
  },
  {
   "cell_type": "code",
   "execution_count": 11,
   "metadata": {},
   "outputs": [],
   "source": [
    "numEig = 2\n",
    "phi = np.linspace(0.46, 0.54, 1000)\n",
    "# normalized matrix element\n",
    "inductive_01 = np.zeros(len(phi))\n",
    "\n",
    "for i in range(len(phi)):\n",
    "    loop1.setFlux(phi[i])\n",
    "    evals, estates = cr.diag(numEig)\n",
    "    O = cr.couplingOperator(\"inductive\", nodes=(2,0))\n",
    "    norm = (estates[0].dag()*(O.dag()*O)*estates[0])[0].real\n",
    "    inductive_01[i] =  np.abs((estates[0].dag()*O*estates[1])[0])**2/norm"
   ]
  },
  {
   "cell_type": "code",
   "execution_count": 12,
   "metadata": {},
   "outputs": [
    {
     "data": {
      "text/plain": [
       "[<matplotlib.lines.Line2D at 0x7fdd7acf8160>]"
      ]
     },
     "execution_count": 12,
     "metadata": {},
     "output_type": "execute_result"
    },
    {
     "data": {
      "image/png": "[encoded data removed]",
      "text/plain": [
       "<Figure size 432x288 with 1 Axes>"
      ]
     },
     "metadata": {
      "needs_background": "light"
     },
     "output_type": "display_data"
    }
   ],
   "source": [
    "plt.semilogy(phi, inductive_01, 'green')"
   ]
  },
  {
   "cell_type": "markdown",
   "metadata": {},
   "source": [
    "The next figure shows the same result from the figure 4a of the paper."
   ]
  },
  {
   "cell_type": "markdown",
   "metadata": {},
   "source": [
    "<img src=\"pics/twoCPB_pic5.png\" width=\"300\" align = \"left\"/>"
   ]
  },
  {
   "cell_type": "code",
   "execution_count": null,
   "metadata": {},
   "outputs": [],
   "source": []
  }
 ],
 "metadata": {
  "kernelspec": {
   "display_name": "Python 3 (ipykernel)",
   "language": "python",
   "name": "python3"
  },
  "language_info": {
   "codemirror_mode": {
    "name": "ipython",
    "version": 3
   },
   "file_extension": ".py",
   "mimetype": "text/x-python",
   "name": "python",
   "nbconvert_exporter": "python",
   "pygments_lexer": "ipython3",
   "version": "3.9.7"
  }
 },
 "nbformat": 4,
 "nbformat_minor": 2
}
