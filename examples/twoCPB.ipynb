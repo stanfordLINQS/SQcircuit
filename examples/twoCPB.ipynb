{
 "cells": [
  {
   "cell_type": "code",
   "execution_count": null,
   "metadata": {},
   "outputs": [],
   "source": [
    "import os\n",
    "os._exit(00)"
   ]
  },
  {
   "cell_type": "markdown",
   "metadata": {},
   "source": [
    "# type 2 zeroPi"
   ]
  },
  {
   "cell_type": "markdown",
   "metadata": {},
   "source": [
    "<img src=\"pics/twoCPB.png\" width=\"300\" />"
   ]
  },
  {
   "cell_type": "code",
   "execution_count": 54,
   "metadata": {},
   "outputs": [],
   "source": [
    "import sys, os\n",
    "os.chdir(\"../source\")\n",
    "import SQcircuit as sq\n",
    "import matplotlib.pyplot as plt\n",
    "import numpy as np\n",
    "from matplotlib.colors import LinearSegmentedColormap"
   ]
  },
  {
   "cell_type": "code",
   "execution_count": 2,
   "metadata": {},
   "outputs": [
    {
     "name": "stdout",
     "output_type": "stream",
     "text": [
      "Natural frequencies of the circuit:\n",
      "[2.51327517e+13 2.51327517e+13 2.56304649e+10 2.51327391e+10\n",
      " 0.00000000e+00]\n",
      "W transformed matrix:\n",
      "[[ 0.  0.  1. -1.  1.]\n",
      " [ 0.  0.  1.  1.  1.]]\n"
     ]
    }
   ],
   "source": [
    "x = 0.02\n",
    "C = sq.Capacitor(2, 'GHz')\n",
    "Cshunt = sq.Capacitor(2*x, 'GHz')\n",
    "Cs = sq.Capacitor(1e6,'GHz')\n",
    "L = sq.Inductor(2,'GHz')\n",
    "JJ = sq.Junction(15,'GHz')\n",
    "\n",
    "circuitElements = {\n",
    "    (0, 1): [Cs, L],\n",
    "    (0, 2): [Cs, L],\n",
    "    (1, 3): [C, JJ],\n",
    "    (2, 4): [C, JJ],\n",
    "    (3, 5): [Cs, L],\n",
    "    (4 ,5): [Cs, L],\n",
    "    (0, 5): [Cshunt]\n",
    "}\n",
    "\n",
    "cr1 = sq.Circuit(circuitElements)\n",
    "\n",
    "cr1.setTruncationNumbers([1,1,15,15,15])"
   ]
  },
  {
   "cell_type": "markdown",
   "metadata": {},
   "source": [
    "## Eigenfrequencies"
   ]
  },
  {
   "cell_type": "code",
   "execution_count": 4,
   "metadata": {},
   "outputs": [],
   "source": [
    "numEig = 5\n",
    "phiExt = np.linspace(0, 1, 50) * 2 * np.pi\n",
    "eigenValues = np.zeros((numEig, len(phiExt)))\n",
    "\n",
    "for i in range(len(phiExt)):\n",
    "    cr1.setExternalFluxes({(1, 3): phiExt[i]})\n",
    "    eigenValues[:, i], _ = cr1.run(numEig)"
   ]
  },
  {
   "cell_type": "code",
   "execution_count": null,
   "metadata": {
    "scrolled": false
   },
   "outputs": [],
   "source": [
    "E_L = 2\n",
    "E_C = 2\n",
    "plt.figure()\n",
    "for i in range(numEig):\n",
    "    plt.plot(phiExt / 2 / np.pi, (eigenValues[i, :] - eigenValues[0, :])/np.sqrt(16*x*(E_L/2)*E_C),'.')\n",
    "\n",
    "plt.xlabel(r\"$\\Phi_{ext}/\\Phi_0$\")\n",
    "plt.ylabel(r\"($\\omega_i-\\omega_0$)GHz\")\n",
    "plt.show()"
   ]
  },
  {
   "cell_type": "markdown",
   "metadata": {},
   "source": [
    "## Matrix Elements"
   ]
  },
  {
   "cell_type": "code",
   "execution_count": 53,
   "metadata": {},
   "outputs": [
    {
     "ename": "TypeError",
     "evalue": "Incompatible quantum object dimensions",
     "output_type": "error",
     "traceback": [
      "\u001b[0;31m---------------------------------------------------------------------------\u001b[0m",
      "\u001b[0;31mTypeError\u001b[0m                                 Traceback (most recent call last)",
      "\u001b[0;32m/var/folders/88/zpkbnc7s55109rqncsds4h0c0000gn/T/ipykernel_33896/3090798869.py\u001b[0m in \u001b[0;36m<module>\u001b[0;34m\u001b[0m\n\u001b[1;32m      2\u001b[0m \u001b[0mcr1\u001b[0m\u001b[0;34m.\u001b[0m\u001b[0msetExternalFluxes\u001b[0m\u001b[0;34m(\u001b[0m\u001b[0;34m{\u001b[0m\u001b[0;34m(\u001b[0m\u001b[0;36m1\u001b[0m\u001b[0;34m,\u001b[0m \u001b[0;36m3\u001b[0m\u001b[0;34m)\u001b[0m\u001b[0;34m:\u001b[0m \u001b[0mnp\u001b[0m\u001b[0;34m.\u001b[0m\u001b[0mpi\u001b[0m\u001b[0;34m}\u001b[0m\u001b[0;34m)\u001b[0m\u001b[0;34m\u001b[0m\u001b[0;34m\u001b[0m\u001b[0m\n\u001b[1;32m      3\u001b[0m \u001b[0mvals\u001b[0m\u001b[0;34m,\u001b[0m \u001b[0mstates\u001b[0m \u001b[0;34m=\u001b[0m \u001b[0mcr1\u001b[0m\u001b[0;34m.\u001b[0m\u001b[0mrun\u001b[0m\u001b[0;34m(\u001b[0m\u001b[0mnumEig\u001b[0m\u001b[0;34m)\u001b[0m\u001b[0;34m\u001b[0m\u001b[0;34m\u001b[0m\u001b[0m\n\u001b[0;32m----> 4\u001b[0;31m \u001b[0mO\u001b[0m \u001b[0;34m=\u001b[0m \u001b[0mcr1\u001b[0m\u001b[0;34m.\u001b[0m\u001b[0mcouplingOperator\u001b[0m\u001b[0;34m(\u001b[0m\u001b[0;34m\"inductive\"\u001b[0m\u001b[0;34m,\u001b[0m \u001b[0mnodes\u001b[0m\u001b[0;34m=\u001b[0m \u001b[0;34m(\u001b[0m\u001b[0;36m5\u001b[0m\u001b[0;34m,\u001b[0m\u001b[0;36m4\u001b[0m\u001b[0;34m)\u001b[0m\u001b[0;34m)\u001b[0m\u001b[0;34m\u001b[0m\u001b[0;34m\u001b[0m\u001b[0m\n\u001b[0m",
      "\u001b[0;32m/Volumes/GoogleDrive-105648963011426938594/My Drive/numerics/220109_Qcircuit_v1.0/Qcircuit/source/circuit.py\u001b[0m in \u001b[0;36mcouplingOperator\u001b[0;34m(self, copType, nodes)\u001b[0m\n\u001b[1;32m    798\u001b[0m                 \u001b[0mK\u001b[0m \u001b[0;34m=\u001b[0m \u001b[0mself\u001b[0m\u001b[0;34m.\u001b[0m\u001b[0mS\u001b[0m\u001b[0;34m\u001b[0m\u001b[0;34m\u001b[0m\u001b[0m\n\u001b[1;32m    799\u001b[0m                 \u001b[0;32mfor\u001b[0m \u001b[0mi\u001b[0m \u001b[0;32min\u001b[0m \u001b[0mrange\u001b[0m\u001b[0;34m(\u001b[0m\u001b[0mself\u001b[0m\u001b[0;34m.\u001b[0m\u001b[0mn\u001b[0m\u001b[0;34m)\u001b[0m\u001b[0;34m:\u001b[0m\u001b[0;34m\u001b[0m\u001b[0;34m\u001b[0m\u001b[0m\n\u001b[0;32m--> 800\u001b[0;31m                     \u001b[0mop\u001b[0m \u001b[0;34m+=\u001b[0m \u001b[0;34m(\u001b[0m\u001b[0mK\u001b[0m\u001b[0;34m[\u001b[0m\u001b[0mnode2\u001b[0m\u001b[0;34m-\u001b[0m\u001b[0;36m1\u001b[0m\u001b[0;34m,\u001b[0m \u001b[0mi\u001b[0m\u001b[0;34m]\u001b[0m \u001b[0;34m-\u001b[0m \u001b[0mK\u001b[0m\u001b[0;34m[\u001b[0m\u001b[0mnode1\u001b[0m\u001b[0;34m-\u001b[0m\u001b[0;36m1\u001b[0m\u001b[0;34m,\u001b[0m \u001b[0mi\u001b[0m\u001b[0;34m]\u001b[0m\u001b[0;34m)\u001b[0m \u001b[0;34m*\u001b[0m \u001b[0mself\u001b[0m\u001b[0;34m.\u001b[0m\u001b[0mfluxOpList\u001b[0m\u001b[0;34m[\u001b[0m\u001b[0mi\u001b[0m\u001b[0;34m]\u001b[0m\u001b[0;34m\u001b[0m\u001b[0;34m\u001b[0m\u001b[0m\n\u001b[0m\u001b[1;32m    801\u001b[0m \u001b[0;34m\u001b[0m\u001b[0m\n\u001b[1;32m    802\u001b[0m         \u001b[0;32mreturn\u001b[0m \u001b[0mop\u001b[0m\u001b[0;34m\u001b[0m\u001b[0;34m\u001b[0m\u001b[0m\n",
      "\u001b[0;32m~/opt/anaconda3/lib/python3.9/site-packages/qutip/qobj.py\u001b[0m in \u001b[0;36m__add__\u001b[0;34m(self, other)\u001b[0m\n\u001b[1;32m    454\u001b[0m \u001b[0;34m\u001b[0m\u001b[0m\n\u001b[1;32m    455\u001b[0m         \u001b[0;32melif\u001b[0m \u001b[0mself\u001b[0m\u001b[0;34m.\u001b[0m\u001b[0mdims\u001b[0m \u001b[0;34m!=\u001b[0m \u001b[0mother\u001b[0m\u001b[0;34m.\u001b[0m\u001b[0mdims\u001b[0m\u001b[0;34m:\u001b[0m\u001b[0;34m\u001b[0m\u001b[0;34m\u001b[0m\u001b[0m\n\u001b[0;32m--> 456\u001b[0;31m             \u001b[0;32mraise\u001b[0m \u001b[0mTypeError\u001b[0m\u001b[0;34m(\u001b[0m\u001b[0;34m'Incompatible quantum object dimensions'\u001b[0m\u001b[0;34m)\u001b[0m\u001b[0;34m\u001b[0m\u001b[0;34m\u001b[0m\u001b[0m\n\u001b[0m\u001b[1;32m    457\u001b[0m \u001b[0;34m\u001b[0m\u001b[0m\n\u001b[1;32m    458\u001b[0m         \u001b[0;32melif\u001b[0m \u001b[0mself\u001b[0m\u001b[0;34m.\u001b[0m\u001b[0mshape\u001b[0m \u001b[0;34m!=\u001b[0m \u001b[0mother\u001b[0m\u001b[0;34m.\u001b[0m\u001b[0mshape\u001b[0m\u001b[0;34m:\u001b[0m\u001b[0;34m\u001b[0m\u001b[0;34m\u001b[0m\u001b[0m\n",
      "\u001b[0;31mTypeError\u001b[0m: Incompatible quantum object dimensions"
     ]
    }
   ],
   "source": [
    "numEig = 5\n",
    "cr1.setExternalFluxes({(1, 3): np.pi})\n",
    "vals, states = cr1.run(numEig)\n",
    "O = cr1.couplingOperator(\"inductive\", nodes= (5,4))"
   ]
  },
  {
   "cell_type": "code",
   "execution_count": null,
   "metadata": {},
   "outputs": [],
   "source": [
    "O.dims = [3*[15],3*[15]]\n",
    "states[0].dims = [3*[15],3*[1]]\n",
    "norm = (states[0].dag()*(O.dag()*O)*states[0])[0].real"
   ]
  },
  {
   "cell_type": "code",
   "execution_count": null,
   "metadata": {},
   "outputs": [],
   "source": [
    "for i in range(numEig):\n",
    "    states[i].dims = [3*[15],3*[1]]\n",
    "    print(np.abs((states[0].dag()*O*states[i])[0])**2/norm)"
   ]
  },
  {
   "cell_type": "markdown",
   "metadata": {},
   "source": [
    "## phase space eigenstates"
   ]
  },
  {
   "cell_type": "code",
   "execution_count": null,
   "metadata": {},
   "outputs": [],
   "source": [
    "def getCmap(cmap):\n",
    "    # get the transparent colormap\n",
    "    \n",
    "\n",
    "    ncolors = 256\n",
    "    color_array = plt.get_cmap(cmap)(range(ncolors))\n",
    "    color_array[:,-1] = np.linspace(0,1,ncolors)\n",
    "    map_object = LinearSegmentedColormap.from_list(name='Transparent',colors=color_array)\n",
    "    return map_object"
   ]
  },
  {
   "cell_type": "code",
   "execution_count": 54,
   "metadata": {},
   "outputs": [],
   "source": [
    "circuitParam={'graph':[[0,1],[0,2],[3,5],[4,5],[1,3],[2,4],[0,5]],\n",
    "            'inductors':[L,L,L,L,None,None,None],\n",
    "            'capacitors':[C*1e-6,C*1e-6,C*1e-6,C*1e-6,C,C,Cshunt],\n",
    "            'JJs':[None,None,None,None,E_J,E_J,None]}\n",
    "\n",
    "cr1 = Qcircuit(circuitParam)\n",
    "cr1.setModeNumbers([2,2,15,15,15])\n",
    "cr1.configure()\n",
    "cr1.setExcitation([0.49*2*np.pi])\n",
    "cr1.run(numBand =20,showLoading=False)"
   ]
  },
  {
   "cell_type": "code",
   "execution_count": 55,
   "metadata": {},
   "outputs": [],
   "source": [
    "phi_1 = 3*np.pi*np.linspace(-1,1,100)/8\n",
    "phi_2 = np.pi*np.linspace(-1,1,100)\n",
    "Phi_1 , Phi_2 = np.meshgrid(phi_1,phi_2)\n",
    "state0  = np.squeeze(cr1.eigVecPhaseSpace(0,[0,0,0,Phi_1, Phi_2]))\n",
    "state1  = np.squeeze(cr1.eigVecPhaseSpace(1,[0,0,0,Phi_1, Phi_2]))\n",
    "state2  = np.squeeze(cr1.eigVecPhaseSpace(2,[0,0,0,Phi_1, Phi_2]))\n",
    "state3  = np.squeeze(cr1.eigVecPhaseSpace(3,[0,0,0,Phi_1, Phi_2]))"
   ]
  },
  {
   "cell_type": "code",
   "execution_count": 33,
   "metadata": {},
   "outputs": [
    {
     "data": {
      "image/png": "[encoded data removed]",
      "text/plain": [
       "<Figure size 540x288 with 2 Axes>"
      ]
     },
     "metadata": {
      "needs_background": "light"
     },
     "output_type": "display_data"
    }
   ],
   "source": [
    "fig, axs = plt.subplots(1, 2,figsize=(7.5,4), sharey='row')\n",
    "axs[0].pcolor(Phi_1,Phi_2,np.abs(state2)**2,cmap=getCmap(\"Blues\"),shading='auto',label='state_0')\n",
    "axs[1].pcolor(Phi_1,Phi_2,np.abs(state3)**2,cmap=getCmap(\"Reds\"),shading='auto',label='state_1')\n",
    "for i in range(2):\n",
    "    axs[i].set_xlabel(r\"$\\varphi_1$\",fontsize=13)\n",
    "    axs[i].legend(handletextpad=-0.1, handlelength=0.0)\n",
    "axs[0].set_ylabel(r\"$\\varphi_2$\",fontsize=13)\n",
    "plt.subplots_adjust(wspace=0)"
   ]
  },
  {
   "cell_type": "code",
   "execution_count": 56,
   "metadata": {},
   "outputs": [],
   "source": [
    "K = cr1.cInv@cr1.R@cr1.R2\n",
    "K = K.real\n",
    "states = cr1.HamilEigVecList[0]\n",
    "charges = cr1.chargeOpList\n",
    "\n",
    "def getO(ind,K,charges):\n",
    "    O = 0\n",
    "    for i in range(5):\n",
    "        O +=  K[ind,i]*charges[i]\n",
    "    return O"
   ]
  },
  {
   "cell_type": "code",
   "execution_count": 57,
   "metadata": {},
   "outputs": [],
   "source": [
    "O = getO(4,K,charges)\n",
    "norm = (states[0].dag()*(O.dag()*O)*states[0])[0].real"
   ]
  },
  {
   "cell_type": "code",
   "execution_count": 58,
   "metadata": {},
   "outputs": [
    {
     "data": {
      "text/plain": [
       "array([[-0.00101425-0.0003195j]])"
      ]
     },
     "execution_count": 58,
     "metadata": {},
     "output_type": "execute_result"
    }
   ],
   "source": [
    "(states[0].dag()*O*states[i])[0]"
   ]
  },
  {
   "cell_type": "code",
   "execution_count": 59,
   "metadata": {},
   "outputs": [
    {
     "name": "stdout",
     "output_type": "stream",
     "text": [
      "[[0.]]\n",
      "[[0.]]\n",
      "[[0.99253585]]\n",
      "[[0.00014702]]\n",
      "[[0.]]\n",
      "[[0.]]\n",
      "[[9.0423462e-06]]\n",
      "[[8.45491064e-06]]\n",
      "[[0.]]\n",
      "[[0.]]\n",
      "[[1.41003498e-05]]\n",
      "[[9.86903506e-06]]\n",
      "[[0.]]\n",
      "[[0.]]\n",
      "[[1.86249025e-05]]\n",
      "[[1.10562469e-05]]\n",
      "[[0.]]\n",
      "[[0.]]\n",
      "[[1.8693196e-05]]\n",
      "[[1.16734172e-05]]\n"
     ]
    }
   ],
   "source": [
    "for i in range(20):\n",
    "    print(np.abs((states[0].dag()*O*states[i])[0])**2/norm)"
   ]
  },
  {
   "cell_type": "code",
   "execution_count": 60,
   "metadata": {},
   "outputs": [],
   "source": [
    "K = cr1.S\n",
    "fluxes = cr1.fluxOpList\n",
    "\n",
    "def getO(ind,K,charges):\n",
    "    O = 0\n",
    "    for i in range(2,4):\n",
    "        O +=  K[ind,i]*charges[i]\n",
    "    return O\n",
    "\n",
    "O = getO(1,K,fluxes)\n",
    "norm = (states[0].dag()*(O.dag()*O)*states[0])[0].real"
   ]
  },
  {
   "cell_type": "code",
   "execution_count": 63,
   "metadata": {},
   "outputs": [
    {
     "name": "stdout",
     "output_type": "stream",
     "text": [
      "0.19952475847865694\n",
      "0.0004615575480024752\n",
      "0.05897205735857903\n",
      "0.0008804453103436971\n",
      "7.109728164721095e-05\n",
      "0.00039900414501213306\n",
      "0.00012993041552470836\n",
      "0.0006164082893363403\n",
      "6.097785040109755e-05\n",
      "0.0007731733175843206\n",
      "6.285162616582266e-05\n",
      "0.0010479735445710753\n",
      "9.757998066987556e-05\n",
      "0.0012943379964356868\n",
      "5.6407178124962714e-05\n",
      "0.0016304700759377179\n",
      "5.844920350884587e-06\n",
      "0.0018971050271797188\n",
      "4.486738677897527e-07\n",
      "0.0021750468096283595\n"
     ]
    }
   ],
   "source": [
    "for i in range(20):\n",
    "    print(np.abs((states[0].dag()*O*states[i])[0,0]))"
   ]
  },
  {
   "cell_type": "code",
   "execution_count": 64,
   "metadata": {},
   "outputs": [
    {
     "name": "stdout",
     "output_type": "stream",
     "text": [
      "[[0.72598293]]\n",
      "[[3.884942e-06]]\n",
      "[[0.06341988]]\n",
      "[[1.41363599e-05]]\n",
      "[[9.21804484e-08]]\n",
      "[[2.90327142e-06]]\n",
      "[[3.07860861e-07]]\n",
      "[[6.9289873e-06]]\n",
      "[[6.78073927e-08]]\n",
      "[[1.09015071e-05]]\n",
      "[[7.20386991e-08]]\n",
      "[[2.002781e-05]]\n",
      "[[1.736418e-07]]\n",
      "[[3.05511966e-05]]\n",
      "[[5.8023186e-08]]\n",
      "[[4.84795399e-05]]\n",
      "[[6.2300283e-10]]\n",
      "[[6.56319902e-05]]\n",
      "[[3.67108445e-12]]\n",
      "[[8.62720346e-05]]\n"
     ]
    }
   ],
   "source": [
    "for i in range(20):\n",
    "    print(np.abs((states[0].dag()*O*states[i])[0])**2/norm)"
   ]
  },
  {
   "cell_type": "code",
   "execution_count": 48,
   "metadata": {},
   "outputs": [
    {
     "data": {
      "text/plain": [
       "array([-4.67869189e-11,  9.62603730e-10, -1.92014720e-11,  5.34680801e-10,\n",
       "       -5.15479329e-10])"
      ]
     },
     "execution_count": 48,
     "metadata": {},
     "output_type": "execute_result"
    }
   ],
   "source": [
    "(cr1.getMatL()@cr1.S).real[:,4]"
   ]
  },
  {
   "cell_type": "code",
   "execution_count": 50,
   "metadata": {},
   "outputs": [
    {
     "data": {
      "text/plain": [
       "array([-5.92563250e-13,  1.21915187e-11,  3.69735163e+01,  3.69735163e+01,\n",
       "        3.69735163e+01])"
      ]
     },
     "execution_count": 50,
     "metadata": {},
     "output_type": "execute_result"
    }
   ],
   "source": [
    "cr1.S.real[:,4]"
   ]
  },
  {
   "cell_type": "code",
   "execution_count": null,
   "metadata": {},
   "outputs": [],
   "source": [
    "circuitParam={'graph':[[0,1],[0,2],[3,5],[4,5],[1,3],[2,4],[0,5]],\n",
    "            'inductors':[L,L,L,L,None,None,None],\n",
    "            'capacitors':[C*1e-6,C*1e-6,C*1e-6,C*1e-6,C,C,Cshunt],\n",
    "            'JJs':[None,None,None,None,E_J,E_J,None]}\n",
    "\n",
    "cr1 = Qcircuit(circuitParam)"
   ]
  },
  {
   "cell_type": "code",
   "execution_count": 400,
   "metadata": {},
   "outputs": [],
   "source": [
    "cr1.setModeNumbers([1,1,15,15,15])\n",
    "cr1.configure()"
   ]
  },
  {
   "cell_type": "code",
   "execution_count": 401,
   "metadata": {},
   "outputs": [],
   "source": [
    "phiExt = np.linspace(0,1,100)*2*np.pi\n",
    "cr1.setExcitation([phiExt])"
   ]
  },
  {
   "cell_type": "code",
   "execution_count": 403,
   "metadata": {
    "scrolled": true
   },
   "outputs": [],
   "source": [
    "# cr1.run(numBand = 20,showLoading=False)"
   ]
  },
  {
   "cell_type": "code",
   "execution_count": 267,
   "metadata": {},
   "outputs": [],
   "source": [
    "# plt.figure()\n",
    "# for i in range(4):\n",
    "#     plt.plot(phiExt/2/np.pi,(cr1.HamilEigVal[i,:]-cr1.HamilEigVal[0,:]).real*hbar/np.sqrt(16*x*(E_L/2)*E_C),'.')\n",
    "\n",
    "# plt.xlabel(\"$\\Phi_{ext}/\\Phi_0$\")\n",
    "# plt.ylabel(\"GHz\")"
   ]
  },
  {
   "cell_type": "code",
   "execution_count": null,
   "metadata": {},
   "outputs": [],
   "source": []
  },
  {
   "cell_type": "code",
   "execution_count": null,
   "metadata": {},
   "outputs": [],
   "source": []
  }
 ],
 "metadata": {
  "kernelspec": {
   "display_name": "Python 3 (ipykernel)",
   "language": "python",
   "name": "python3"
  },
  "language_info": {
   "codemirror_mode": {
    "name": "ipython",
    "version": 3
   },
   "file_extension": ".py",
   "mimetype": "text/x-python",
   "name": "python",
   "nbconvert_exporter": "python",
   "pygments_lexer": "ipython3",
   "version": "3.9.7"
  }
 },
 "nbformat": 4,
 "nbformat_minor": 2
}
