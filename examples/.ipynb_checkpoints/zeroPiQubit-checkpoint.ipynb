{
 "cells": [
  {
   "cell_type": "markdown",
   "metadata": {},
   "source": [
    "# $0-\\pi$ Qubit \n",
    "In this notebook, we use SQcircuit to find the spectrum of the $0-\\pi$ Qubit based on the following paper:   \n",
    "_Coherence properties of the 0-π qubit_  "
   ]
  },
  {
   "cell_type": "markdown",
   "metadata": {},
   "source": [
    "First, we import the SQcircuit from circuit.py file and specify a number for each nodes on the circuit. The number for each node should be consecutive integer starts from zero(corresponds to circuit ground.) "
   ]
  },
  {
   "cell_type": "code",
   "execution_count": 1,
   "metadata": {},
   "outputs": [],
   "source": [
    "import sys, os\n",
    "os.chdir(\"../source\")\n",
    "import SQcircuit as sq\n",
    "import matplotlib.pyplot as plt\n",
    "import numpy as np"
   ]
  },
  {
   "cell_type": "markdown",
   "metadata": {},
   "source": [
    "<img src=\"pics/zeroPiQubit_pic1.png\" width=\"200\" />"
   ]
  },
  {
   "cell_type": "markdown",
   "metadata": {},
   "source": [
    "We use Parameter Set 3 of the paper. By the following cell, we find the correspondance capacitance, inductance, and JJ energies to those values."
   ]
  },
  {
   "cell_type": "markdown",
   "metadata": {},
   "source": [
    "<img src=\"pics/zeroPiQubit_pic2.png\" width=\"650\" />"
   ]
  },
  {
   "cell_type": "markdown",
   "metadata": {},
   "source": [
    "We create the object of SQcircuit by initializing it with `circuitParam` dictionary."
   ]
  },
  {
   "cell_type": "code",
   "execution_count": 2,
   "metadata": {
    "scrolled": true
   },
   "outputs": [],
   "source": [
    "loop1 = sq.Loop()\n",
    "\n",
    "C = sq.Capacitor(0.15, \"GHz\")\n",
    "CJ = sq.Capacitor(10, \"GHz\")\n",
    "JJ = sq.Junction(5, \"GHz\", loops=[loop1])\n",
    "L = sq.Inductor(0.13, \"GHz\", loops=[loop1])\n",
    "\n",
    "circuitElemetns = {(0, 1): [CJ, JJ],\n",
    "                   (0, 2): [L],\n",
    "                   (0, 3): [C],\n",
    "                   (1, 2): [C],\n",
    "                   (1, 3): [L],\n",
    "                   (2, 3): [CJ, JJ]}\n",
    "\n",
    "# cr is an object of Qcircuit\n",
    "cr1 = sq.Circuit(circuitElemetns)"
   ]
  },
  {
   "cell_type": "markdown",
   "metadata": {},
   "source": [
    "## Circuit Eigenvalues"
   ]
  },
  {
   "cell_type": "code",
   "execution_count": 3,
   "metadata": {},
   "outputs": [],
   "source": [
    "cr1.setTruncationNumbers([25, 1, 25])\n",
    "numEig=5\n",
    "phiExt = np.linspace(0,1,100)*2*np.pi\n",
    "eigenValues = np.zeros((5, len(phiExt)))\n",
    "for i in range(len(phiExt)):\n",
    "    loop1.setFlux(phiExt[i])\n",
    "    eigenValues[:, i], _ = cr1.run(numEig)"
   ]
  },
  {
   "cell_type": "code",
   "execution_count": 4,
   "metadata": {},
   "outputs": [
    {
     "data": {
      "image/png": "[encoded data removed]",
      "text/plain": [
       "<Figure size 432x288 with 1 Axes>"
      ]
     },
     "metadata": {
      "needs_background": "light"
     },
     "output_type": "display_data"
    }
   ],
   "source": [
    "for i in range(numEig):\n",
    "    plt.plot(phiExt/2/np.pi, eigenValues[i,:]- eigenValues[0,:])"
   ]
  },
  {
   "cell_type": "markdown",
   "metadata": {},
   "source": [
    "The next cell shows the spectrum from the figure 4 of the paper, which is the same spectrum that Qcircuit calculated."
   ]
  },
  {
   "cell_type": "markdown",
   "metadata": {},
   "source": [
    "<img src=\"pics/zeroPiQubit_pic3.png\" width=\"250\" align = \"left\" />"
   ]
  },
  {
   "cell_type": "markdown",
   "metadata": {},
   "source": [
    "## Circuit Eigenvectors"
   ]
  },
  {
   "cell_type": "code",
   "execution_count": 5,
   "metadata": {},
   "outputs": [],
   "source": [
    "cr1.setTruncationNumbers([61, 1, 61])\n",
    "loop1.setFlux(0)\n",
    "eigVec, eigVal = cr1.run(numEig=2)"
   ]
  },
  {
   "cell_type": "code",
   "execution_count": 6,
   "metadata": {},
   "outputs": [],
   "source": [
    "phi = np.pi*np.linspace(-1,1,100)\n",
    "theta = np.pi*np.linspace(-0.3,1.3,100)\n",
    "Phi, Theta = np.meshgrid(phi,theta)\n",
    "state0  = np.squeeze(cr1.eigVecPhaseSpace(0,[Phi ,0 , Theta]))"
   ]
  },
  {
   "cell_type": "code",
   "execution_count": 7,
   "metadata": {},
   "outputs": [
    {
     "data": {
      "text/plain": [
       "Text(0, 0.5, '$\\\\theta$')"
      ]
     },
     "execution_count": 7,
     "metadata": {},
     "output_type": "execute_result"
    },
    {
     "data": {
      "image/png": "[encoded data removed]",
      "text/plain": [
       "<Figure size 360x216 with 2 Axes>"
      ]
     },
     "metadata": {
      "needs_background": "light"
     },
     "output_type": "display_data"
    }
   ],
   "source": [
    "plt.figure(figsize=(5, 3))\n",
    "plt.pcolor(Phi, Theta, np.abs(state0),cmap=\"Purples\",shading='auto')\n",
    "plt.colorbar()\n",
    "plt.xlabel(r'$\\phi$')\n",
    "plt.ylabel(r'$\\theta$')"
   ]
  },
  {
   "cell_type": "code",
   "execution_count": null,
   "metadata": {},
   "outputs": [],
   "source": []
  }
 ],
 "metadata": {
  "kernelspec": {
   "display_name": "Python 3 (ipykernel)",
   "language": "python",
   "name": "python3"
  },
  "language_info": {
   "codemirror_mode": {
    "name": "ipython",
    "version": 3
   },
   "file_extension": ".py",
   "mimetype": "text/x-python",
   "name": "python",
   "nbconvert_exporter": "python",
   "pygments_lexer": "ipython3",
   "version": "3.9.7"
  }
 },
 "nbformat": 4,
 "nbformat_minor": 2
}
