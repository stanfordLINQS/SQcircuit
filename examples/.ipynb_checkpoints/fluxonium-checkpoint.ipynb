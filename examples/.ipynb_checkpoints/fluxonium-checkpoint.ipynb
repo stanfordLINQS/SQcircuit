{
 "cells": [
  {
   "cell_type": "code",
   "execution_count": 1,
   "metadata": {},
   "outputs": [],
   "source": [
    "import sys, os\n",
    "os.chdir(\"../source\")\n",
    "import SQcircuit as sq\n",
    "import matplotlib.pyplot as plt\n",
    "import numpy as np\n",
    "from matplotlib.colors import LinearSegmentedColormap"
   ]
  },
  {
   "cell_type": "markdown",
   "metadata": {},
   "source": [
    "# Fluxonium 1"
   ]
  },
  {
   "cell_type": "code",
   "execution_count": 2,
   "metadata": {},
   "outputs": [],
   "source": [
    "C = sq.Capacitor(4, 'GHz', error=10)\n",
    "L = sq.Inductor(0.5,'GHz')\n",
    "JJ = sq.Junction(100,'GHz')\n",
    "\n",
    "circuitElements = {\n",
    "    (0, 1): [C, L, JJ]\n",
    "}\n",
    "\n",
    "cr1 = sq.Circuit(circuitElements)\n",
    "\n",
    "cr1.setTruncationNumbers([80])"
   ]
  },
  {
   "cell_type": "markdown",
   "metadata": {},
   "source": [
    "## Eigenfrequencies"
   ]
  },
  {
   "cell_type": "code",
   "execution_count": 3,
   "metadata": {},
   "outputs": [],
   "source": [
    "numEig = 5\n",
    "phiExt = np.linspace(0.0, 1.0, 50) * 2 * np.pi\n",
    "eigenValues = np.zeros((numEig, len(phiExt)))\n",
    "\n",
    "for i in range(len(phiExt)):\n",
    "    cr1.linkFluxes({(0,1): sq.Flux(phiExt[i])})\n",
    "    eigenValues[:, i], _ = cr1.run(numEig)"
   ]
  },
  {
   "cell_type": "code",
   "execution_count": 4,
   "metadata": {
    "scrolled": false
   },
   "outputs": [
    {
     "data": {
      "image/png": "[encoded data removed]",
      "text/plain": [
       "<Figure size 432x288 with 1 Axes>"
      ]
     },
     "metadata": {
      "needs_background": "light"
     },
     "output_type": "display_data"
    }
   ],
   "source": [
    "sq.unit.setFreq('GHz')\n",
    "plt.figure()\n",
    "for i in range(numEig):\n",
    "    plt.plot(phiExt / 2 / np.pi, (eigenValues[i, :] - eigenValues[0, :]))\n",
    "\n",
    "plt.xlabel(r\"$\\Phi_{ext}/\\Phi_0$\")\n",
    "plt.ylabel(r\"($\\omega_i-\\omega_0$)GHz\")\n",
    "plt.show()"
   ]
  },
  {
   "cell_type": "markdown",
   "metadata": {},
   "source": [
    "## Robustness Analysis"
   ]
  },
  {
   "cell_type": "code",
   "execution_count": 5,
   "metadata": {},
   "outputs": [],
   "source": [
    "sq.unit.setFreq('MHz')"
   ]
  },
  {
   "cell_type": "code",
   "execution_count": 6,
   "metadata": {},
   "outputs": [
    {
     "name": "stdout",
     "output_type": "stream",
     "text": [
      "Design frequency is: 0.5320068546861876MHz\n"
     ]
    }
   ],
   "source": [
    "cr1 = sq.Circuit(circuitElements)\n",
    "cr1.setTruncationNumbers([80])\n",
    "cr1.linkFluxes({(0,1): sq.Flux(np.pi)})\n",
    "freqs, _ = cr1.run(numEig)\n",
    "omega_q_d = freqs[1] - freqs[0]\n",
    "print(\"Design frequency is: {}MHz\".format(omega_q_d))"
   ]
  },
  {
   "cell_type": "code",
   "execution_count": 7,
   "metadata": {},
   "outputs": [],
   "source": [
    "numTrial = 2000\n",
    "omega_q = []\n",
    "\n",
    "for i in range(numTrial):\n",
    "    cr1 = sq.Circuit(circuitElements, random=True)\n",
    "    cr1.setTruncationNumbers([80])\n",
    "    cr1.linkFluxes({(0,1): sq.Flux(np.pi, noise=0)})\n",
    "    freqs, _ = cr1.run(numEig)\n",
    "    omega_q.append((freqs[1] - freqs[0]))"
   ]
  },
  {
   "cell_type": "code",
   "execution_count": 8,
   "metadata": {},
   "outputs": [
    {
     "data": {
      "text/plain": [
       "(0.2, 3.0)"
      ]
     },
     "execution_count": 8,
     "metadata": {},
     "output_type": "execute_result"
    },
    {
     "data": {
      "image/png": "[encoded data removed]",
      "text/plain": [
       "<Figure size 432x288 with 1 Axes>"
      ]
     },
     "metadata": {
      "needs_background": "light"
     },
     "output_type": "display_data"
    }
   ],
   "source": [
    "weights = np.ones_like(omega_q) / len(omega_q)\n",
    "_ ,_ ,_ = plt.hist(omega_q, 50, weights=weights, color=\"orange\", edgecolor='black')\n",
    "plt.xlim([0.2,3])"
   ]
  },
  {
   "cell_type": "markdown",
   "metadata": {},
   "source": [
    "# Fluxonium 2"
   ]
  },
  {
   "cell_type": "code",
   "execution_count": null,
   "metadata": {},
   "outputs": [],
   "source": [
    "C = sq.Capacitor(4, 'GHz', error=10,Q=3e6)\n",
    "L = sq.Inductor(0.5,'GHz')\n",
    "JJ = sq.Junction(100,'GHz')\n",
    "\n",
    "circuitElements = {\n",
    "    (0, 1): [C, L, JJ]\n",
    "}\n",
    "\n",
    "cr1 = sq.Circuit(circuitElements)\n",
    "\n",
    "cr1.setTruncationNumbers([80])"
   ]
  }
 ],
 "metadata": {
  "kernelspec": {
   "display_name": "Python 3 (ipykernel)",
   "language": "python",
   "name": "python3"
  },
  "language_info": {
   "codemirror_mode": {
    "name": "ipython",
    "version": 3
   },
   "file_extension": ".py",
   "mimetype": "text/x-python",
   "name": "python",
   "nbconvert_exporter": "python",
   "pygments_lexer": "ipython3",
   "version": "3.9.7"
  }
 },
 "nbformat": 4,
 "nbformat_minor": 2
}
