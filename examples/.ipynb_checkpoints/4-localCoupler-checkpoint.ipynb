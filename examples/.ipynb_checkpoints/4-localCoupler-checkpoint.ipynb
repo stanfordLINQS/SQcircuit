{
 "cells": [
  {
   "cell_type": "code",
   "execution_count": 2,
   "metadata": {},
   "outputs": [],
   "source": [
    "from circuitClass import *"
   ]
  },
  {
   "cell_type": "code",
   "execution_count": 13,
   "metadata": {
    "scrolled": false
   },
   "outputs": [],
   "source": [
    "circuitParam={'graph':[[1,3],[2,0],[2,3],[3,0],[1,2]],\n",
    "            'inductors':[293*pH,None,98.1*pH,None,None],\n",
    "            'capacitors':[98.8*fF,15*fF,38.7*fF,67.5*fF,0],\n",
    "            'JJs':[None,187*GHz,None,192*GHz,1560*GHz]}\n",
    "\n",
    "# define the circuit\n",
    "cr1 = Qcircuit(circuitParam)\n",
    "\n",
    "# set excitation\n",
    "# phiExt = np.linspace(-0.02,0.02,15)*2*np.pi\n",
    "phiExt = np.linspace(0,0.5,2)*2*np.pi\n",
    "cr1.setModeNumbers([19,19,21])\n",
    "# configure the circuit\n",
    "cr1.configure()"
   ]
  },
  {
   "cell_type": "code",
   "execution_count": 14,
   "metadata": {},
   "outputs": [
    {
     "data": {
      "text/plain": [
       "[[1, 2, 3], [0, 2, 3]]"
      ]
     },
     "execution_count": 14,
     "metadata": {},
     "output_type": "execute_result"
    }
   ],
   "source": [
    "cr1.getExternalLinks()"
   ]
  },
  {
   "cell_type": "code",
   "execution_count": 5,
   "metadata": {},
   "outputs": [],
   "source": [
    "cr1.setExcitation([0,0])"
   ]
  },
  {
   "cell_type": "code",
   "execution_count": 6,
   "metadata": {},
   "outputs": [
    {
     "name": "stdout",
     "output_type": "stream",
     "text": [
      "--- 1.6042149066925049 seconds ---\n"
     ]
    }
   ],
   "source": [
    "start_time = time.time()\n",
    "cr1.run(numBand = 10,showLoading=True)\n",
    "print(\"--- %s seconds ---\" % (time.time() - start_time))"
   ]
  },
  {
   "cell_type": "code",
   "execution_count": 7,
   "metadata": {},
   "outputs": [
    {
     "name": "stdout",
     "output_type": "stream",
     "text": [
      "0.0\n",
      "26.335677118051002\n",
      "43.87204568506446\n",
      "53.36543757807209\n",
      "70.19886944704933\n",
      "82.54542591043995\n",
      "87.73556229019903\n",
      "97.27984504527484\n",
      "107.37025983690701\n",
      "114.05394875166225\n"
     ]
    }
   ],
   "source": [
    "for i in range(10):\n",
    "    print((cr1.HamilEigVal[i,0].real-cr1.HamilEigVal[0,0].real)/GHz/2/np.pi)"
   ]
  },
  {
   "cell_type": "code",
   "execution_count": 8,
   "metadata": {},
   "outputs": [],
   "source": [
    "cr1.setTemperature(1e-4)\n",
    "cr1.setDieTanLoss([0,0,1e-6,0,0])\n",
    "gammaDie = cr1.decayRateProcess(0,1,mode='dielectric')"
   ]
  },
  {
   "cell_type": "code",
   "execution_count": 9,
   "metadata": {
    "scrolled": true
   },
   "outputs": [
    {
     "data": {
      "text/plain": [
       "array([370.88699362])"
      ]
     },
     "execution_count": 9,
     "metadata": {},
     "output_type": "execute_result"
    }
   ],
   "source": [
    "gammaDie"
   ]
  },
  {
   "cell_type": "code",
   "execution_count": 10,
   "metadata": {},
   "outputs": [
    {
     "data": {
      "text/plain": [
       "1.6549840276802644e+308"
      ]
     },
     "execution_count": 10,
     "metadata": {},
     "output_type": "execute_result"
    }
   ],
   "source": [
    "np.exp(709.7)"
   ]
  },
  {
   "cell_type": "code",
   "execution_count": 11,
   "metadata": {},
   "outputs": [],
   "source": [
    "circuitParam={'graph':[[1,0],[2,3],[2,0],[0,3],[1,2]],\n",
    "            'inductors':[293*pH,None,98.1*pH,None,None],\n",
    "            'capacitors':[98.8*fF,15*fF,38.7*fF,67.5*fF,0],\n",
    "            'JJs':[None,187*GHz,None,192*GHz,1560*GHz]}\n",
    "\n",
    "# define the circuit\n",
    "cr1 = Qcircuit(circuitParam)\n",
    "\n",
    "# set excitation\n",
    "# phiExt = np.linspace(-0.02,0.02,15)*2*np.pi\n",
    "phiExt = np.linspace(0,0.5,2)*2*np.pi\n",
    "cr1.setModeNumbers([19,19,21])\n",
    "# configure the circuit\n",
    "cr1.configure()"
   ]
  },
  {
   "cell_type": "code",
   "execution_count": 13,
   "metadata": {
    "scrolled": false
   },
   "outputs": [
    {
     "name": "stdout",
     "output_type": "stream",
     "text": [
      "--- 1.552605152130127 seconds ---\n"
     ]
    }
   ],
   "source": [
    "cr1.setExcitation([0,0])\n",
    "start_time = time.time()\n",
    "cr1.run(numBand = 10,showLoading=True)\n",
    "print(\"--- %s seconds ---\" % (time.time() - start_time))"
   ]
  },
  {
   "cell_type": "code",
   "execution_count": 14,
   "metadata": {},
   "outputs": [
    {
     "name": "stdout",
     "output_type": "stream",
     "text": [
      "0.0\n",
      "26.335677118074315\n",
      "43.87204568511388\n",
      "53.36543757809168\n",
      "70.19886944704685\n",
      "82.54542591043591\n",
      "87.73556229021334\n",
      "97.27984504529783\n",
      "107.370259836921\n",
      "114.05394875166661\n"
     ]
    }
   ],
   "source": [
    "for i in range(10):\n",
    "    print((cr1.HamilEigVal[i,0].real-cr1.HamilEigVal[0,0].real)/GHz/2/np.pi)"
   ]
  },
  {
   "cell_type": "code",
   "execution_count": 15,
   "metadata": {},
   "outputs": [],
   "source": [
    "cr1.setTemperature(1e-2)\n",
    "cr1.setDieTanLoss([0,0,1e-6,0,0])\n",
    "gammaDie = cr1.decayRateProcess(0,1,mode='dielectric')"
   ]
  },
  {
   "cell_type": "code",
   "execution_count": 16,
   "metadata": {},
   "outputs": [
    {
     "data": {
      "text/plain": [
       "array([370.88699362])"
      ]
     },
     "execution_count": 16,
     "metadata": {},
     "output_type": "execute_result"
    }
   ],
   "source": [
    "gammaDie"
   ]
  },
  {
   "cell_type": "code",
   "execution_count": null,
   "metadata": {},
   "outputs": [],
   "source": []
  },
  {
   "cell_type": "code",
   "execution_count": null,
   "metadata": {},
   "outputs": [],
   "source": []
  },
  {
   "cell_type": "code",
   "execution_count": null,
   "metadata": {},
   "outputs": [],
   "source": []
  },
  {
   "cell_type": "code",
   "execution_count": null,
   "metadata": {},
   "outputs": [],
   "source": []
  },
  {
   "cell_type": "code",
   "execution_count": null,
   "metadata": {},
   "outputs": [],
   "source": []
  },
  {
   "cell_type": "code",
   "execution_count": null,
   "metadata": {},
   "outputs": [],
   "source": []
  },
  {
   "cell_type": "code",
   "execution_count": null,
   "metadata": {},
   "outputs": [],
   "source": []
  },
  {
   "cell_type": "code",
   "execution_count": null,
   "metadata": {},
   "outputs": [],
   "source": []
  },
  {
   "cell_type": "code",
   "execution_count": 12,
   "metadata": {},
   "outputs": [
    {
     "data": {
      "text/plain": [
       "array([4.47194610e+11, 1.85860764e+11, 0.00000000e+00])"
      ]
     },
     "execution_count": 12,
     "metadata": {},
     "output_type": "execute_result"
    }
   ],
   "source": [
    "cr1.omega"
   ]
  },
  {
   "cell_type": "code",
   "execution_count": 18,
   "metadata": {},
   "outputs": [
    {
     "name": "stdout",
     "output_type": "stream",
     "text": [
      "0.0\n",
      "5.900932710808098\n"
     ]
    }
   ],
   "source": [
    "for i in range(2):\n",
    "    print(cr1.HamilEigVal[i,1].real/GHz-cr1.HamilEigVal[0,1].real/GHz)"
   ]
  },
  {
   "cell_type": "code",
   "execution_count": 19,
   "metadata": {},
   "outputs": [
    {
     "ename": "AttributeError",
     "evalue": "'Qcircuit' object has no attribute 'solveCircuit'",
     "output_type": "error",
     "traceback": [
      "\u001b[0;31m---------------------------------------------------------------------------\u001b[0m",
      "\u001b[0;31mAttributeError\u001b[0m                            Traceback (most recent call last)",
      "\u001b[0;32m<ipython-input-19-a5f8e15fe858>\u001b[0m in \u001b[0;36m<module>\u001b[0;34m\u001b[0m\n\u001b[1;32m      1\u001b[0m \u001b[0mcr1\u001b[0m\u001b[0;34m.\u001b[0m\u001b[0msetExcitation\u001b[0m\u001b[0;34m(\u001b[0m\u001b[0;34m[\u001b[0m\u001b[0;34m(\u001b[0m\u001b[0;34m[\u001b[0m\u001b[0;36m1\u001b[0m\u001b[0;34m,\u001b[0m\u001b[0;36m2\u001b[0m\u001b[0;34m,\u001b[0m\u001b[0;36m3\u001b[0m\u001b[0;34m]\u001b[0m\u001b[0;34m,\u001b[0m\u001b[0;36m0\u001b[0m\u001b[0;34m)\u001b[0m\u001b[0;34m,\u001b[0m\u001b[0;34m(\u001b[0m\u001b[0;34m[\u001b[0m\u001b[0;36m0\u001b[0m\u001b[0;34m,\u001b[0m\u001b[0;36m2\u001b[0m\u001b[0;34m,\u001b[0m\u001b[0;36m3\u001b[0m\u001b[0;34m]\u001b[0m\u001b[0;34m,\u001b[0m\u001b[0mnp\u001b[0m\u001b[0;34m.\u001b[0m\u001b[0mpi\u001b[0m\u001b[0;34m)\u001b[0m\u001b[0;34m]\u001b[0m\u001b[0;34m)\u001b[0m\u001b[0;34m\u001b[0m\u001b[0;34m\u001b[0m\u001b[0m\n\u001b[1;32m      2\u001b[0m \u001b[0mstart_time\u001b[0m \u001b[0;34m=\u001b[0m \u001b[0mtime\u001b[0m\u001b[0;34m.\u001b[0m\u001b[0mtime\u001b[0m\u001b[0;34m(\u001b[0m\u001b[0;34m)\u001b[0m\u001b[0;34m\u001b[0m\u001b[0;34m\u001b[0m\u001b[0m\n\u001b[0;32m----> 3\u001b[0;31m \u001b[0mcr1\u001b[0m\u001b[0;34m.\u001b[0m\u001b[0msolveCircuit\u001b[0m\u001b[0;34m(\u001b[0m\u001b[0mshowLoading\u001b[0m\u001b[0;34m=\u001b[0m\u001b[0;32mTrue\u001b[0m\u001b[0;34m)\u001b[0m\u001b[0;34m\u001b[0m\u001b[0;34m\u001b[0m\u001b[0m\n\u001b[0m\u001b[1;32m      4\u001b[0m \u001b[0mprint\u001b[0m\u001b[0;34m(\u001b[0m\u001b[0;34m\"--- %s seconds ---\"\u001b[0m \u001b[0;34m%\u001b[0m \u001b[0;34m(\u001b[0m\u001b[0mtime\u001b[0m\u001b[0;34m.\u001b[0m\u001b[0mtime\u001b[0m\u001b[0;34m(\u001b[0m\u001b[0;34m)\u001b[0m \u001b[0;34m-\u001b[0m \u001b[0mstart_time\u001b[0m\u001b[0;34m)\u001b[0m\u001b[0;34m)\u001b[0m\u001b[0;34m\u001b[0m\u001b[0;34m\u001b[0m\u001b[0m\n",
      "\u001b[0;31mAttributeError\u001b[0m: 'Qcircuit' object has no attribute 'solveCircuit'"
     ]
    }
   ],
   "source": [
    "cr1.setExcitation([([1,2,3],0),([0,2,3],np.pi)])\n",
    "start_time = time.time()\n",
    "cr1.solveCircuit(showLoading=True)\n",
    "print(\"--- %s seconds ---\" % (time.time() - start_time))"
   ]
  },
  {
   "cell_type": "code",
   "execution_count": 7,
   "metadata": {},
   "outputs": [
    {
     "name": "stdout",
     "output_type": "stream",
     "text": [
      "0.0\n",
      "0.5986454080621115\n",
      "3.767162523562547\n",
      "6.194661674056988\n",
      "9.005481596474965\n",
      "12.212098862532912\n",
      "13.742003497873384\n",
      "18.893525284650877\n",
      "19.076722596969375\n",
      "27.135448378415276\n"
     ]
    }
   ],
   "source": [
    "for i in range(10):\n",
    "    print(cr1.HamilEigVal[i].real/GHz-cr1.HamilEigVal[0].real/GHz)"
   ]
  },
  {
   "cell_type": "code",
   "execution_count": null,
   "metadata": {
    "scrolled": false
   },
   "outputs": [],
   "source": [
    "fig = plt.figure()\n",
    "for i in range(4):\n",
    "    plt.plot(phiExt/2/np.pi,cr1.HamilEig[i,:].real/GHz-np.min(cr1.HamilEig[0,:].real)/GHz,'.',\\\n",
    "            markersize = 8)\n",
    "plt.xlabel(\"$\\Phi_{ext}/\\Phi_0$\")\n",
    "plt.ylabel(\"($\\omega_i$)GHz\")\n",
    "plt.savefig(\"fig1\")"
   ]
  },
  {
   "cell_type": "markdown",
   "metadata": {},
   "source": [
    "## Circuit Hamiltonian\n",
    "In this section, I diogonalize the circuit Hamiltonian without using the Qcircuit Class. The corrected version of the Hamiltonian of the paper is:\n",
    "\n",
    "\\begin{equation}\n",
    "\\begin{aligned}\n",
    "H &=H_{O}+H_{C}+H_{\\mathrm{int}} \\\\\n",
    "H_{\\mathrm{O}} &=\\hbar \\omega_{1} a_{1}^{\\dagger} a_{1}+\\hbar \\omega_{2} a_{2}^{\\dagger} a_{2}-\\frac{\\hbar}{2 \\sqrt{Z_{1} Z_{2}}} \\tilde{c}_{12}^{-1}\\left(a_{1}-a_{1}^{\\dagger}\\right)\\left(a_{2}-a_{2}^{\\dagger}\\right)-\\frac{E_{J 12}}{2}\\left(e^{i \\phi_{\\mathrm{var}}} D_{1}^{\\dagger}\\left(\\alpha_{1}\\right) D_{2}^{\\dagger}\\left(-\\alpha_{2}\\right)+\\mathrm{h.c.}\\right) \\\\\n",
    "H_{\\mathrm{C}} &=\\frac{1}{2} \\tilde{c}_{33}^{-1} \\tilde{Q}_{3}^{2} \\\\\n",
    "H_{\\mathrm{int}} &=-i \\sqrt{\\frac{\\hbar}{2 Z_{1}}} \\tilde{c}_{13}^{-1}\\left(a_{1}-a_{1}^{\\dagger}\\right) \\tilde{Q}_{3}-i \\sqrt{\\frac{\\hbar}{2 Z_{2}}} \\tilde{c}_{23}^{-1}\\left(a_{2}-a_{2}^{\\dagger}\\right) \\tilde{Q}_{3}-\\frac{E_{122}}{2}\\left(e^{-i \\phi_{\\mathrm{ix}}} D_{2}^{\\dagger}\\left(\\alpha_{2}\\right) d_{3}^{-}+\\mathrm{h.c.}\\right) \\\\\n",
    "&-\\frac{E_{\\mathrm{J} 33}}{2}\\left(D_{1}^{\\dagger}\\left(\\alpha_{1}\\right) D_{2}^{\\dagger}\\left(\\alpha_{2}\\right) d_{3}^{-}+\\mathrm{h.c.}\\right)\n",
    "\\end{aligned}\n",
    "\\end{equation}\n"
   ]
  },
  {
   "cell_type": "code",
   "execution_count": 7,
   "metadata": {
    "scrolled": false
   },
   "outputs": [
    {
     "name": "stdout",
     "output_type": "stream",
     "text": [
      "1st frequency: 71.17323277860973\n",
      "2nd frequency: 29.58065928330362\n",
      "3rd frequency: 5.481868369201006\n",
      "[[ 7.95238698e+12 -5.31404281e+12 -4.03473884e+12]\n",
      " [-5.31404281e+12  1.18741408e+13 -2.02490060e+12]\n",
      " [-4.03473884e+12 -2.02490060e+12  4.10885805e+13]]\n",
      "[[ 7.95238698e+12 -5.31404281e+12 -2.32945755e+12]\n",
      " [-5.31404281e+12  1.18741408e+13 -1.16907690e+12]\n",
      " [-4.03473884e+12 -2.02490060e+12  1.36961935e+13]]\n",
      "[67.46265936 37.27511314  0.        ]\n",
      "0.1461403925928947j 0.16282277588255015j\n"
     ]
    }
   ],
   "source": [
    "R = np.array([[1,0,1],[0,1,1],[1,1,1]])\n",
    "RInv = np.linalg.inv(R)\n",
    "Cx = cr1.giveMatC()\n",
    "Lx = cr1.giveMatL()\n",
    "_ ,S = np.linalg.eig(Lx)\n",
    "lRotated = R @ Lx @ R \n",
    "cInvRotated = RInv @ np.linalg.inv(Cx) @ RInv\n",
    "print(\"1st frequency:\", np.sqrt(lRotated[0,0]*cInvRotated[0,0])/GHz)\n",
    "print(\"2nd frequency:\", np.sqrt(lRotated[1,1]*cInvRotated[1,1])/GHz)\n",
    "print(\"3rd frequency:\", 4*cInvRotated[2,2]*e**2/GHz/hbar)\n",
    "# print(cr1.JJEqRotated)\n",
    "# print(cr1.JJEq@R)\n",
    "Z1 = np.sqrt(cInvRotated[0,0]/lRotated[0,0])\n",
    "Z2 = np.sqrt(cInvRotated[1,1]/lRotated[1,1])\n",
    "omega = np.sqrt(np.diag(cInvRotated)*np.diag(lRotated))\n",
    "\n",
    "print(S.T @ np.linalg.inv(Cx) @ S)\n",
    "print(cr1.cInvRotated)\n",
    "print(cr1.omega/GHz)\n",
    "alpha1 = 1j*2*np.pi/Phi0*np.sqrt(hbar*Z1/2)\n",
    "alpha2 = 1j*2*np.pi/Phi0*np.sqrt(hbar*Z2/2)\n",
    "print(alpha1,alpha2)"
   ]
  },
  {
   "cell_type": "code",
   "execution_count": 8,
   "metadata": {},
   "outputs": [],
   "source": [
    "m = [10,15,25]\n",
    "def Hamil(phiVar,phiFix):\n",
    "    I1 = q.qeye(m[0]);\n",
    "    num1 = q.num(m[0]);\n",
    "    intr1 = q.destroy(m[0]) - q.create(m[0])\n",
    "    I2 = q.qeye(m[1]);\n",
    "    num2 = q.num(m[1]);\n",
    "    intr2 = q.destroy(m[1]) - q.create(m[1])\n",
    "    I3 = q.qeye(m[2]);\n",
    "    charge3 = q.charge((m[2]-1)/2)\n",
    "    d3 = cr1.chargeDisp(m[2])\n",
    "    \n",
    "    \n",
    "    HLC = omega[0]*q.tensor(num1,I2,I3) +\\\n",
    "    omega[1]*q.tensor(I1,num2,I3) +\\\n",
    "    0.5*(2*e)**2*cInvRotated[2,2]/hbar*q.tensor(I1,I2,charge3)*q.tensor(I1,I2,charge3)-\\\n",
    "    1/np.sqrt(Z1*Z2)/2*cInvRotated[0,1]*q.tensor(intr1,intr2,I3) -\\\n",
    "    1j*np.sqrt(1/(2*hbar*Z1))*(2*e)*cInvRotated[0,2]*q.tensor(intr1,I2,charge3) -\\\n",
    "    1j*np.sqrt(1/(2*hbar*Z2))*(2*e)*cInvRotated[1,2]*q.tensor(I1,intr2,charge3)\n",
    "    \n",
    "    alpha1 = 1j*2*np.pi/Phi0*np.sqrt(hbar*Z1/2)\n",
    "    alpha2 = 1j*2*np.pi/Phi0*np.sqrt(hbar*Z2/2)\n",
    "    \n",
    "    HJ12 = -JJ[4]/2*np.exp(1j*phiVar)*q.tensor(q.displace(m[0],alpha1),q.displace(m[1],-alpha2),I3)\n",
    "    HJ22 = -JJ[1]/2*np.exp(1j*phiFix)*q.tensor(I1,q.displace(m[1],alpha2),d3);\n",
    "    HJ33 = -JJ[3]/2*q.tensor(q.displace(m[0],alpha1),q.displace(m[1],alpha2),d3)\n",
    "    \n",
    "    H = HLC +  (HJ12+HJ12.dag()) + HJ22+HJ22.dag() + (HJ33+HJ33.dag())\n",
    "    return H"
   ]
  },
  {
   "cell_type": "code",
   "execution_count": 9,
   "metadata": {
    "scrolled": true
   },
   "outputs": [
    {
     "name": "stdout",
     "output_type": "stream",
     "text": [
      "0\n",
      "1\n"
     ]
    }
   ],
   "source": [
    "HamilEig = np.zeros((m[0]*m[1]*m[2],len(phiExt)),dtype='complex');\n",
    "HJ22List = [];\n",
    "for i in range(len(phiExt)):\n",
    "    print(i)\n",
    "    if(i==1):\n",
    "        continue\n",
    "    H = Hamil(phiVar = 0, phiFix = phiExt[i]);\n",
    "    eigenValues , eigenVectors = H.eigenstates();\n",
    "    HamilEig[:,i] = eigenValues"
   ]
  },
  {
   "cell_type": "code",
   "execution_count": 10,
   "metadata": {},
   "outputs": [
    {
     "name": "stdout",
     "output_type": "stream",
     "text": [
      "0.0\n",
      "26.141527948667317\n",
      "43.87136554379504\n",
      "52.164000744917985\n",
      "69.99824921299273\n",
      "78.39866178192278\n",
      "87.73996469023086\n",
      "96.04926655616441\n",
      "105.58898354938492\n",
      "107.37283385209344\n"
     ]
    }
   ],
   "source": [
    "for i in range(10):\n",
    "    print(HamilEig[i,0].real/GHz-HamilEig[0,0].real/GHz)"
   ]
  }
 ],
 "metadata": {
  "kernelspec": {
   "display_name": "Python 3",
   "language": "python",
   "name": "python3"
  },
  "language_info": {
   "codemirror_mode": {
    "name": "ipython",
    "version": 3
   },
   "file_extension": ".py",
   "mimetype": "text/x-python",
   "name": "python",
   "nbconvert_exporter": "python",
   "pygments_lexer": "ipython3",
   "version": "3.7.5"
  }
 },
 "nbformat": 4,
 "nbformat_minor": 2
}
