{
 "cells": [
  {
   "cell_type": "markdown",
   "metadata": {},
   "source": [
    "# 4 Local Coupler Circuit"
   ]
  },
  {
   "cell_type": "markdown",
   "metadata": {},
   "source": [
    "In this notebook, we use Qcircuit to find the spectrum of a four local circuit( the circuit diagram and its paramters is in the appendix) based on the following paper:   \n",
    "_Automated discovery of superconducting circuits and its application to 4-local coupler design_"
   ]
  },
  {
   "cell_type": "markdown",
   "metadata": {},
   "source": [
    "First, we import the Qcircuit from circuitClass file and specify a number for each nodes on the circuit. The number for each node should be consecutive integer starts from zero(corresponds to circuit ground.) "
   ]
  },
  {
   "cell_type": "code",
   "execution_count": 14,
   "metadata": {},
   "outputs": [],
   "source": [
    "from circuitClass import *"
   ]
  },
  {
   "cell_type": "markdown",
   "metadata": {},
   "source": [
    "<img src=\"pics/4localCoupler_pic1.png\" width=\"200\" />"
   ]
  },
  {
   "cell_type": "markdown",
   "metadata": {},
   "source": [
    "We use the parameters of the circuit "
   ]
  },
  {
   "cell_type": "markdown",
   "metadata": {},
   "source": [
    "<img src=\"pics/4localCoupler_pic2.png\" width=\"200\" />"
   ]
  },
  {
   "cell_type": "code",
   "execution_count": 2,
   "metadata": {
    "scrolled": false
   },
   "outputs": [],
   "source": [
    "circuitParam={'graph':[[1,3],[2,0],[2,3],[3,0],[1,2]],\n",
    "            'inductors':[293*pH,None,98.1*pH,None,None],\n",
    "            'capacitors':[98.8*fF,15*fF,38.7*fF,67.5*fF,0],\n",
    "            'JJs':[None,187*GHz,None,192*GHz,1560*GHz]}\n",
    "\n",
    "# define the circuit\n",
    "cr1 = Qcircuit(circuitParam)\n",
    "\n",
    "# set excitation\n",
    "# phiExt = np.linspace(-0.02,0.02,15)*2*np.pi\n",
    "phiExt = np.linspace(0,0.2,10)*2*np.pi\n",
    "cr1.setModeNumbers([19,19,21])\n",
    "# configure the circuit\n",
    "cr1.configure()"
   ]
  },
  {
   "cell_type": "code",
   "execution_count": 3,
   "metadata": {},
   "outputs": [
    {
     "data": {
      "text/plain": [
       "[[1, 2, 3], [0, 2, 3]]"
      ]
     },
     "execution_count": 3,
     "metadata": {},
     "output_type": "execute_result"
    }
   ],
   "source": [
    "cr1.getExternalLinks()"
   ]
  },
  {
   "cell_type": "code",
   "execution_count": 4,
   "metadata": {},
   "outputs": [
    {
     "data": {
      "text/plain": [
       "array([1.56e+12, 1.92e+11, 1.87e+11])"
      ]
     },
     "execution_count": 4,
     "metadata": {},
     "output_type": "execute_result"
    }
   ],
   "source": [
    "np.array(cr1.JJEj)/2/np.pi"
   ]
  },
  {
   "cell_type": "code",
   "execution_count": 5,
   "metadata": {},
   "outputs": [
    {
     "data": {
      "text/plain": [
       "[[0], [1], 0]"
      ]
     },
     "execution_count": 5,
     "metadata": {},
     "output_type": "execute_result"
    }
   ],
   "source": [
    "cr1.JJExcite"
   ]
  },
  {
   "cell_type": "code",
   "execution_count": 6,
   "metadata": {},
   "outputs": [],
   "source": [
    "cr1.setExcitation([phiExt,0])"
   ]
  },
  {
   "cell_type": "code",
   "execution_count": 7,
   "metadata": {},
   "outputs": [
    {
     "name": "stdout",
     "output_type": "stream",
     "text": [
      "0\n",
      "1\n",
      "2\n",
      "3\n",
      "4\n",
      "5\n",
      "6\n",
      "7\n",
      "8\n",
      "9\n",
      "--- 16.801630973815918 seconds ---\n"
     ]
    }
   ],
   "source": [
    "start_time = time.time()\n",
    "cr1.run(numBand = 10,showLoading=True)\n",
    "print(\"--- %s seconds ---\" % (time.time() - start_time))"
   ]
  },
  {
   "cell_type": "code",
   "execution_count": 8,
   "metadata": {},
   "outputs": [
    {
     "data": {
      "text/plain": [
       "Text(0, 0.5, 'GHz')"
      ]
     },
     "execution_count": 8,
     "metadata": {},
     "output_type": "execute_result"
    },
    {
     "data": {
      "image/png": "[encoded data removed]",
      "text/plain": [
       "<Figure size 432x288 with 1 Axes>"
      ]
     },
     "metadata": {
      "needs_background": "light"
     },
     "output_type": "display_data"
    }
   ],
   "source": [
    "plt.figure()\n",
    "for i in range(3):\n",
    "    plt.plot(phiExt/2/np.pi,(cr1.HamilEigVal[i,:]-np.min(cr1.HamilEigVal[0,:])).real/(GHz*2*np.pi),'.')\n",
    "\n",
    "plt.xlabel(\"$\\Phi_{ext}/\\Phi_0$\")\n",
    "plt.ylabel(\"GHz\")"
   ]
  },
  {
   "cell_type": "markdown",
   "metadata": {},
   "source": [
    "## Circuit Hamiltonian\n",
    "In this section, I diogonalize the circuit Hamiltonian without using the Qcircuit Class. The corrected version of the Hamiltonian of the paper is:\n",
    "\n",
    "\\begin{equation}\n",
    "\\begin{aligned}\n",
    "H &=H_{O}+H_{C}+H_{\\mathrm{int}} \\\\\n",
    "H_{\\mathrm{O}} &=\\hbar \\omega_{1} a_{1}^{\\dagger} a_{1}+\\hbar \\omega_{2} a_{2}^{\\dagger} a_{2}-\\frac{\\hbar}{2 \\sqrt{Z_{1} Z_{2}}} \\tilde{c}_{12}^{-1}\\left(a_{1}-a_{1}^{\\dagger}\\right)\\left(a_{2}-a_{2}^{\\dagger}\\right)-\\frac{E_{J 12}}{2}\\left(e^{i \\phi_{\\mathrm{var}}} D_{1}^{\\dagger}\\left(\\alpha_{1}\\right) D_{2}^{\\dagger}\\left(-\\alpha_{2}\\right)+\\mathrm{h.c.}\\right) \\\\\n",
    "H_{\\mathrm{C}} &=\\frac{1}{2} \\tilde{c}_{33}^{-1} \\tilde{Q}_{3}^{2} \\\\\n",
    "H_{\\mathrm{int}} &=-i \\sqrt{\\frac{\\hbar}{2 Z_{1}}} \\tilde{c}_{13}^{-1}\\left(a_{1}-a_{1}^{\\dagger}\\right) \\tilde{Q}_{3}-i \\sqrt{\\frac{\\hbar}{2 Z_{2}}} \\tilde{c}_{23}^{-1}\\left(a_{2}-a_{2}^{\\dagger}\\right) \\tilde{Q}_{3}-\\frac{E_{122}}{2}\\left(e^{-i \\phi_{\\mathrm{ix}}} D_{2}^{\\dagger}\\left(\\alpha_{2}\\right) d_{3}^{-}+\\mathrm{h.c.}\\right) \\\\\n",
    "&-\\frac{E_{\\mathrm{J} 33}}{2}\\left(D_{1}^{\\dagger}\\left(\\alpha_{1}\\right) D_{2}^{\\dagger}\\left(\\alpha_{2}\\right) d_{3}^{-}+\\mathrm{h.c.}\\right)\n",
    "\\end{aligned}\n",
    "\\end{equation}\n"
   ]
  },
  {
   "cell_type": "code",
   "execution_count": 9,
   "metadata": {
    "scrolled": false
   },
   "outputs": [],
   "source": [
    "R = np.array([[1,0,1],[0,1,1],[1,1,1]])\n",
    "RInv = np.linalg.inv(R)\n",
    "Cx = cr1.getMatC()\n",
    "Lx = cr1.getMatL()\n",
    "_ ,S = np.linalg.eig(Lx)\n",
    "lRotated = R @ Lx @ R \n",
    "cInvRotated = RInv @ np.linalg.inv(Cx) @ RInv\n",
    "\n",
    "Z1 = np.sqrt(cInvRotated[0,0]/lRotated[0,0])\n",
    "Z2 = np.sqrt(cInvRotated[1,1]/lRotated[1,1])\n",
    "omega = np.sqrt(np.diag(cInvRotated)*np.diag(lRotated))\n",
    "\n",
    "alpha1 = 1j*2*np.pi/Phi0*np.sqrt(hbar*Z1/2)\n",
    "alpha2 = 1j*2*np.pi/Phi0*np.sqrt(hbar*Z2/2)"
   ]
  },
  {
   "cell_type": "code",
   "execution_count": 10,
   "metadata": {},
   "outputs": [],
   "source": [
    "m = [10,15,25]\n",
    "JJ = cr1.JJ.copy()\n",
    "def Hamil(phiVar,phiFix):\n",
    "    I1 = q.qeye(m[0]);\n",
    "    num1 = q.num(m[0]);\n",
    "    intr1 = q.destroy(m[0]) - q.create(m[0])\n",
    "    I2 = q.qeye(m[1]);\n",
    "    num2 = q.num(m[1]);\n",
    "    intr2 = q.destroy(m[1]) - q.create(m[1])\n",
    "    I3 = q.qeye(m[2]);\n",
    "    charge3 = q.charge((m[2]-1)/2)\n",
    "    d3 = cr1.chargeDisp(m[2])\n",
    "    \n",
    "    \n",
    "    HLC = omega[0]*q.tensor(num1,I2,I3) +\\\n",
    "    omega[1]*q.tensor(I1,num2,I3) +\\\n",
    "    0.5*(2*e)**2*cInvRotated[2,2]/hbar*q.tensor(I1,I2,charge3)*q.tensor(I1,I2,charge3)-\\\n",
    "    1/np.sqrt(Z1*Z2)/2*cInvRotated[0,1]*q.tensor(intr1,intr2,I3) -\\\n",
    "    1j*np.sqrt(1/(2*hbar*Z1))*(2*e)*cInvRotated[0,2]*q.tensor(intr1,I2,charge3) -\\\n",
    "    1j*np.sqrt(1/(2*hbar*Z2))*(2*e)*cInvRotated[1,2]*q.tensor(I1,intr2,charge3)\n",
    "    \n",
    "    alpha1 = 1j*2*np.pi/Phi0*np.sqrt(hbar*Z1/2)\n",
    "    alpha2 = 1j*2*np.pi/Phi0*np.sqrt(hbar*Z2/2)\n",
    "    \n",
    "    HJ12 = -JJ[4]/2*np.exp(1j*phiVar)*q.tensor(q.displace(m[0],alpha1),q.displace(m[1],-alpha2),I3)\n",
    "    HJ22 = -JJ[1]/2*np.exp(1j*phiFix)*q.tensor(I1,q.displace(m[1],alpha2),d3);\n",
    "    HJ33 = -JJ[3]/2*q.tensor(q.displace(m[0],alpha1),q.displace(m[1],alpha2),d3)\n",
    "    \n",
    "    H = HLC +  (HJ12+HJ12.dag()) + HJ22+HJ22.dag() + (HJ33+HJ33.dag())\n",
    "    return H"
   ]
  },
  {
   "cell_type": "code",
   "execution_count": 11,
   "metadata": {
    "scrolled": true
   },
   "outputs": [
    {
     "name": "stdout",
     "output_type": "stream",
     "text": [
      "0\n",
      "1\n",
      "2\n",
      "3\n",
      "4\n",
      "5\n",
      "6\n",
      "7\n",
      "8\n",
      "9\n"
     ]
    }
   ],
   "source": [
    "HamilEig = np.zeros((m[0]*m[1]*m[2],len(phiExt)),dtype='complex');\n",
    "HJ22List = [];\n",
    "for i in range(len(phiExt)):\n",
    "    print(i)\n",
    "    H = Hamil(phiVar = phiExt[i], phiFix = 0);\n",
    "    eigenValues , eigenVectors = H.eigenstates();\n",
    "    HamilEig[:,i] = eigenValues"
   ]
  },
  {
   "cell_type": "code",
   "execution_count": 12,
   "metadata": {},
   "outputs": [
    {
     "name": "stdout",
     "output_type": "stream",
     "text": [
      "0.0\n",
      "26.1415279486667\n",
      "43.87136554379441\n",
      "52.16400074491739\n",
      "69.99824921299182\n",
      "78.39866178192274\n",
      "87.7399646902307\n",
      "96.04926655616387\n",
      "105.58898354938478\n",
      "107.37283385209322\n"
     ]
    }
   ],
   "source": [
    "for i in range(10):\n",
    "    print((HamilEig[i,0]-HamilEig[0,0]).real/(2*np.pi*GHz))"
   ]
  },
  {
   "cell_type": "code",
   "execution_count": 13,
   "metadata": {},
   "outputs": [
    {
     "data": {
      "text/plain": [
       "Text(0, 0.5, '($\\\\omega_i-\\\\omega_0$)GHz')"
      ]
     },
     "execution_count": 13,
     "metadata": {},
     "output_type": "execute_result"
    },
    {
     "data": {
      "image/png": "[encoded data removed]",
      "text/plain": [
       "<Figure size 432x288 with 1 Axes>"
      ]
     },
     "metadata": {
      "needs_background": "light"
     },
     "output_type": "display_data"
    }
   ],
   "source": [
    "plt.figure()\n",
    "for i in range(3):\n",
    "    plt.plot(phiExt/2/np.pi,(HamilEig[i,:]-np.min(HamilEig[0,:])).real/GHz/2/np.pi,'.')\n",
    "\n",
    "plt.xlabel(\"$\\Phi_{ext}/\\Phi_0$\")\n",
    "plt.ylabel(\"($\\omega_i-\\omega_0$)GHz\")"
   ]
  },
  {
   "cell_type": "code",
   "execution_count": null,
   "metadata": {},
   "outputs": [],
   "source": []
  }
 ],
 "metadata": {
  "kernelspec": {
   "display_name": "Python 3",
   "language": "python",
   "name": "python3"
  },
  "language_info": {
   "codemirror_mode": {
    "name": "ipython",
    "version": 3
   },
   "file_extension": ".py",
   "mimetype": "text/x-python",
   "name": "python",
   "nbconvert_exporter": "python",
   "pygments_lexer": "ipython3",
   "version": "3.7.5"
  }
 },
 "nbformat": 4,
 "nbformat_minor": 2
}
