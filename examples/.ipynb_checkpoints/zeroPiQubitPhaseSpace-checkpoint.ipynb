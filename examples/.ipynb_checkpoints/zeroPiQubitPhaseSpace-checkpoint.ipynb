{
 "cells": [
  {
   "cell_type": "code",
   "execution_count": null,
   "metadata": {},
   "outputs": [],
   "source": [
    "import os\n",
    "os._exit(00)"
   ]
  },
  {
   "cell_type": "markdown",
   "metadata": {},
   "source": [
    "# $0-\\pi$ Qubit \n",
    "In this notebook, we use Qcircuit to find the eigenVectors of the $0-\\pi$ Qubit in the phase space based on the following paper:   \n",
    "_Coherence properties of the 0-π qubit_  "
   ]
  },
  {
   "cell_type": "markdown",
   "metadata": {},
   "source": [
    "First, we import the Qcircuit from circuitClass file and specify a number for each nodes on the circuit. The number for each node should be consecutive integer starts from zero(corresponds to circuit ground.) "
   ]
  },
  {
   "cell_type": "code",
   "execution_count": 15,
   "metadata": {},
   "outputs": [],
   "source": [
    "# Import circuitClass that contains Qcircuit\n",
    "from circuitClass import *"
   ]
  },
  {
   "cell_type": "markdown",
   "metadata": {},
   "source": [
    "<img src=\"pics/zeroPiQubit_pic1.png\" width=\"200\" />"
   ]
  },
  {
   "cell_type": "markdown",
   "metadata": {},
   "source": [
    "We use Parameter Set 2 of the paper. By the following cell, we find the correspondance capacitance, inductance, and JJ energies to those values."
   ]
  },
  {
   "cell_type": "markdown",
   "metadata": {},
   "source": [
    "<img src=\"pics/zeroPiQubit_pic2.png\" width=\"650\" />"
   ]
  },
  {
   "cell_type": "code",
   "execution_count": 2,
   "metadata": {},
   "outputs": [],
   "source": [
    "### Parameter Set 1\n",
    "# E_C = hbar*2*np.pi*0.02*GHz\n",
    "# E_CJ = hbar*2*np.pi*20*GHz\n",
    "# E_J = hbar*2*np.pi*10*GHz\n",
    "# E_L = hbar*2*np.pi*0.008*GHz\n",
    "# C = e**2/2/E_C\n",
    "# C_J = e**2/2/E_CJ\n",
    "# L = (Phi0/2/np.pi)**2/E_L"
   ]
  },
  {
   "cell_type": "code",
   "execution_count": 3,
   "metadata": {},
   "outputs": [],
   "source": [
    "### Parameter Set 2\n",
    "E_C = hbar*2*np.pi*0.04*GHz\n",
    "E_CJ = hbar*2*np.pi*20*GHz\n",
    "E_J = hbar*2*np.pi*10*GHz\n",
    "E_L = hbar*2*np.pi*0.04*GHz\n",
    "C = e**2/2/E_C\n",
    "C_J = e**2/2/E_CJ\n",
    "L = (Phi0/2/np.pi)**2/E_L"
   ]
  },
  {
   "cell_type": "code",
   "execution_count": 4,
   "metadata": {},
   "outputs": [],
   "source": [
    "### Parameter Set 3\n",
    "# E_C = hbar*2*np.pi*0.15*GHz\n",
    "# E_CJ = hbar*2*np.pi*10*GHz\n",
    "# E_J = hbar*2*np.pi*5*GHz\n",
    "# E_L = hbar*2*np.pi*0.13*GHz\n",
    "# C = e**2/2/E_C\n",
    "# C_J = e**2/2/E_CJ\n",
    "# L = (Phi0/2/np.pi)**2/E_L"
   ]
  },
  {
   "cell_type": "markdown",
   "metadata": {},
   "source": [
    "We create the object of Qcircuit by initializing it with `circParam` dictionary."
   ]
  },
  {
   "cell_type": "code",
   "execution_count": 5,
   "metadata": {
    "scrolled": true
   },
   "outputs": [],
   "source": [
    "# cicuitParam is a dictionary that contains the information about the graph structure,\n",
    "# capacitor values, inductor values, and Josephson Junction Values.\n",
    "# inductors should be in Henry\n",
    "# capacitors should be in Farad\n",
    "# JJ energies should be in Hz\n",
    "circuitParam={'graph':[[0,1],[0,2],[0,3],[1,2],[1,3],[2,3]],\n",
    "            'inductors':[None,L, None ,None,L,None],\n",
    "            'capacitors':[C_J,0,C,C,0,C_J],\n",
    "            'JJs':[E_J/(2*np.pi*hbar),None,None,None,None,E_J/(2*np.pi*hbar)]}\n",
    "\n",
    "# cr is an object of Qcircuit\n",
    "cr1 = Qcircuit(circuitParam)"
   ]
  },
  {
   "cell_type": "markdown",
   "metadata": {},
   "source": [
    "By `cr1.setModeNumbers([m,m,m])`, we set the accuracy of the solver. For this circuit, Qcircuit converges with $m=25$. Next, we should call `cr1.configure()` to set up the equations needed to calculate the Hamiltonian."
   ]
  },
  {
   "cell_type": "code",
   "execution_count": 6,
   "metadata": {},
   "outputs": [],
   "source": [
    "m=61\n",
    "# call this function to set the truncation number for each mode of the circuit. \n",
    "cr1.setModeNumbers([m,3,m])\n",
    "\n",
    "# call this function to set up equations and preprocesses needed to calculate the Hamiltonian.\n",
    "cr1.configure()"
   ]
  },
  {
   "cell_type": "markdown",
   "metadata": {},
   "source": [
    "By applying `cr1.getExternalLinks()`, we find the inductive loops that we can apply external fluxes to them."
   ]
  },
  {
   "cell_type": "code",
   "execution_count": 7,
   "metadata": {},
   "outputs": [
    {
     "data": {
      "text/plain": [
       "[[0, 2, 3, 1]]"
      ]
     },
     "execution_count": 7,
     "metadata": {},
     "output_type": "execute_result"
    }
   ],
   "source": [
    "cr1.getExternalLinks()"
   ]
  },
  {
   "cell_type": "markdown",
   "metadata": {},
   "source": [
    "Qcircuit tells us that we can apply external fluxes to inductive loops created by the `[0,2,3,1]` cycle. Therefore, by calling `cr1.setExcitation([phiExt])`, we apply array of external fluxes to that specific loop."
   ]
  },
  {
   "cell_type": "code",
   "execution_count": 8,
   "metadata": {},
   "outputs": [],
   "source": [
    "# set external fluxes for each inductive loops of the circuit.\n",
    "# phiExt = np.linspace(0,1,70)*2*np.pi\n",
    "# cr1.setExcitation([phiExt])\n",
    "cr1.setExcitation([2*np.pi*0])"
   ]
  },
  {
   "cell_type": "markdown",
   "metadata": {},
   "source": [
    "By running the below cell, Qcircuit calculates the Hamiltonian and find the first 5 eigenvalues and eigenvectors of the system for each external fluxes."
   ]
  },
  {
   "cell_type": "code",
   "execution_count": 9,
   "metadata": {},
   "outputs": [],
   "source": [
    "# run the solver to calculate the eigenvalues and eigenvectors of the Hamiltonian for \n",
    "# specific number of bands\n",
    "cr1.run(numBand = 4,showLoading=False)"
   ]
  },
  {
   "cell_type": "markdown",
   "metadata": {},
   "source": [
    "The eigenValues are stored in the `cr1.HamilEigVal` variable in units of angular frequancy. The first index of the `cr1.HamilEigVal` refers to band number, and the second index refers to the index of external fluxes specified in `phiExt`. Therefore, the next cell plots the spectrum of the circuit."
   ]
  },
  {
   "cell_type": "code",
   "execution_count": 10,
   "metadata": {
    "scrolled": true
   },
   "outputs": [],
   "source": [
    "# plt.figure()\n",
    "# for i in range(4):\n",
    "#     plt.plot(phiExt/2/np.pi,(cr1.HamilEigVal[i,:]-cr1.HamilEigVal[0,:]).real/GHz/2/np.pi)\n",
    "\n",
    "# plt.xlabel(\"$\\Phi_{ext}/\\Phi_0$\")\n",
    "# plt.ylabel(\"GHz\")\n",
    "# plt.title('PS2 Spectrum')\n",
    "# plt.savefig('ps2Spectrum.pdf')"
   ]
  },
  {
   "cell_type": "markdown",
   "metadata": {},
   "source": [
    "The Following Code is how we use the Qcircuit to plot the eigenstates in phase space."
   ]
  },
  {
   "cell_type": "code",
   "execution_count": 19,
   "metadata": {},
   "outputs": [],
   "source": [
    "scale1 = 4e-13\n",
    "phi_1 = 2*np.pi*np.linspace(-1,1,100)*scale1/2\n",
    "phi_2 = 0\n",
    "phi_3 = np.pi*np.linspace(-0.3,1.3,100)\n",
    "Phi_1 , Phi_2, Phi_3 = np.meshgrid(phi_1,phi_2,phi_3)"
   ]
  },
  {
   "cell_type": "code",
   "execution_count": 23,
   "metadata": {},
   "outputs": [
    {
     "data": {
      "text/plain": [
       "Text(0.5, 1.0, 'Ground State at $\\\\varphi_{ext} = 0$')"
      ]
     },
     "execution_count": 23,
     "metadata": {},
     "output_type": "execute_result"
    },
    {
     "data": {
      "image/png": "[encoded data removed]",
      "text/plain": [
       "<Figure size 360x216 with 2 Axes>"
      ]
     },
     "metadata": {
      "needs_background": "light"
     },
     "output_type": "display_data"
    }
   ],
   "source": [
    "state1  = np.squeeze(cr1.eigVecPhaseSpace(0,[Phi_1 , Phi_2, Phi_3]))\n",
    "plt.figure(figsize=(5, 3))\n",
    "plt.pcolor(np.squeeze(Phi_1)/scale1,np.squeeze(Phi_3),np.abs(state1),cmap=\"Purples\")\n",
    "plt.colorbar()\n",
    "plt.xlabel(r'$\\phi$')\n",
    "plt.ylabel(r'$\\theta$')\n",
    "plt.title(r'Ground State at $\\varphi_{ext} = 0$')"
   ]
  },
  {
   "cell_type": "code",
   "execution_count": 24,
   "metadata": {},
   "outputs": [
    {
     "data": {
      "text/plain": [
       "Text(0.5, 1.0, '1st excited state at $\\\\varphi_{ext} = 0$')"
      ]
     },
     "execution_count": 24,
     "metadata": {},
     "output_type": "execute_result"
    },
    {
     "data": {
      "image/png": "[encoded data removed]",
      "text/plain": [
       "<Figure size 360x216 with 2 Axes>"
      ]
     },
     "metadata": {
      "needs_background": "light"
     },
     "output_type": "display_data"
    }
   ],
   "source": [
    "state2  = np.squeeze(cr1.eigVecPhaseSpace(1,[Phi_1 , Phi_2, Phi_3]))\n",
    "plt.figure(figsize=(5, 3))\n",
    "plt.pcolor(np.squeeze(Phi_1)/scale1,np.squeeze(Phi_3),np.abs(state2),cmap=\"Purples\")\n",
    "plt.colorbar()\n",
    "plt.xlabel(r'$\\phi$')\n",
    "plt.ylabel(r'$\\theta$')\n",
    "plt.title(r'1st excited state at $\\varphi_{ext} = 0$')"
   ]
  },
  {
   "cell_type": "code",
   "execution_count": 25,
   "metadata": {},
   "outputs": [],
   "source": [
    "scale1 = 4e-13\n",
    "phi_1 = 2*np.pi*np.linspace(-1,1,100)*scale1/2\n",
    "phi_2 = 0\n",
    "phi_3 = 0\n",
    "Phi_1 , Phi_2, Phi_3 = np.meshgrid(phi_1,phi_2,phi_3)"
   ]
  },
  {
   "cell_type": "code",
   "execution_count": 26,
   "metadata": {},
   "outputs": [
    {
     "data": {
      "text/plain": [
       "Text(0.5, 0, '$\\\\phi$')"
      ]
     },
     "execution_count": 26,
     "metadata": {},
     "output_type": "execute_result"
    },
    {
     "data": {
      "image/png": "[encoded data removed]",
      "text/plain": [
       "<Figure size 360x216 with 1 Axes>"
      ]
     },
     "metadata": {
      "needs_background": "light"
     },
     "output_type": "display_data"
    }
   ],
   "source": [
    "state1  = np.squeeze(cr1.eigVecPhaseSpace(0,[Phi_1 , Phi_2, Phi_3]))\n",
    "plt.figure(figsize=(5, 3))\n",
    "plt.plot(np.squeeze(Phi_1)/scale1,np.abs(state1))\n",
    "plt.xlabel(r'$\\phi$')\n",
    "# plt.ylabel(r'$\\theta$')\n",
    "# plt.title(r'Ground State at $\\varphi_{ext} = \\pi$')"
   ]
  }
 ],
 "metadata": {
  "kernelspec": {
   "display_name": "Python 3",
   "language": "python",
   "name": "python3"
  },
  "language_info": {
   "codemirror_mode": {
    "name": "ipython",
    "version": 3
   },
   "file_extension": ".py",
   "mimetype": "text/x-python",
   "name": "python",
   "nbconvert_exporter": "python",
   "pygments_lexer": "ipython3",
   "version": "3.7.5"
  }
 },
 "nbformat": 4,
 "nbformat_minor": 2
}
