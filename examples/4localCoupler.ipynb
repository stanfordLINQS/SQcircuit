{
 "cells": [
  {
   "cell_type": "markdown",
   "metadata": {},
   "source": [
    "# 4 Local Coupler Circuit"
   ]
  },
  {
   "cell_type": "markdown",
   "metadata": {},
   "source": [
    "In this notebook, we use Qcircuit to find the spectrum of a four local circuit( the circuit diagram and its paramters is in the appendix) based on the following paper:   \n",
    "_Automated discovery of superconducting circuits and its application to 4-local coupler design_"
   ]
  },
  {
   "cell_type": "markdown",
   "metadata": {},
   "source": [
    "First, we import the Qcircuit from circuitClass file and specify a number for each nodes on the circuit. The number for each node should be consecutive integer starts from zero(corresponds to circuit ground.) "
   ]
  },
  {
   "cell_type": "code",
   "execution_count": 1,
   "metadata": {},
   "outputs": [],
   "source": [
    "from circuitClass import *"
   ]
  },
  {
   "cell_type": "markdown",
   "metadata": {},
   "source": [
    "<img src=\"pics/4localCoupler_pic1.png\" width=\"200\" />"
   ]
  },
  {
   "cell_type": "markdown",
   "metadata": {},
   "source": [
    "We use \"Before refine\" parameters of the following table "
   ]
  },
  {
   "cell_type": "markdown",
   "metadata": {},
   "source": [
    "<img src=\"pics/4localCoupler_pic2.png\" width=\"700\" />"
   ]
  },
  {
   "cell_type": "markdown",
   "metadata": {},
   "source": [
    "We create the object of Qcircuit by initializing it with `circParam` dictionary."
   ]
  },
  {
   "cell_type": "code",
   "execution_count": 2,
   "metadata": {},
   "outputs": [],
   "source": [
    "# cicuitParam is a dictionary that contains the information about the graph structure,\n",
    "# capacitor values, inductor values, and Josephson Junction Values.\n",
    "# inductors should be in Henry\n",
    "# capacitors should be in Farad\n",
    "# JJ energies should be in Hz\n",
    "circuitParam={'graph':[[1,3],[2,0],[2,3],[3,0],[1,2]],\n",
    "            'inductors':[293*pH,None,98.1*pH,None,None],\n",
    "            'capacitors':[98.8*fF,15*fF,38.7*fF,67.5*fF,0],\n",
    "            'JJs':[None,187*GHz,None,192*GHz,1560*GHz]}\n",
    "\n",
    "# cr is an object of Qcircuit\n",
    "cr1 = Qcircuit(circuitParam)"
   ]
  },
  {
   "cell_type": "markdown",
   "metadata": {},
   "source": [
    "By `cr1.setModeNumbers([m1,m2,m3])`, we set the accuracy of the solver. For this circuit, Qcircuit converges with $m_1=19,m_2=19$, and $m_3=21$. Next, we should call `cr1.configure()` to set up the equations needed to calculate the Hamiltonian."
   ]
  },
  {
   "cell_type": "code",
   "execution_count": 3,
   "metadata": {},
   "outputs": [],
   "source": [
    "# call this function to set the truncation number for each mode of the circuit. \n",
    "cr1.setModeNumbers([19,19,21])\n",
    "\n",
    "# call this function to set up equations and preprocesses needed to calculate the Hamiltonian.\n",
    "cr1.configure()"
   ]
  },
  {
   "cell_type": "markdown",
   "metadata": {},
   "source": [
    "By applying `cr1.getExternalLinks()`, we find the inductive loops that we can apply external fluxes to them."
   ]
  },
  {
   "cell_type": "code",
   "execution_count": 4,
   "metadata": {},
   "outputs": [
    {
     "data": {
      "text/plain": [
       "[[1, 2, 3], [0, 2, 3]]"
      ]
     },
     "execution_count": 4,
     "metadata": {},
     "output_type": "execute_result"
    }
   ],
   "source": [
    "cr1.getExternalLinks()"
   ]
  },
  {
   "cell_type": "markdown",
   "metadata": {},
   "source": [
    "Qcircuit tells us that we can apply external fluxes to inductive loops created by the `[1,2,3]` and `[0,2,3]` cycles. Therefore, by calling `cr1.setExcitation([phiExt,0])`, we apply array of external fluxes to `[1,2,3]` loop and 0 external flux to `[0,2,3]` loop."
   ]
  },
  {
   "cell_type": "code",
   "execution_count": 5,
   "metadata": {},
   "outputs": [],
   "source": [
    "# set external fluxes for each inductive loops of the circuit.\n",
    "phiExt = np.linspace(0.0,0.2,10)*2*np.pi\n",
    "cr1.setExcitation([phiExt,0])"
   ]
  },
  {
   "cell_type": "markdown",
   "metadata": {},
   "source": [
    "By running the below cell, Qcircuit calculates the Hamiltonian and find the first 3 eigenvalues and eigenvectors of the system for each external fluxes."
   ]
  },
  {
   "cell_type": "code",
   "execution_count": 6,
   "metadata": {},
   "outputs": [],
   "source": [
    "# run the solver to calculate the eigenvalues and eigenvectors of the Hamiltonian for \n",
    "# specific number of bands\n",
    "cr1.run(numBand = 3,showLoading=False)"
   ]
  },
  {
   "cell_type": "markdown",
   "metadata": {},
   "source": [
    "The eigenValues are stored in the `cr1.HamilEigVal` variable in units of angular frequancy. The first index of the `cr1.HamilEigVal` refers to band number, and the second index refers to the index of external fluxes specified in `phiExt`. Therefore, the next cell plots the spectrum of the circuit."
   ]
  },
  {
   "cell_type": "code",
   "execution_count": 7,
   "metadata": {},
   "outputs": [
    {
     "data": {
      "text/plain": [
       "Text(0, 0.5, '$\\\\omega_i$ GHz')"
      ]
     },
     "execution_count": 7,
     "metadata": {},
     "output_type": "execute_result"
    },
    {
     "data": {
      "image/png": "[encoded data removed]",
      "text/plain": [
       "<Figure size 432x288 with 1 Axes>"
      ]
     },
     "metadata": {
      "needs_background": "light"
     },
     "output_type": "display_data"
    }
   ],
   "source": [
    "plt.figure()\n",
    "for i in range(3):\n",
    "    plt.plot(phiExt/2/np.pi,(cr1.HamilEigVal[i,:]-np.min(cr1.HamilEigVal[0,:])).real/(GHz*2*np.pi),'.')\n",
    "\n",
    "plt.xlabel(\"$\\Phi_{ext}/\\Phi_0$\")\n",
    "plt.ylabel(\"$\\omega_i$ GHz\")"
   ]
  },
  {
   "cell_type": "markdown",
   "metadata": {},
   "source": [
    "### Paper Method\n",
    "To check the result of the Qcircuit, We use the paper method to calculate the Hamiltonian of the circuit and find its spectrum\n",
    "\n",
    "<img src=\"pics/4localCoupler_pic3.png\" width=\"700\" />\n"
   ]
  },
  {
   "cell_type": "code",
   "execution_count": 8,
   "metadata": {
    "scrolled": false
   },
   "outputs": [],
   "source": [
    "R = np.array([[1,0,1],[0,1,1],[1,1,1]])\n",
    "RInv = np.linalg.inv(R)\n",
    "Cx = cr1.getMatC()\n",
    "Lx = cr1.getMatL()\n",
    "_ ,S = np.linalg.eig(Lx)\n",
    "lRotated = R @ Lx @ R \n",
    "cInvRotated = RInv @ np.linalg.inv(Cx) @ RInv\n",
    "\n",
    "Z1 = np.sqrt(cInvRotated[0,0]/lRotated[0,0])\n",
    "Z2 = np.sqrt(cInvRotated[1,1]/lRotated[1,1])\n",
    "omega = np.sqrt(np.diag(cInvRotated)*np.diag(lRotated))\n",
    "\n",
    "alpha1 = 1j*2*np.pi/Phi0*np.sqrt(hbar*Z1/2)\n",
    "alpha2 = 1j*2*np.pi/Phi0*np.sqrt(hbar*Z2/2)"
   ]
  },
  {
   "cell_type": "code",
   "execution_count": 9,
   "metadata": {},
   "outputs": [],
   "source": [
    "m = [10,15,25]\n",
    "JJ = cr1.JJ.copy()\n",
    "def Hamil(phiVar,phiFix):\n",
    "    I1 = q.qeye(m[0]);\n",
    "    num1 = q.num(m[0]);\n",
    "    intr1 = q.destroy(m[0]) - q.create(m[0])\n",
    "    I2 = q.qeye(m[1]);\n",
    "    num2 = q.num(m[1]);\n",
    "    intr2 = q.destroy(m[1]) - q.create(m[1])\n",
    "    I3 = q.qeye(m[2]);\n",
    "    charge3 = q.charge((m[2]-1)/2)\n",
    "    d3 = cr1.chargeDisp(m[2])\n",
    "    \n",
    "    \n",
    "    HLC = omega[0]*q.tensor(num1,I2,I3) +\\\n",
    "    omega[1]*q.tensor(I1,num2,I3) +\\\n",
    "    0.5*(2*e)**2*cInvRotated[2,2]/hbar*q.tensor(I1,I2,charge3)*q.tensor(I1,I2,charge3)-\\\n",
    "    1/np.sqrt(Z1*Z2)/2*cInvRotated[0,1]*q.tensor(intr1,intr2,I3) -\\\n",
    "    1j*np.sqrt(1/(2*hbar*Z1))*(2*e)*cInvRotated[0,2]*q.tensor(intr1,I2,charge3) -\\\n",
    "    1j*np.sqrt(1/(2*hbar*Z2))*(2*e)*cInvRotated[1,2]*q.tensor(I1,intr2,charge3)\n",
    "    \n",
    "    alpha1 = 1j*2*np.pi/Phi0*np.sqrt(hbar*Z1/2)\n",
    "    alpha2 = 1j*2*np.pi/Phi0*np.sqrt(hbar*Z2/2)\n",
    "    \n",
    "    HJ12 = -JJ[4]/2*np.exp(1j*phiVar)*q.tensor(q.displace(m[0],alpha1),q.displace(m[1],-alpha2),I3)\n",
    "    HJ22 = -JJ[1]/2*np.exp(1j*phiFix)*q.tensor(I1,q.displace(m[1],alpha2),d3);\n",
    "    HJ33 = -JJ[3]/2*q.tensor(q.displace(m[0],alpha1),q.displace(m[1],alpha2),d3)\n",
    "    \n",
    "    H = HLC +  (HJ12+HJ12.dag()) + HJ22+HJ22.dag() + (HJ33+HJ33.dag())\n",
    "    return H"
   ]
  },
  {
   "cell_type": "code",
   "execution_count": 10,
   "metadata": {
    "scrolled": true
   },
   "outputs": [
    {
     "name": "stdout",
     "output_type": "stream",
     "text": [
      "0\n",
      "1\n",
      "2\n",
      "3\n",
      "4\n",
      "5\n",
      "6\n",
      "7\n",
      "8\n",
      "9\n"
     ]
    }
   ],
   "source": [
    "HamilEig = np.zeros((m[0]*m[1]*m[2],len(phiExt)),dtype='complex');\n",
    "for i in range(len(phiExt)):\n",
    "    print(i)\n",
    "    H = Hamil(phiVar = phiExt[i], phiFix = 0);\n",
    "    eigenValues , eigenVectors = H.eigenstates();\n",
    "    HamilEig[:,i] = eigenValues"
   ]
  },
  {
   "cell_type": "code",
   "execution_count": 11,
   "metadata": {},
   "outputs": [
    {
     "data": {
      "text/plain": [
       "Text(0, 0.5, '($\\\\omega_i-\\\\omega_0$)GHz')"
      ]
     },
     "execution_count": 11,
     "metadata": {},
     "output_type": "execute_result"
    },
    {
     "data": {
      "image/png": "[encoded data removed]",
      "text/plain": [
       "<Figure size 432x288 with 1 Axes>"
      ]
     },
     "metadata": {
      "needs_background": "light"
     },
     "output_type": "display_data"
    }
   ],
   "source": [
    "plt.figure()\n",
    "for i in range(3):\n",
    "    plt.plot(phiExt/2/np.pi,(HamilEig[i,:]-np.min(HamilEig[0,:])).real/GHz/2/np.pi,'.')\n",
    "\n",
    "plt.xlabel(\"$\\Phi_{ext}/\\Phi_0$\")\n",
    "plt.ylabel(\"($\\omega_i-\\omega_0$)GHz\")"
   ]
  },
  {
   "cell_type": "code",
   "execution_count": null,
   "metadata": {},
   "outputs": [],
   "source": []
  }
 ],
 "metadata": {
  "kernelspec": {
   "display_name": "Python 3",
   "language": "python",
   "name": "python3"
  },
  "language_info": {
   "codemirror_mode": {
    "name": "ipython",
    "version": 3
   },
   "file_extension": ".py",
   "mimetype": "text/x-python",
   "name": "python",
   "nbconvert_exporter": "python",
   "pygments_lexer": "ipython3",
   "version": "3.7.5"
  }
 },
 "nbformat": 4,
 "nbformat_minor": 2
}
