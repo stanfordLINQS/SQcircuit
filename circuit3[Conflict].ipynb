{
 "cells": [
  {
   "cell_type": "code",
   "execution_count": 1,
   "metadata": {},
   "outputs": [],
   "source": [
    "from circuitClass import *"
   ]
  },
  {
   "cell_type": "markdown",
   "metadata": {},
   "source": [
    "## The circuit That I try to Solve\n",
    "In this document, I am trying to see if my code can generate the right equations for the following circuit.\n",
    "<img src=\"pic/pic4.png\" style=\"height:250px\">"
   ]
  },
  {
   "cell_type": "markdown",
   "metadata": {},
   "source": [
    "## Define the circuit for the circuitClass \n",
    "In this part, I define the input which is necessery for the Hamiltonian."
   ]
  },
  {
   "cell_type": "code",
   "execution_count": 2,
   "metadata": {},
   "outputs": [],
   "source": [
    "graph = [[0,1],[0,2],[1,2],[1,3],[2,5],[2,6],[6,5],[3,5],[3,4],[4,5]]\n",
    "L = [1,0,0,1,0,1,0,0,1,0]\n",
    "C = [1,1,1,1,1,1,1,1,1,1]\n",
    "JJ = [0,1,1,0,[1,1],0,1,1,0,1]\n",
    "phi = np.linspace(0,0.5,15)*2*np.pi\n",
    "\n",
    "# define the circuit\n",
    "cr1 = Qcircuit(graph,L,C,JJ,phi)"
   ]
  },
  {
   "cell_type": "code",
   "execution_count": 3,
   "metadata": {},
   "outputs": [],
   "source": [
    "cycles = cr1.findAllCycles();\n",
    "simplestCycles = cr1.giveSimplestCycles(cycles);"
   ]
  },
  {
   "cell_type": "code",
   "execution_count": 4,
   "metadata": {},
   "outputs": [
    {
     "name": "stdout",
     "output_type": "stream",
     "text": [
      "0-2-1\n",
      "1-3-5-2\n",
      "2-6-5\n",
      "3-4-5\n"
     ]
    }
   ],
   "source": [
    "for cy in simplestCycles:\n",
    "    path = [str(node) for node in cy];\n",
    "    s = \"-\".join(path);\n",
    "    print(s)"
   ]
  },
  {
   "cell_type": "code",
   "execution_count": 5,
   "metadata": {
    "scrolled": false
   },
   "outputs": [
    {
     "name": "stdout",
     "output_type": "stream",
     "text": [
      "spanning tree with direction: [[0, 1], [1, 3], [3, 4], [0, 2], [2, 5], [2, 6]]\n",
      "[[[2, 1]], [[2, 1], [3, 5]], [[6, 5]], [[5, 3], [4, 5]]]\n",
      "[[1, 1, 0, 0, 0, 0], [-1, -1, 1, 0, 1, 0], [0, -2, 0, 0, 1, 1], [0, 0, -1, 1, 0, 0]]\n"
     ]
    }
   ],
   "source": [
    "spanningTrees = cr1.findSpanningTrees()\n",
    "# for tree in spanningTrees:\n",
    "#     print(tree)\n",
    "    \n",
    "spanTree = cr1.giveMaxInd()\n",
    "tree = spanTree.copy();\n",
    "treeWithDirec = cr1.treeDirec(0,None,[],tree)\n",
    "print(\"spanning tree with direction:\",treeWithDirec)\n",
    "O, notInSpan = cr1.cycleEqu(simplestCycles,treeWithDirec)\n",
    "\n",
    "print(notInSpan)\n",
    "print(O)"
   ]
  },
  {
   "cell_type": "code",
   "execution_count": 6,
   "metadata": {
    "scrolled": false
   },
   "outputs": [
    {
     "name": "stdout",
     "output_type": "stream",
     "text": [
      "[[2, 1], [3, 5], [6, 5], [5, 3], [4, 5]]\n",
      "[0, 0, 1, 0, 0, 0, 1, 1, 0, 1]\n",
      "[0, 1, 0, 0, 1, 0, 0, 0, 0, 0]\n"
     ]
    }
   ],
   "source": [
    "JJEj , JJEq , JJExcite = cr1.giveJJEq(O,notInSpan)"
   ]
  },
  {
   "cell_type": "code",
   "execution_count": 8,
   "metadata": {},
   "outputs": [
    {
     "name": "stdout",
     "output_type": "stream",
     "text": [
      "lRotated:\n",
      "[[ 3.24697960e+00  6.66133815e-16 -4.44089210e-16  0.00000000e+00\n",
      "   0.00000000e+00  0.00000000e+00]\n",
      " [ 6.66133815e-16  1.55495813e+00  2.22044605e-16  0.00000000e+00\n",
      "   0.00000000e+00  0.00000000e+00]\n",
      " [-4.99600361e-16  2.35922393e-16  1.98062264e-01  0.00000000e+00\n",
      "   0.00000000e+00  0.00000000e+00]\n",
      " [ 0.00000000e+00  0.00000000e+00  0.00000000e+00  2.00000000e+00\n",
      "   0.00000000e+00  0.00000000e+00]\n",
      " [ 0.00000000e+00  0.00000000e+00  0.00000000e+00  0.00000000e+00\n",
      "   0.00000000e+00  0.00000000e+00]\n",
      " [ 0.00000000e+00  0.00000000e+00  0.00000000e+00  0.00000000e+00\n",
      "   0.00000000e+00  0.00000000e+00]]\n",
      "cInvRotated:\n",
      "[[ 0.24203817  0.01179641  0.01170967 -0.01877681 -0.02947371  0.01899058]\n",
      " [ 0.01179641  0.42138667 -0.09758015 -0.02373071 -0.1522312  -0.05730327]\n",
      " [ 0.01170967 -0.09758015  2.44768627 -0.1670056   1.28164879  1.26053492]\n",
      " [-0.01877681 -0.02373071 -0.1670056   0.31481481 -0.27777778 -0.15713484]\n",
      " [-0.02947371 -0.1522312   1.28164879 -0.27777778  1.5         0.94280904]\n",
      " [ 0.01899058 -0.05730327  1.26053492 -0.15713484  0.94280904  1.        ]]\n",
      "S:\n",
      "[[-0.59100905 -0.73697623  0.32798528  0.          0.          0.        ]\n",
      " [ 0.          0.          0.          0.70710678  0.70710678  0.        ]\n",
      " [ 0.73697623 -0.32798528  0.59100905  0.          0.          0.        ]\n",
      " [-0.32798528  0.59100905  0.73697623  0.          0.          0.        ]\n",
      " [ 0.          0.          0.          0.          0.          1.        ]\n",
      " [ 0.          0.          0.         -0.70710678  0.70710678  0.        ]]\n"
     ]
    }
   ],
   "source": [
    "lRotated, cInvRotated , S = cr1.buildDiag()\n",
    "print(\"lRotated:\")\n",
    "print(lRotated)\n",
    "print(\"cInvRotated:\")\n",
    "print(cInvRotated)\n",
    "print(\"S:\")\n",
    "print(S)"
   ]
  },
  {
   "cell_type": "code",
   "execution_count": 33,
   "metadata": {
    "scrolled": true
   },
   "outputs": [
    {
     "name": "stdout",
     "output_type": "stream",
     "text": [
      "[[1 0 0]\n",
      " [0 1 0]\n",
      " [0 0 0]]\n",
      "[[0 0 0]\n",
      " [0 1 0]\n",
      " [0 0 1]]\n"
     ]
    }
   ],
   "source": [
    "A = np.array([[0,1,0],[0,0,1],[0,0,0]])\n",
    "B = np.array([[0,0,0],[1,0,0],[0,1,0]])\n",
    "print(A@B)\n",
    "print(B@A)"
   ]
  },
  {
   "cell_type": "code",
   "execution_count": 39,
   "metadata": {},
   "outputs": [
    {
     "name": "stdout",
     "output_type": "stream",
     "text": [
      "True\n",
      "True\n",
      "False\n"
     ]
    }
   ],
   "source": [
    "JJ= [1, [1,0], 0 ,1]\n",
    "x = np.array(JJ).astype(bool)\n",
    "i=0\n",
    "while( False in x):\n",
    "    print(x[i])\n",
    "    x[i] = True\n",
    "    i+=1"
   ]
  },
  {
   "cell_type": "code",
   "execution_count": 17,
   "metadata": {},
   "outputs": [
    {
     "name": "stdout",
     "output_type": "stream",
     "text": [
      "{1, 2, 3}\n"
     ]
    }
   ],
   "source": [
    "a = [1,2,3]\n",
    "print(set(a))"
   ]
  },
  {
   "cell_type": "code",
   "execution_count": null,
   "metadata": {},
   "outputs": [],
   "source": []
  }
 ],
 "metadata": {
  "kernelspec": {
   "display_name": "Python 3",
   "language": "python",
   "name": "python3"
  },
  "language_info": {
   "codemirror_mode": {
    "name": "ipython",
    "version": 3
   },
   "file_extension": ".py",
   "mimetype": "text/x-python",
   "name": "python",
   "nbconvert_exporter": "python",
   "pygments_lexer": "ipython3",
   "version": "3.7.4"
  }
 },
 "nbformat": 4,
 "nbformat_minor": 2
}
