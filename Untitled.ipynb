{
 "cells": [
  {
   "cell_type": "code",
   "execution_count": 1,
   "metadata": {},
   "outputs": [],
   "source": [
    "from circuitClass import *"
   ]
  },
  {
   "cell_type": "code",
   "execution_count": 2,
   "metadata": {
    "scrolled": true
   },
   "outputs": [],
   "source": [
    "graph = [[1,3],[2,0],[2,3],[3,0],[1,2]]\n",
    "C = [98.8*fF,15*fF,38.7*fF,67.5*fF,0]\n",
    "L = [293*pH,0,98.1*pH,0,0]\n",
    "JJ = [0,187*GHz,0,192*GHz,1865*GHz]\n",
    "\n",
    "# define the circuit\n",
    "cr1 = Qcircuit(graph,L,C,JJ)\n",
    "\n",
    "# set excitation\n",
    "phiExt = np.linspace(0,0.08,15)*2*np.pi\n",
    "cr1.setExcitation([([1,2,3],phiExt),([0,2,3],0)])\n",
    "cr1.configure()"
   ]
  },
  {
   "cell_type": "code",
   "execution_count": 3,
   "metadata": {
    "scrolled": true
   },
   "outputs": [
    {
     "name": "stdout",
     "output_type": "stream",
     "text": [
      "1st frequency: 71.17323277860973\n",
      "1st frequency: 29.58065928330362\n",
      "[[ 1. -1.  0.]\n",
      " [ 1.  1.  1.]\n",
      " [ 0.  1.  1.]]\n",
      "[1865.  192.  187.]\n",
      "[[ 1. -1.  0.]\n",
      " [ 1.  1.  1.]\n",
      " [ 0.  1.  1.]]\n"
     ]
    }
   ],
   "source": [
    "R = np.array([[1,0,1],[0,1,1],[1,1,1]])\n",
    "RInv = np.linalg.inv(R)\n",
    "Cx = cr1.giveMatC()\n",
    "Lx = cr1.giveMatL()\n",
    "lRotated = R @ Lx @ R \n",
    "cInvRotated = RInv@ np.linalg.inv(Cx) @RInv\n",
    "print(\"1st frequency:\", np.sqrt(lRotated[0,0]*cInvRotated[0,0])/GHz)\n",
    "print(\"1st frequency:\", np.sqrt(lRotated[1,1]*cInvRotated[1,1])/GHz)\n",
    "print(cr1.JJEqRotated)\n",
    "print(np.array(cr1.JJEj)/GHz)\n",
    "print(cr1.JJEq@R)\n",
    "Z1 = np.sqrt(cr1.cInvRotated[0,0]/lRotated[0,0])\n",
    "Z2 = np.sqrt(cr1.cInvRotated[1,1]/lRotated[1,1])"
   ]
  },
  {
   "cell_type": "code",
   "execution_count": 4,
   "metadata": {},
   "outputs": [
    {
     "data": {
      "text/plain": [
       "array([1865.,  192.,  187.])"
      ]
     },
     "execution_count": 4,
     "metadata": {},
     "output_type": "execute_result"
    }
   ],
   "source": [
    "np.array(cr1.JJEj)/GHz"
   ]
  },
  {
   "cell_type": "code",
   "execution_count": 5,
   "metadata": {},
   "outputs": [],
   "source": [
    "m = 5\n",
    "def Hamil(phi):\n",
    "    I = q.qeye(m);\n",
    "    num = q.num(m);\n",
    "    charge = q.charge((m-1)/2)\n",
    "    d = cr1.chargeDisp(m)\n",
    "    intr = q.destroy(m) - q.create(m)\n",
    "    \n",
    "    HLC = cr1.omega[0]*q.tensor(num,I,I) +\\\n",
    "    cr1.omega[1]*q.tensor(I,num,I) +\\\n",
    "    0.5*(2*e)**2*cInvRotated[2,2]/hbar*q.tensor(I,I,charge)*q.tensor(I,I,charge)-\\\n",
    "    1/np.sqrt(Z1*Z2)*cInvRotated[0,1]*q.tensor(intr,intr,I) -\\\n",
    "    1j*np.sqrt(1/(2*hbar*Z1))*(2*e)*cInvRotated[0,2]*q.tensor(intr,I,charge) -\\\n",
    "    1j*np.sqrt(1/(2*hbar*Z2))*(2*e)*cInvRotated[1,2]*q.tensor(I,intr,charge)\n",
    "    \n",
    "    alpha1 = -1j*2*np.pi/Phi0*np.sqrt(hbar*Z1/2)\n",
    "    alpha2 = -1j*2*np.pi/Phi0*np.sqrt(hbar*Z2/2)\n",
    "    \n",
    "    HJJ1 = -JJ[4]/2*np.exp(1j*phi)*q.tensor(q.displace(m,alpha1),q.displace(m,alpha2),I)\n",
    "    HJJ2 = -JJ[1]/2*q.tensor(I,q.displace(m,alpha2),d);\n",
    "    HJJ3 = -JJ[3]/2*q.tensor(q.displace(m,alpha1),q.displace(m,alpha2),d)\n",
    "    \n",
    "    H = HLC + HJJ1+HJJ1.dag() + HJJ2+HJJ2.dag() + HJJ3+HJJ3.dag()\n",
    "    return H"
   ]
  },
  {
   "cell_type": "code",
   "execution_count": 6,
   "metadata": {},
   "outputs": [
    {
     "name": "stdout",
     "output_type": "stream",
     "text": [
      "191.99999999999997\n"
     ]
    }
   ],
   "source": [
    "print(JJ[3]/GHz)"
   ]
  },
  {
   "cell_type": "code",
   "execution_count": 7,
   "metadata": {},
   "outputs": [
    {
     "name": "stdout",
     "output_type": "stream",
     "text": [
      "35375604092339.75 35375604092339.75\n"
     ]
    }
   ],
   "source": [
    "print(cInvRotated[2,2],cr1.cInvRotated[2,2])"
   ]
  },
  {
   "cell_type": "code",
   "execution_count": 8,
   "metadata": {},
   "outputs": [],
   "source": [
    "HamilEig = np.zeros((m**3,len(phiExt)),dtype='complex');\n",
    "for i in range(len(phiExt)):\n",
    "    H = Hamil(phiExt[i]);\n",
    "    eigenValues , eigenVectors = H.eigenstates();\n",
    "    HamilEig[:,i] = eigenValues"
   ]
  },
  {
   "cell_type": "code",
   "execution_count": 9,
   "metadata": {},
   "outputs": [
    {
     "data": {
      "text/plain": [
       "Text(0, 0.5, '($\\\\omega_i-\\\\omega_0$)GHz')"
      ]
     },
     "execution_count": 9,
     "metadata": {},
     "output_type": "execute_result"
    },
    {
     "data": {
      "image/png": "[encoded data removed]",
      "text/plain": [
       "<Figure size 432x288 with 1 Axes>"
      ]
     },
     "metadata": {
      "needs_background": "light"
     },
     "output_type": "display_data"
    }
   ],
   "source": [
    "plt.figure()\n",
    "for i in range(4):\n",
    "    plt.plot(phiExt/2/np.pi,HamilEig[(i),:].real/GHz,'.')\n",
    "plt.xlabel(\"$\\Phi_{ext}/\\Phi_0$\")\n",
    "plt.ylabel(\"($\\omega_i-\\omega_0$)GHz\")"
   ]
  },
  {
   "cell_type": "code",
   "execution_count": 16,
   "metadata": {},
   "outputs": [],
   "source": [
    "cr1.setFockNumbers([5,5,5])"
   ]
  },
  {
   "cell_type": "code",
   "execution_count": 17,
   "metadata": {},
   "outputs": [
    {
     "name": "stdout",
     "output_type": "stream",
     "text": [
      "[[0], [1], 0]\n"
     ]
    }
   ],
   "source": [
    "print(cr1.JJExcite)"
   ]
  },
  {
   "cell_type": "code",
   "execution_count": 18,
   "metadata": {
    "scrolled": false
   },
   "outputs": [
    {
     "ename": "ValueError",
     "evalue": "dimension mismatch",
     "output_type": "error",
     "traceback": [
      "\u001b[0;31m------------------------------------------------------------------------\u001b[0m",
      "\u001b[0;31mValueError\u001b[0m                             Traceback (most recent call last)",
      "\u001b[0;32m<ipython-input-18-a1a35eaa6286>\u001b[0m in \u001b[0;36m<module>\u001b[0;34m\u001b[0m\n\u001b[0;32m----> 1\u001b[0;31m \u001b[0mcr1\u001b[0m\u001b[0;34m.\u001b[0m\u001b[0msolveCircuit\u001b[0m\u001b[0;34m(\u001b[0m\u001b[0mshowLoading\u001b[0m\u001b[0;34m=\u001b[0m\u001b[0;32mFalse\u001b[0m\u001b[0;34m)\u001b[0m\u001b[0;34m\u001b[0m\u001b[0;34m\u001b[0m\u001b[0m\n\u001b[0m",
      "\u001b[0;32m~/Google Drive/numerics/200224_QcircuitSolver/circuitClass.py\u001b[0m in \u001b[0;36msolveCircuit\u001b[0;34m(self, showLoading)\u001b[0m\n\u001b[1;32m    840\u001b[0m             \u001b[0mphiInput\u001b[0m\u001b[0;34m[\u001b[0m\u001b[0mindSweep\u001b[0m\u001b[0;34m]\u001b[0m \u001b[0;34m=\u001b[0m \u001b[0mself\u001b[0m\u001b[0;34m.\u001b[0m\u001b[0mphiExt\u001b[0m\u001b[0;34m[\u001b[0m\u001b[0mindSweep\u001b[0m\u001b[0;34m]\u001b[0m\u001b[0;34m[\u001b[0m\u001b[0mi\u001b[0m\u001b[0;34m]\u001b[0m\u001b[0;34m;\u001b[0m\u001b[0;34m\u001b[0m\u001b[0;34m\u001b[0m\u001b[0m\n\u001b[1;32m    841\u001b[0m \u001b[0;34m\u001b[0m\u001b[0m\n\u001b[0;32m--> 842\u001b[0;31m             \u001b[0mHJJ\u001b[0m \u001b[0;34m=\u001b[0m \u001b[0mself\u001b[0m\u001b[0;34m.\u001b[0m\u001b[0mgiveJJHamil\u001b[0m\u001b[0;34m(\u001b[0m\u001b[0mphiInput\u001b[0m\u001b[0;34m)\u001b[0m\u001b[0;34m\u001b[0m\u001b[0;34m\u001b[0m\u001b[0m\n\u001b[0m\u001b[1;32m    843\u001b[0m \u001b[0;34m\u001b[0m\u001b[0m\n\u001b[1;32m    844\u001b[0m             \u001b[0mH\u001b[0m \u001b[0;34m=\u001b[0m \u001b[0;34m-\u001b[0m\u001b[0mHJJ\u001b[0m \u001b[0;34m+\u001b[0m \u001b[0mHLC\u001b[0m\u001b[0;34m\u001b[0m\u001b[0;34m\u001b[0m\u001b[0m\n",
      "\u001b[0;32m~/Google Drive/numerics/200224_QcircuitSolver/circuitClass.py\u001b[0m in \u001b[0;36mgiveJJHamil\u001b[0;34m(self, phiInput)\u001b[0m\n\u001b[1;32m    799\u001b[0m                     \u001b[0;32mfor\u001b[0m \u001b[0mind\u001b[0m \u001b[0;32min\u001b[0m \u001b[0mself\u001b[0m\u001b[0;34m.\u001b[0m\u001b[0mJJExcite\u001b[0m\u001b[0;34m[\u001b[0m\u001b[0mi\u001b[0m\u001b[0;34m]\u001b[0m\u001b[0;34m:\u001b[0m\u001b[0;34m\u001b[0m\u001b[0;34m\u001b[0m\u001b[0m\n\u001b[1;32m    800\u001b[0m                         \u001b[0mphi\u001b[0m \u001b[0;34m+=\u001b[0m \u001b[0mphiInput\u001b[0m\u001b[0;34m[\u001b[0m\u001b[0mind\u001b[0m\u001b[0;34m]\u001b[0m\u001b[0;34m;\u001b[0m\u001b[0;34m\u001b[0m\u001b[0;34m\u001b[0m\u001b[0m\n\u001b[0;32m--> 801\u001b[0;31m                 \u001b[0mH\u001b[0m  \u001b[0;34m=\u001b[0m  \u001b[0mnp\u001b[0m\u001b[0;34m.\u001b[0m\u001b[0mexp\u001b[0m\u001b[0;34m(\u001b[0m\u001b[0;36m1j\u001b[0m\u001b[0;34m*\u001b[0m\u001b[0mphi\u001b[0m\u001b[0;34m)\u001b[0m \u001b[0;34m*\u001b[0m \u001b[0mself\u001b[0m\u001b[0;34m.\u001b[0m\u001b[0mJJEj\u001b[0m\u001b[0;34m[\u001b[0m\u001b[0mi\u001b[0m\u001b[0;34m]\u001b[0m\u001b[0;34m/\u001b[0m\u001b[0;36m2\u001b[0m\u001b[0;34m*\u001b[0m \u001b[0mH\u001b[0m\u001b[0;34m;\u001b[0m\u001b[0;34m\u001b[0m\u001b[0;34m\u001b[0m\u001b[0m\n\u001b[0m\u001b[1;32m    802\u001b[0m                 \u001b[0mH\u001b[0m \u001b[0;34m=\u001b[0m \u001b[0mH\u001b[0m \u001b[0;34m+\u001b[0m \u001b[0mH\u001b[0m\u001b[0;34m.\u001b[0m\u001b[0mdag\u001b[0m\u001b[0;34m(\u001b[0m\u001b[0;34m)\u001b[0m\u001b[0;34m;\u001b[0m\u001b[0;34m\u001b[0m\u001b[0;34m\u001b[0m\u001b[0m\n\u001b[1;32m    803\u001b[0m \u001b[0;34m\u001b[0m\u001b[0m\n",
      "\u001b[0;32m//anaconda3/lib/python3.7/site-packages/qutip/qobj.py\u001b[0m in \u001b[0;36m__rmul__\u001b[0;34m(self, other)\u001b[0m\n\u001b[1;32m    588\u001b[0m                                             dtype=object)\n\u001b[1;32m    589\u001b[0m             \u001b[0;32melse\u001b[0m\u001b[0;34m:\u001b[0m\u001b[0;34m\u001b[0m\u001b[0;34m\u001b[0m\u001b[0m\n\u001b[0;32m--> 590\u001b[0;31m                 \u001b[0;32mreturn\u001b[0m \u001b[0mother\u001b[0m \u001b[0;34m*\u001b[0m \u001b[0mself\u001b[0m\u001b[0;34m.\u001b[0m\u001b[0mdata\u001b[0m\u001b[0;34m\u001b[0m\u001b[0;34m\u001b[0m\u001b[0m\n\u001b[0m\u001b[1;32m    591\u001b[0m \u001b[0;34m\u001b[0m\u001b[0m\n\u001b[1;32m    592\u001b[0m         \u001b[0;32melif\u001b[0m \u001b[0misinstance\u001b[0m\u001b[0;34m(\u001b[0m\u001b[0mother\u001b[0m\u001b[0;34m,\u001b[0m \u001b[0mlist\u001b[0m\u001b[0;34m)\u001b[0m\u001b[0;34m:\u001b[0m\u001b[0;34m\u001b[0m\u001b[0;34m\u001b[0m\u001b[0m\n",
      "\u001b[0;32m//anaconda3/lib/python3.7/site-packages/scipy/sparse/base.py\u001b[0m in \u001b[0;36m__rmul__\u001b[0;34m(self, other)\u001b[0m\n\u001b[1;32m    549\u001b[0m             \u001b[0;32mexcept\u001b[0m \u001b[0mAttributeError\u001b[0m\u001b[0;34m:\u001b[0m\u001b[0;34m\u001b[0m\u001b[0;34m\u001b[0m\u001b[0m\n\u001b[1;32m    550\u001b[0m                 \u001b[0mtr\u001b[0m \u001b[0;34m=\u001b[0m \u001b[0mnp\u001b[0m\u001b[0;34m.\u001b[0m\u001b[0masarray\u001b[0m\u001b[0;34m(\u001b[0m\u001b[0mother\u001b[0m\u001b[0;34m)\u001b[0m\u001b[0;34m.\u001b[0m\u001b[0mtranspose\u001b[0m\u001b[0;34m(\u001b[0m\u001b[0;34m)\u001b[0m\u001b[0;34m\u001b[0m\u001b[0;34m\u001b[0m\u001b[0m\n\u001b[0;32m--> 551\u001b[0;31m             \u001b[0;32mreturn\u001b[0m \u001b[0;34m(\u001b[0m\u001b[0mself\u001b[0m\u001b[0;34m.\u001b[0m\u001b[0mtranspose\u001b[0m\u001b[0;34m(\u001b[0m\u001b[0;34m)\u001b[0m \u001b[0;34m*\u001b[0m \u001b[0mtr\u001b[0m\u001b[0;34m)\u001b[0m\u001b[0;34m.\u001b[0m\u001b[0mtranspose\u001b[0m\u001b[0;34m(\u001b[0m\u001b[0;34m)\u001b[0m\u001b[0;34m\u001b[0m\u001b[0;34m\u001b[0m\u001b[0m\n\u001b[0m\u001b[1;32m    552\u001b[0m \u001b[0;34m\u001b[0m\u001b[0m\n\u001b[1;32m    553\u001b[0m     \u001b[0;31m#####################################\u001b[0m\u001b[0;34m\u001b[0m\u001b[0;34m\u001b[0m\u001b[0;34m\u001b[0m\u001b[0m\n",
      "\u001b[0;32m//anaconda3/lib/python3.7/site-packages/scipy/sparse/base.py\u001b[0m in \u001b[0;36m__mul__\u001b[0;34m(self, other)\u001b[0m\n\u001b[1;32m    497\u001b[0m             \u001b[0;31m# dense row or column vector\u001b[0m\u001b[0;34m\u001b[0m\u001b[0;34m\u001b[0m\u001b[0;34m\u001b[0m\u001b[0m\n\u001b[1;32m    498\u001b[0m             \u001b[0;32mif\u001b[0m \u001b[0mother\u001b[0m\u001b[0;34m.\u001b[0m\u001b[0mshape\u001b[0m \u001b[0;34m!=\u001b[0m \u001b[0;34m(\u001b[0m\u001b[0mN\u001b[0m\u001b[0;34m,\u001b[0m\u001b[0;34m)\u001b[0m \u001b[0;32mand\u001b[0m \u001b[0mother\u001b[0m\u001b[0;34m.\u001b[0m\u001b[0mshape\u001b[0m \u001b[0;34m!=\u001b[0m \u001b[0;34m(\u001b[0m\u001b[0mN\u001b[0m\u001b[0;34m,\u001b[0m \u001b[0;36m1\u001b[0m\u001b[0;34m)\u001b[0m\u001b[0;34m:\u001b[0m\u001b[0;34m\u001b[0m\u001b[0;34m\u001b[0m\u001b[0m\n\u001b[0;32m--> 499\u001b[0;31m                 \u001b[0;32mraise\u001b[0m \u001b[0mValueError\u001b[0m\u001b[0;34m(\u001b[0m\u001b[0;34m'dimension mismatch'\u001b[0m\u001b[0;34m)\u001b[0m\u001b[0;34m\u001b[0m\u001b[0;34m\u001b[0m\u001b[0m\n\u001b[0m\u001b[1;32m    500\u001b[0m \u001b[0;34m\u001b[0m\u001b[0m\n\u001b[1;32m    501\u001b[0m             \u001b[0mresult\u001b[0m \u001b[0;34m=\u001b[0m \u001b[0mself\u001b[0m\u001b[0;34m.\u001b[0m\u001b[0m_mul_vector\u001b[0m\u001b[0;34m(\u001b[0m\u001b[0mnp\u001b[0m\u001b[0;34m.\u001b[0m\u001b[0mravel\u001b[0m\u001b[0;34m(\u001b[0m\u001b[0mother\u001b[0m\u001b[0;34m)\u001b[0m\u001b[0;34m)\u001b[0m\u001b[0;34m\u001b[0m\u001b[0;34m\u001b[0m\u001b[0m\n",
      "\u001b[0;31mValueError\u001b[0m: dimension mismatch"
     ]
    }
   ],
   "source": [
    "cr1.solveCircuit(showLoading=False)"
   ]
  },
  {
   "cell_type": "code",
   "execution_count": 19,
   "metadata": {},
   "outputs": [
    {
     "data": {
      "text/plain": [
       "Text(0, 0.5, '($\\\\omega_i-\\\\omega_0$)GHz')"
      ]
     },
     "execution_count": 19,
     "metadata": {},
     "output_type": "execute_result"
    },
    {
     "data": {
      "image/png": "[encoded data removed]",
      "text/plain": [
       "<Figure size 432x288 with 1 Axes>"
      ]
     },
     "metadata": {
      "needs_background": "light"
     },
     "output_type": "display_data"
    }
   ],
   "source": [
    "plt.figure()\n",
    "for i in range(4):\n",
    "    plt.plot(phiExt/2/np.pi,cr1.HamilEig[(i),:].real/GHz,'.')\n",
    "plt.xlabel(\"$\\Phi_{ext}/\\Phi_0$\")\n",
    "plt.ylabel(\"($\\omega_i-\\omega_0$)GHz\")"
   ]
  },
  {
   "cell_type": "code",
   "execution_count": 20,
   "metadata": {},
   "outputs": [
    {
     "data": {
      "text/plain": [
       "Text(0, 0.5, '($\\\\omega_i-\\\\omega_0$)GHz')"
      ]
     },
     "execution_count": 20,
     "metadata": {},
     "output_type": "execute_result"
    },
    {
     "data": {
      "image/png": "[encoded data removed]",
      "text/plain": [
       "<Figure size 432x288 with 1 Axes>"
      ]
     },
     "metadata": {
      "needs_background": "light"
     },
     "output_type": "display_data"
    }
   ],
   "source": [
    "plt.figure()\n",
    "for i in range(3):\n",
    "    plt.plot(phiExt/2/np.pi,(cr1.HamilEig[(i+1),:]-cr1.HamilEig[0,:]).real/GHz,'.')\n",
    "plt.xlabel(\"$\\Phi_{ext}/\\Phi_0$\")\n",
    "plt.ylabel(\"($\\omega_i-\\omega_0$)GHz\")"
   ]
  },
  {
   "cell_type": "code",
   "execution_count": 21,
   "metadata": {},
   "outputs": [
    {
     "data": {
      "text/plain": [
       "Text(0, 0.5, 'GHz')"
      ]
     },
     "execution_count": 21,
     "metadata": {},
     "output_type": "execute_result"
    },
    {
     "data": {
      "image/png": "[encoded data removed]",
      "text/plain": [
       "<Figure size 432x288 with 1 Axes>"
      ]
     },
     "metadata": {
      "needs_background": "light"
     },
     "output_type": "display_data"
    }
   ],
   "source": [
    "plt.figure()\n",
    "plt.plot(phiExt/2/np.pi,(cr1.HamilEig[1,:]-cr1.HamilEig[0,:]).real/GHz,'.')\n",
    "plt.plot(phiExt/2/np.pi,(cr1.HamilEig[2,:]-cr1.HamilEig[1,:]).real/GHz,'.')\n",
    "plt.legend(['$\\omega_{01}$','$\\omega_{12}$'])\n",
    "plt.xlabel(\"$\\Phi_{ext}/\\Phi_0$\")\n",
    "plt.ylabel(\"GHz\")"
   ]
  }
 ],
 "metadata": {
  "kernelspec": {
   "display_name": "Python 3",
   "language": "python",
   "name": "python3"
  },
  "language_info": {
   "codemirror_mode": {
    "name": "ipython",
    "version": 3
   },
   "file_extension": ".py",
   "mimetype": "text/x-python",
   "name": "python",
   "nbconvert_exporter": "python",
   "pygments_lexer": "ipython3",
   "version": "3.7.3"
  }
 },
 "nbformat": 4,
 "nbformat_minor": 2
}
