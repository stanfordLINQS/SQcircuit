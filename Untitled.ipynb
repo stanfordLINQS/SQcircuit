{
 "cells": [
  {
   "cell_type": "code",
   "execution_count": 1,
   "metadata": {},
   "outputs": [],
   "source": [
    "from circuitClass import *"
   ]
  },
  {
   "cell_type": "code",
   "execution_count": 2,
   "metadata": {
    "scrolled": true
   },
   "outputs": [],
   "source": [
    "graph = [[1,3],[2,0],[2,3],[3,0],[1,2]]\n",
    "C = [98.8*fF,15*fF,38.7*fF,67.5*fF,0]\n",
    "L = [293*pH,0,98.1*pH,0,0]\n",
    "JJ = [0,187*GHz,0,192*GHz,1865*GHz]\n",
    "\n",
    "# define the circuit\n",
    "cr1 = Qcircuit(graph,L,C,JJ)\n",
    "\n",
    "# set excitation\n",
    "phiExt = np.linspace(-0.02,0.02,15)*2*np.pi\n",
    "cr1.setExcitation([([1,2,3],phiExt),([0,2,3],0)])\n",
    "cr1.configure()"
   ]
  },
  {
   "cell_type": "code",
   "execution_count": 3,
   "metadata": {
    "scrolled": true
   },
   "outputs": [
    {
     "name": "stdout",
     "output_type": "stream",
     "text": [
      "1st frequency: 71.17323277860973\n",
      "1st frequency: 29.58065928330362\n",
      "[[ 0.4929439  -1.32552115  0.        ]\n",
      " [ 0.76528999  0.28460129  0.57735027]\n",
      " [-0.62911694  0.52045993  0.57735027]]\n",
      "[[ 1. -1.  0.]\n",
      " [ 1.  1.  1.]\n",
      " [ 0.  1.  1.]]\n"
     ]
    }
   ],
   "source": [
    "R = np.array([[1,0,1],[0,1,1],[1,1,1]])\n",
    "RInv = np.linalg.inv(R)\n",
    "Cx = cr1.giveMatC()\n",
    "Lx = cr1.giveMatL()\n",
    "_ ,S = np.linalg.eig(Lx)\n",
    "lRotated = R @ Lx @ R \n",
    "cInvRotated = RInv@ np.linalg.inv(Cx) @RInv\n",
    "print(\"1st frequency:\", np.sqrt(lRotated[0,0]*cInvRotated[0,0])/GHz)\n",
    "print(\"1st frequency:\", np.sqrt(lRotated[1,1]*cInvRotated[1,1])/GHz)\n",
    "print(cr1.JJEqRotated)\n",
    "print(cr1.JJEq@R)\n",
    "Z1 = np.sqrt(cInvRotated[0,0]/lRotated[0,0])\n",
    "Z2 = np.sqrt(cInvRotated[1,1]/lRotated[1,1])\n",
    "omega = np.sqrt(np.diag(cInvRotated)*np.diag(lRotated))"
   ]
  },
  {
   "cell_type": "code",
   "execution_count": 4,
   "metadata": {},
   "outputs": [
    {
     "data": {
      "text/plain": [
       "array([1865.,  192.,  187.])"
      ]
     },
     "execution_count": 4,
     "metadata": {},
     "output_type": "execute_result"
    }
   ],
   "source": [
    "np.array(cr1.JJEj)/GHz"
   ]
  },
  {
   "cell_type": "code",
   "execution_count": 5,
   "metadata": {},
   "outputs": [],
   "source": [
    "m = 10\n",
    "def Hamil(phi):\n",
    "    I = q.qeye(m);\n",
    "    num = q.num(m);\n",
    "    charge = q.charge((m-1)/2)\n",
    "    d = cr1.chargeDisp(m)\n",
    "    intr = q.destroy(m) - q.create(m)\n",
    "    \n",
    "    HLC = omega[0]*q.tensor(num,I,I) +\\\n",
    "    omega[1]*q.tensor(I,num,I) +\\\n",
    "    0.5*(2*e)**2*cInvRotated[2,2]/hbar*q.tensor(I,I,charge)*q.tensor(I,I,charge)-\\\n",
    "    1/np.sqrt(Z1*Z2)*cInvRotated[0,1]*q.tensor(intr,intr,I) -\\\n",
    "    1j*np.sqrt(1/(2*hbar*Z1))*(2*e)*cInvRotated[0,2]*q.tensor(intr,I,charge) -\\\n",
    "    1j*np.sqrt(1/(2*hbar*Z2))*(2*e)*cInvRotated[1,2]*q.tensor(I,intr,charge)\n",
    "    \n",
    "    alpha1 = -1j*2*np.pi/Phi0*np.sqrt(hbar*Z1/2)\n",
    "    alpha2 = -1j*2*np.pi/Phi0*np.sqrt(hbar*Z2/2)\n",
    "    \n",
    "    HJJ1 = -JJ[4]/2*np.exp(1j*phi)*q.tensor(q.displace(m,alpha1),q.displace(m,alpha2),I)\n",
    "    HJJ2 = -JJ[1]/2*q.tensor(I,q.displace(m,alpha2),d);\n",
    "    HJJ3 = -JJ[3]/2*q.tensor(q.displace(m,alpha1),q.displace(m,alpha2),d)\n",
    "    \n",
    "    H = HLC + HJJ1+HJJ1.dag() + HJJ2+HJJ2.dag() + HJJ3+HJJ3.dag()\n",
    "    return H"
   ]
  },
  {
   "cell_type": "code",
   "execution_count": 6,
   "metadata": {},
   "outputs": [
    {
     "name": "stdout",
     "output_type": "stream",
     "text": [
      "0\n",
      "1\n",
      "2\n",
      "3\n",
      "4\n",
      "5\n",
      "6\n",
      "7\n",
      "8\n",
      "9\n",
      "10\n",
      "11\n",
      "12\n",
      "13\n",
      "14\n"
     ]
    }
   ],
   "source": [
    "HamilEig = np.zeros((m**3,len(phiExt)),dtype='complex');\n",
    "for i in range(len(phiExt)):\n",
    "    print(i)\n",
    "    H = Hamil(phiExt[i]);\n",
    "    eigenValues , eigenVectors = H.eigenstates();\n",
    "    HamilEig[:,i] = eigenValues"
   ]
  },
  {
   "cell_type": "code",
   "execution_count": 7,
   "metadata": {},
   "outputs": [
    {
     "data": {
      "text/plain": [
       "Text(0, 0.5, '($\\\\omega_i-\\\\omega_0$)GHz')"
      ]
     },
     "execution_count": 7,
     "metadata": {},
     "output_type": "execute_result"
    },
    {
     "data": {
      "image/png": "[encoded data removed]",
      "text/plain": [
       "<Figure size 432x288 with 1 Axes>"
      ]
     },
     "metadata": {
      "needs_background": "light"
     },
     "output_type": "display_data"
    }
   ],
   "source": [
    "plt.figure()\n",
    "for i in range(4):\n",
    "    plt.plot(phiExt/2/np.pi,HamilEig[(i),:].real/GHz,'.')\n",
    "plt.xlabel(\"$\\Phi_{ext}/\\Phi_0$\")\n",
    "plt.ylabel(\"($\\omega_i-\\omega_0$)GHz\")"
   ]
  },
  {
   "cell_type": "code",
   "execution_count": 10,
   "metadata": {},
   "outputs": [
    {
     "data": {
      "text/plain": [
       "Text(0, 0.5, '($\\\\omega_i-\\\\omega_0$)GHz')"
      ]
     },
     "execution_count": 10,
     "metadata": {},
     "output_type": "execute_result"
    },
    {
     "data": {
      "image/png": "[encoded data removed]",
      "text/plain": [
       "<Figure size 432x288 with 1 Axes>"
      ]
     },
     "metadata": {
      "needs_background": "light"
     },
     "output_type": "display_data"
    }
   ],
   "source": [
    "plt.figure()\n",
    "for i in range(4):\n",
    "    plt.plot(phiExt/2/np.pi,HamilEig[(i),:].real/GHz-np.min(HamilEig[0,:]).real/GHz,'.')\n",
    "plt.xlabel(\"$\\Phi_{ext}/\\Phi_0$\")\n",
    "plt.ylabel(\"($\\omega_i-\\omega_0$)GHz\")"
   ]
  },
  {
   "cell_type": "code",
   "execution_count": 8,
   "metadata": {},
   "outputs": [],
   "source": [
    "cr1.setFockNumbers([10,10,10])"
   ]
  },
  {
   "cell_type": "code",
   "execution_count": 9,
   "metadata": {},
   "outputs": [
    {
     "name": "stdout",
     "output_type": "stream",
     "text": [
      "[[0], [1], 0]\n"
     ]
    }
   ],
   "source": [
    "print(cr1.JJExcite)"
   ]
  },
  {
   "cell_type": "code",
   "execution_count": 10,
   "metadata": {
    "scrolled": false
   },
   "outputs": [],
   "source": [
    "cr1.solveCircuit(showLoading=False)"
   ]
  },
  {
   "cell_type": "code",
   "execution_count": 11,
   "metadata": {},
   "outputs": [
    {
     "data": {
      "text/plain": [
       "Text(0, 0.5, '($\\\\omega_i$)GHz')"
      ]
     },
     "execution_count": 11,
     "metadata": {},
     "output_type": "execute_result"
    },
    {
     "data": {
      "image/png": "[encoded data removed]",
      "text/plain": [
       "<Figure size 432x288 with 1 Axes>"
      ]
     },
     "metadata": {
      "needs_background": "light"
     },
     "output_type": "display_data"
    }
   ],
   "source": [
    "plt.figure()\n",
    "for i in range(4):\n",
    "    plt.plot(phiExt/2/np.pi,cr1.HamilEig[(i),:].real/GHz,'.')\n",
    "plt.xlabel(\"$\\Phi_{ext}/\\Phi_0$\")\n",
    "plt.ylabel(\"($\\omega_i$)GHz\")"
   ]
  },
  {
   "cell_type": "code",
   "execution_count": 12,
   "metadata": {},
   "outputs": [
    {
     "data": {
      "text/plain": [
       "Text(0, 0.5, '($\\\\omega_i-\\\\omega_0$)GHz')"
      ]
     },
     "execution_count": 12,
     "metadata": {},
     "output_type": "execute_result"
    },
    {
     "data": {
      "image/png": "[encoded data removed]",
      "text/plain": [
       "<Figure size 432x288 with 1 Axes>"
      ]
     },
     "metadata": {
      "needs_background": "light"
     },
     "output_type": "display_data"
    }
   ],
   "source": [
    "plt.figure()\n",
    "for i in range(3):\n",
    "    plt.plot(phiExt/2/np.pi,(cr1.HamilEig[(i+1),:]-cr1.HamilEig[0,:]).real/GHz,'.')\n",
    "plt.xlabel(\"$\\Phi_{ext}/\\Phi_0$\")\n",
    "plt.ylabel(\"($\\omega_i-\\omega_0$)GHz\")"
   ]
  },
  {
   "cell_type": "code",
   "execution_count": 13,
   "metadata": {},
   "outputs": [
    {
     "data": {
      "text/plain": [
       "Text(0, 0.5, 'GHz')"
      ]
     },
     "execution_count": 13,
     "metadata": {},
     "output_type": "execute_result"
    },
    {
     "data": {
      "image/png": "[encoded data removed]",
      "text/plain": [
       "<Figure size 432x288 with 1 Axes>"
      ]
     },
     "metadata": {
      "needs_background": "light"
     },
     "output_type": "display_data"
    }
   ],
   "source": [
    "plt.figure()\n",
    "plt.plot(phiExt/2/np.pi,(cr1.HamilEig[1,:]-cr1.HamilEig[0,:]).real/GHz,'.')\n",
    "plt.plot(phiExt/2/np.pi,(cr1.HamilEig[2,:]-cr1.HamilEig[1,:]).real/GHz,'.')\n",
    "plt.legend(['$\\omega_{01}$','$\\omega_{12}$'])\n",
    "plt.xlabel(\"$\\Phi_{ext}/\\Phi_0$\")\n",
    "plt.ylabel(\"GHz\")"
   ]
  },
  {
   "cell_type": "code",
   "execution_count": null,
   "metadata": {},
   "outputs": [],
   "source": []
  }
 ],
 "metadata": {
  "kernelspec": {
   "display_name": "Python 3",
   "language": "python",
   "name": "python3"
  },
  "language_info": {
   "codemirror_mode": {
    "name": "ipython",
    "version": 3
   },
   "file_extension": ".py",
   "mimetype": "text/x-python",
   "name": "python",
   "nbconvert_exporter": "python",
   "pygments_lexer": "ipython3",
   "version": "3.7.3"
  }
 },
 "nbformat": 4,
 "nbformat_minor": 2
}
