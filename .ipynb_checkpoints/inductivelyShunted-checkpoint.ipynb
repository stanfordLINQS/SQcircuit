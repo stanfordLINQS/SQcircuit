{
 "cells": [
  {
   "cell_type": "code",
   "execution_count": 3,
   "metadata": {},
   "outputs": [],
   "source": [
    "from circuitClass import *"
   ]
  },
  {
   "cell_type": "markdown",
   "metadata": {},
   "source": [
    "## Inductively shunted superconducting circuits\n",
    "In this document, I am trying to use the class circuit to find the eigen energies of the Hamiltonain.\n",
    "<img src=\"pic/pic1a.png\" style=\"height:200px\">\n",
    "\n",
    "The parameters that <em> Quantization of inductively shunted superconducting circuits</em> used is:\n",
    "\n",
    "<img src=\"pic/pic2.png\" style=\"height:200px\">\n",
    "\n",
    ",and I add $C_x$ a small cappacitance to circuit to diogonalize the Hamiltonian."
   ]
  },
  {
   "cell_type": "code",
   "execution_count": 4,
   "metadata": {
    "scrolled": false
   },
   "outputs": [
    {
     "name": "stdout",
     "output_type": "stream",
     "text": [
      "1st resonance frequency: 7.881613212180042 GHz\n",
      "2nd resonance frequency: 3.5130205404008183 GHz\n"
     ]
    }
   ],
   "source": [
    "# using the parameters that paper defined\n",
    "lambda1 = 1 - 1.5e-3\n",
    "lambda2 = 1.5e-2\n",
    "lambda3 = -5.6e-2\n",
    "lambda4 = 1 - 1.1e-4\n",
    " \n",
    "S = np.array([[lambda1,lambda2],[lambda3,lambda4]])\n",
    "\n",
    "Cr = 20.3*fH\n",
    "Cq = 5.3*fF\n",
    "Lr = 15.6*nH\n",
    "Lq = 386*nH\n",
    "Ls = 4.5*nH\n",
    "\n",
    "CR = lambda1**2 * Cr + lambda3**2 *Cq \n",
    "invLR = lambda1**2/(Lr+Ls) + lambda3**2/Lq - 2*lambda1*lambda3*Ls/Lq/(Lr+Ls)\n",
    "CQ = lambda2**2 * Cr + lambda4**2 *Cq \n",
    "invLQ = lambda2**2/(Lr+Ls) + lambda4**2/Lq - 2*lambda2*lambda4*Ls/Lq/(Lr+Ls)\n",
    "\n",
    "print(\"1st resonance frequency:\", np.sqrt(invLR/CR)/GHz,'GHz')\n",
    "print(\"2nd resonance frequency:\" , np.sqrt(invLQ/CQ)/GHz,'GHz')"
   ]
  },
  {
   "cell_type": "markdown",
   "metadata": {},
   "source": [
    "## Define the circuit for the Qcircuit \n",
    "In this part, I define the input which is necessery for the Hamiltonian."
   ]
  },
  {
   "cell_type": "code",
   "execution_count": 5,
   "metadata": {},
   "outputs": [],
   "source": [
    "graph = [[0,1],[0,2],[0,3],[1,2],[2,3]]\n",
    "L = [0,4.5*nH,0,15.6*nH,386*nH]\n",
    "# I assumed Cx = 10nF\n",
    "C = [20.3*fF, 0.0001*fF, 5.3*fF,0,0]\n",
    "JJ = [0,0,6.2*GHz,0,0]\n",
    "\n",
    "# define the circuit\n",
    "cr1 = Qcircuit(graph,L,C,JJ)\n",
    "\n",
    "# set excitation\n",
    "phiExt = np.linspace(0,0.5,300)*2*np.pi\n",
    "cr1.setExcitation([([0,2,1],0),([0,3,2],phiExt)])\n",
    "\n",
    "cr1.configure()"
   ]
  },
  {
   "cell_type": "code",
   "execution_count": 6,
   "metadata": {},
   "outputs": [
    {
     "name": "stdout",
     "output_type": "stream",
     "text": [
      "fundamental mode frequencies: [8.55471559e+03 7.89173326e+00 3.49731104e+00] GHz\n"
     ]
    }
   ],
   "source": [
    "# fundamental mode frequencies of the circuit:\n",
    "print(\"fundamental mode frequencies:\",cr1.omega/GHz,\"GHz\")"
   ]
  },
  {
   "cell_type": "code",
   "execution_count": 7,
   "metadata": {},
   "outputs": [],
   "source": [
    "cr1.setFockNumbers([1,5,21])"
   ]
  },
  {
   "cell_type": "code",
   "execution_count": 8,
   "metadata": {
    "scrolled": true
   },
   "outputs": [],
   "source": [
    "cr1.solveCircuit(showLoading=False)"
   ]
  },
  {
   "cell_type": "code",
   "execution_count": 9,
   "metadata": {
    "scrolled": false
   },
   "outputs": [
    {
     "data": {
      "text/plain": [
       "Text(0, 0.5, '($\\\\omega_i-\\\\omega_0$)GHz')"
      ]
     },
     "execution_count": 9,
     "metadata": {},
     "output_type": "execute_result"
    },
    {
     "data": {
      "image/png": "[encoded data removed]",
      "text/plain": [
       "<Figure size 432x288 with 1 Axes>"
      ]
     },
     "metadata": {
      "needs_background": "light"
     },
     "output_type": "display_data"
    }
   ],
   "source": [
    "plt.figure()\n",
    "for i in range(9):\n",
    "    plt.plot(phiExt/2/np.pi,(cr1.HamilEig[(i+1),:]-cr1.HamilEig[0,:]).real/GHz)\n",
    "plt.xlabel(\"$\\Phi_{ext}/\\Phi_0$\")\n",
    "plt.ylabel(\"($\\omega_i-\\omega_0$)GHz\")"
   ]
  },
  {
   "cell_type": "markdown",
   "metadata": {},
   "source": [
    ",and here is the result from the paper \n",
    "\n",
    "<img align=\"left\" src=\"pic/pic1b.png\" style=\"height:250px\">"
   ]
  },
  {
   "cell_type": "code",
   "execution_count": 12,
   "metadata": {},
   "outputs": [
    {
     "name": "stdout",
     "output_type": "stream",
     "text": [
      "File Saved\n"
     ]
    }
   ],
   "source": [
    "# cr1.saveData('circuit1_DeviceA')"
   ]
  }
 ],
 "metadata": {
  "kernelspec": {
   "display_name": "Python 3",
   "language": "python",
   "name": "python3"
  },
  "language_info": {
   "codemirror_mode": {
    "name": "ipython",
    "version": 3
   },
   "file_extension": ".py",
   "mimetype": "text/x-python",
   "name": "python",
   "nbconvert_exporter": "python",
   "pygments_lexer": "ipython3",
   "version": "3.7.3"
  }
 },
 "nbformat": 4,
 "nbformat_minor": 2
}
