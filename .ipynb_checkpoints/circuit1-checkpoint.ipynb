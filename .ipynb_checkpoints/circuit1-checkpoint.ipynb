{
 "cells": [
  {
   "cell_type": "code",
   "execution_count": 1,
   "metadata": {},
   "outputs": [],
   "source": [
    "from circuitClass import *\n",
    "import numpy as np\n",
    "import matplotlib.pyplot as plt \n",
    "import qutip as q"
   ]
  },
  {
   "cell_type": "markdown",
   "metadata": {},
   "source": [
    "## The circuit That I try to Solve\n",
    "In this document, I am trying to use the class circuit to find the eigen energies of the Hamiltonain.\n",
    "<img src=\"pic/pic1.png\" style=\"height:200px\">\n",
    "\n",
    "The parameters that <em> Quantization of inductively shunted superconducting circuits</em> used is:\n",
    "\n",
    "<img src=\"pic/pic2.png\" style=\"height:200px\">\n",
    "\n",
    ",and I add $C_x$ a large cappacitance to circuit to diogonalize the Hamiltonian."
   ]
  },
  {
   "cell_type": "code",
   "execution_count": 2,
   "metadata": {},
   "outputs": [
    {
     "name": "stdout",
     "output_type": "stream",
     "text": [
      "1st resonance frequency: 7.881613212180042\n",
      "2nd resonance frequency: 3.5130205404008183\n"
     ]
    }
   ],
   "source": [
    "# using the parameters that paper defined\n",
    "lambda1 = 1 - 1.5e-3\n",
    "lambda2 = 1.5e-2\n",
    "lambda3 = -5.6e-2\n",
    "lambda4 = 1 - 1.1e-4\n",
    "\n",
    "Cr = 20.3*fH\n",
    "Cq = 5.3*fF\n",
    "Lr = 15.6*nH\n",
    "Lq = 386*nH\n",
    "Ls = 4.5*nH\n",
    "\n",
    "CR = lambda1**2 * Cr + lambda3**2 *Cq \n",
    "invLR = lambda1**2/(Lr+Ls) + lambda3**2/Lq - 2*lambda1*lambda3*Ls/Lq/(Lr+Ls)\n",
    "CQ = lambda2**2 * Cr + lambda4**2 *Cq \n",
    "invLQ = lambda2**2/(Lr+Ls) + lambda4**2/Lq - 2*lambda2*lambda4*Ls/Lq/(Lr+Ls)\n",
    "\n",
    "print(\"1st resonance frequency:\", np.sqrt(invLR/CR)/GHz)\n",
    "print(\"2nd resonance frequency:\" , np.sqrt(invLQ/CQ)/GHz)"
   ]
  },
  {
   "cell_type": "markdown",
   "metadata": {},
   "source": [
    "## Define the circuit for the circuitClass \n",
    "In this part, I define the input which is necessery for the Hamiltonian."
   ]
  },
  {
   "cell_type": "code",
   "execution_count": 10,
   "metadata": {},
   "outputs": [],
   "source": [
    "graph = [[0,1],[0,2],[0,3],[1,2],[2,3]]\n",
    "L = [0,4.5*nH,0,15.6*nH,386*nH]\n",
    "# I assumed Cx = 10nF\n",
    "C = [20.3*fH, 10*nF, 5.3*fF,0,0]\n",
    "JJ = [0,0,6.2*GHz,0,0]\n",
    "phi = np.linspace(0,0.5,15)*2*np.pi\n",
    "\n",
    "# define the circuit\n",
    "cr1 = Qcircuit(graph,L,C,JJ,phi)"
   ]
  },
  {
   "cell_type": "code",
   "execution_count": 4,
   "metadata": {},
   "outputs": [],
   "source": [
    "cr1.configure()"
   ]
  },
  {
   "cell_type": "code",
   "execution_count": 5,
   "metadata": {
    "scrolled": true
   },
   "outputs": [
    {
     "name": "stdout",
     "output_type": "stream",
     "text": [
      "0\n",
      "1\n",
      "2\n",
      "3\n",
      "4\n",
      "5\n",
      "6\n",
      "7\n",
      "8\n",
      "9\n",
      "10\n",
      "11\n",
      "12\n",
      "13\n",
      "14\n"
     ]
    }
   ],
   "source": [
    "cr1.solveCircuit()"
   ]
  },
  {
   "cell_type": "code",
   "execution_count": 10,
   "metadata": {
    "scrolled": true
   },
   "outputs": [
    {
     "data": {
      "image/png": "[encoded data removed]",
      "text/plain": [
       "<Figure size 432x288 with 1 Axes>"
      ]
     },
     "metadata": {
      "needs_background": "light"
     },
     "output_type": "display_data"
    }
   ],
   "source": [
    "cr1.plotEigFreq(8,1)"
   ]
  },
  {
   "cell_type": "code",
   "execution_count": 7,
   "metadata": {},
   "outputs": [
    {
     "name": "stdout",
     "output_type": "stream",
     "text": [
      "file saved\n"
     ]
    }
   ],
   "source": [
    "# cr1.saveData('circuit1_DeviceA')"
   ]
  },
  {
   "cell_type": "code",
   "execution_count": 24,
   "metadata": {},
   "outputs": [],
   "source": [
    "c = q.tunneling(5,1)\n",
    "c.data[0,1] = 0;"
   ]
  },
  {
   "cell_type": "code",
   "execution_count": 26,
   "metadata": {},
   "outputs": [
    {
     "data": {
      "text/latex": [
       "Quantum object: dims = [[5], [5]], shape = (5, 5), type = oper, isherm = True\\begin{equation*}\\left(\\begin{array}{*{11}c}0.0 & 0.0 & 0.0 & 0.0 & 0.0\\\\1.0 & 0.0 & 1.0 & 0.0 & 0.0\\\\0.0 & 1.0 & 0.0 & 1.0 & 0.0\\\\0.0 & 0.0 & 1.0 & 0.0 & 1.0\\\\0.0 & 0.0 & 0.0 & 1.0 & 0.0\\\\\\end{array}\\right)\\end{equation*}"
      ],
      "text/plain": [
       "Quantum object: dims = [[5], [5]], shape = (5, 5), type = oper, isherm = True\n",
       "Qobj data =\n",
       "[[0. 0. 0. 0. 0.]\n",
       " [1. 0. 1. 0. 0.]\n",
       " [0. 1. 0. 1. 0.]\n",
       " [0. 0. 1. 0. 1.]\n",
       " [0. 0. 0. 1. 0.]]"
      ]
     },
     "execution_count": 26,
     "metadata": {},
     "output_type": "execute_result"
    }
   ],
   "source": [
    "c"
   ]
  },
  {
   "cell_type": "code",
   "execution_count": 62,
   "metadata": {},
   "outputs": [
    {
     "name": "stdout",
     "output_type": "stream",
     "text": [
      "{1, 3}\n",
      "1\n",
      "[1. 2. 3. 4. 5.]\n"
     ]
    }
   ],
   "source": [
    "x = [{1,3}, {2,5}]\n",
    "print(x[0])\n",
    "phi = np.linspace(1,5,5)\n",
    "x = [[1,phi]]\n",
    "a , b = x[0]\n",
    "print(a)\n",
    "print(b)"
   ]
  },
  {
   "cell_type": "code",
   "execution_count": 89,
   "metadata": {},
   "outputs": [
    {
     "name": "stdout",
     "output_type": "stream",
     "text": [
      "[1, 2, 3, 9, 0.006]\n"
     ]
    }
   ],
   "source": [
    "x =[1,2,3,[4,5],6e-3]\n",
    "for i in range(len(x)):\n",
    "    if(isinstance(x[i],list)):\n",
    "        x[i] = sum(x[i])\n",
    "        \n",
    "print(x)"
   ]
  },
  {
   "cell_type": "code",
   "execution_count": null,
   "metadata": {},
   "outputs": [],
   "source": []
  }
 ],
 "metadata": {
  "kernelspec": {
   "display_name": "Python 3",
   "language": "python",
   "name": "python3"
  },
  "language_info": {
   "codemirror_mode": {
    "name": "ipython",
    "version": 3
   },
   "file_extension": ".py",
   "mimetype": "text/x-python",
   "name": "python",
   "nbconvert_exporter": "python",
   "pygments_lexer": "ipython3",
   "version": "3.7.3"
  }
 },
 "nbformat": 4,
 "nbformat_minor": 2
}
