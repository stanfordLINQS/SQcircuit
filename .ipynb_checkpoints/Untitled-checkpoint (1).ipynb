{
 "cells": [
  {
   "cell_type": "code",
   "execution_count": 1,
   "metadata": {},
   "outputs": [],
   "source": [
    "from circuitClass import *\n",
    "import numpy as np\n",
    "import matplotlib.pyplot as plt \n",
    "import qutip as q"
   ]
  },
  {
   "cell_type": "markdown",
   "metadata": {},
   "source": [
    "## The circuit That I try to Solve\n",
    "In this document, I am trying to use the class circuit to find the eigen energies of the Hamiltonain.\n",
    "<img src=\"pic/pic1.png\" style=\"height:200px\">\n",
    "\n",
    "The parameters that <em> Quantization of inductively shunted superconducting circuits</em> used is:\n",
    "\n",
    "<img src=\"pic/pic2.png\" style=\"height:200px\">\n",
    "\n",
    ",and I add $C_x$ a large cappacitance to circuit to diogonalize the Hamiltonian."
   ]
  },
  {
   "cell_type": "code",
   "execution_count": 2,
   "metadata": {},
   "outputs": [
    {
     "name": "stdout",
     "output_type": "stream",
     "text": [
      "1st resonance frequency: 7.881613212180042\n",
      "2nd resonance frequency: 3.5130205404008183\n"
     ]
    }
   ],
   "source": [
    "# using the parameters that paper defined\n",
    "lambda1 = 1 - 1.5e-3\n",
    "lambda2 = 1.5e-2\n",
    "lambda3 = -5.6e-2\n",
    "lambda4 = 1 - 1.1e-4\n",
    "\n",
    "Cr = 20.3*fH\n",
    "Cq = 5.3*fF\n",
    "Lr = 15.6*nH\n",
    "Lq = 386*nH\n",
    "Ls = 4.5*nH\n",
    "\n",
    "CR = lambda1**2 * Cr + lambda3**2 *Cq \n",
    "invLR = lambda1**2/(Lr+Ls) + lambda3**2/Lq - 2*lambda1*lambda3*Ls/Lq/(Lr+Ls)\n",
    "CQ = lambda2**2 * Cr + lambda4**2 *Cq \n",
    "invLQ = lambda2**2/(Lr+Ls) + lambda4**2/Lq - 2*lambda2*lambda4*Ls/Lq/(Lr+Ls)\n",
    "\n",
    "print(\"1st resonance frequency:\", np.sqrt(invLR/CR)/GHz)\n",
    "print(\"2nd resonance frequency:\" , np.sqrt(invLQ/CQ)/GHz)"
   ]
  },
  {
   "cell_type": "markdown",
   "metadata": {},
   "source": [
    "## Define the circuit for the circuitClass \n",
    "In this part, I define the input which is necessery for the Hamiltonian."
   ]
  },
  {
   "cell_type": "code",
   "execution_count": 3,
   "metadata": {},
   "outputs": [],
   "source": [
    "graph = [[0,1],[0,2],[0,3],[1,2],[2,3]]\n",
    "L = [0,4.5*nH,0,15.6*nH,386*nH]\n",
    "# I assumed Cx = 10nF\n",
    "C = [20.3*fH, 10*nF, 5.3*fF,0,0]\n",
    "JJ = [0,0,6.2*GHz,0,0]\n",
    "\n",
    "# define the circuit\n",
    "cr1 = Qcircuit(graph,L,C,JJ)"
   ]
  },
  {
   "cell_type": "code",
   "execution_count": 4,
   "metadata": {},
   "outputs": [],
   "source": [
    "cr1.configure()"
   ]
  },
  {
   "cell_type": "code",
   "execution_count": 5,
   "metadata": {},
   "outputs": [
    {
     "name": "stdout",
     "output_type": "stream",
     "text": [
      "0\n",
      "1\n",
      "2\n",
      "3\n",
      "4\n",
      "5\n",
      "6\n",
      "7\n",
      "8\n",
      "9\n",
      "10\n",
      "11\n",
      "12\n",
      "13\n",
      "14\n",
      "15\n",
      "16\n",
      "17\n",
      "18\n",
      "19\n",
      "20\n",
      "21\n",
      "22\n",
      "23\n",
      "24\n",
      "25\n",
      "26\n",
      "27\n",
      "28\n",
      "29\n",
      "30\n",
      "31\n",
      "32\n",
      "33\n",
      "34\n",
      "35\n",
      "36\n",
      "37\n",
      "38\n",
      "39\n",
      "40\n",
      "41\n",
      "42\n",
      "43\n",
      "44\n",
      "45\n",
      "46\n",
      "47\n",
      "48\n",
      "49\n",
      "50\n",
      "51\n",
      "52\n",
      "53\n",
      "54\n",
      "55\n",
      "56\n",
      "57\n",
      "58\n",
      "59\n",
      "60\n",
      "61\n",
      "62\n",
      "63\n",
      "64\n",
      "65\n",
      "66\n",
      "67\n",
      "68\n",
      "69\n",
      "70\n",
      "71\n",
      "72\n",
      "73\n",
      "74\n",
      "75\n",
      "76\n",
      "77\n",
      "78\n",
      "79\n",
      "80\n",
      "81\n",
      "82\n",
      "83\n",
      "84\n",
      "85\n",
      "86\n",
      "87\n",
      "88\n",
      "89\n",
      "90\n",
      "91\n",
      "92\n",
      "93\n",
      "94\n",
      "95\n",
      "96\n",
      "97\n",
      "98\n",
      "99\n"
     ]
    },
    {
     "name": "stderr",
     "output_type": "stream",
     "text": [
      "//anaconda3/lib/python3.7/site-packages/numpy/core/_asarray.py:85: ComplexWarning: Casting complex values to real discards the imaginary part\n",
      "  return array(a, dtype, copy=False, order=order)\n"
     ]
    },
    {
     "data": {
      "image/png": "[encoded data removed]",
      "text/plain": [
       "<Figure size 432x288 with 1 Axes>"
      ]
     },
     "metadata": {
      "needs_background": "light"
     },
     "output_type": "display_data"
    }
   ],
   "source": [
    "cr1.solveCircuit()"
   ]
  },
  {
   "cell_type": "code",
   "execution_count": null,
   "metadata": {},
   "outputs": [],
   "source": []
  }
 ],
 "metadata": {
  "kernelspec": {
   "display_name": "Python 3",
   "language": "python",
   "name": "python3"
  },
  "language_info": {
   "codemirror_mode": {
    "name": "ipython",
    "version": 3
   },
   "file_extension": ".py",
   "mimetype": "text/x-python",
   "name": "python",
   "nbconvert_exporter": "python",
   "pygments_lexer": "ipython3",
   "version": "3.7.4"
  }
 },
 "nbformat": 4,
 "nbformat_minor": 2
}
