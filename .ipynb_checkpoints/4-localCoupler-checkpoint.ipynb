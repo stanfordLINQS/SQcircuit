{
 "cells": [
  {
   "cell_type": "code",
   "execution_count": 1,
   "metadata": {},
   "outputs": [],
   "source": [
    "from circuitClass import *\n",
    "from jupyterthemes import jtplot\n",
    "jtplot.style()"
   ]
  },
  {
   "cell_type": "markdown",
   "metadata": {},
   "source": [
    "<img src=\"pic/pic9a.png\" style=\"height:250px\">\n",
    "<img src=\"pic/pic9b.png\" style=\"height:75px\">"
   ]
  },
  {
   "cell_type": "code",
   "execution_count": 2,
   "metadata": {
    "scrolled": true
   },
   "outputs": [
    {
     "name": "stdout",
     "output_type": "stream",
     "text": [
      "0.5773502691896258\n"
     ]
    }
   ],
   "source": [
    "graph = [[1,3],[2,0],[2,3],[3,0],[1,2]]\n",
    "C = [98.8*fF,15*fF,38.7*fF,67.5*fF,0]\n",
    "L = [293*pH,0,98.1*pH,0,0]\n",
    "JJ = [0,187*GHz,0,192*GHz*1e-20,1560*GHz*1e-20]\n",
    "\n",
    "# define the circuit\n",
    "cr1 = Qcircuit(graph,L,C,JJ)\n",
    "\n",
    "# set excitation\n",
    "# phiExt = np.linspace(-0.02,0.02,15)*2*np.pi\n",
    "phiExt = np.linspace(0,1,2)*2*np.pi\n",
    "cr1.setExcitation([([1,2,3],0),([0,2,3],phiExt)])\n",
    "\n",
    "# configure the circuit\n",
    "cr1.configure()"
   ]
  },
  {
   "cell_type": "code",
   "execution_count": 3,
   "metadata": {},
   "outputs": [],
   "source": [
    "cr1.setFockNumbers([7,9,17])"
   ]
  },
  {
   "cell_type": "code",
   "execution_count": 4,
   "metadata": {
    "scrolled": false
   },
   "outputs": [
    {
     "name": "stdout",
     "output_type": "stream",
     "text": [
      "0\n",
      "1\n"
     ]
    }
   ],
   "source": [
    "cr1.solveCircuit(showLoading=True)"
   ]
  },
  {
   "cell_type": "code",
   "execution_count": 5,
   "metadata": {
    "scrolled": true
   },
   "outputs": [
    {
     "name": "stdout",
     "output_type": "stream",
     "text": [
      "0.0\n",
      "17.957045102806546\n",
      "29.580677710040476\n",
      "36.443849091836995\n",
      "47.537786715636486\n",
      "56.488207447227836\n",
      "59.16166509194136\n",
      "66.02472430172723\n",
      "73.89122124139818\n",
      "77.1195958804236\n"
     ]
    }
   ],
   "source": [
    "for i in range(10):\n",
    "    print(cr1.HamilEig[i,0].real/GHz-cr1.HamilEig[0,0].real/GHz)"
   ]
  },
  {
   "cell_type": "code",
   "execution_count": 6,
   "metadata": {
    "scrolled": false
   },
   "outputs": [
    {
     "data": {
      "image/png": "[encoded data removed]",
      "text/plain": [
       "<Figure size 460.8x403.2 with 1 Axes>"
      ]
     },
     "metadata": {},
     "output_type": "display_data"
    }
   ],
   "source": [
    "fig = plt.figure()\n",
    "for i in range(4):\n",
    "    plt.plot(phiExt/2/np.pi,cr1.HamilEig[i,:].real/GHz-np.min(cr1.HamilEig[0,:].real)/GHz,'.',\\\n",
    "            markersize = 8)\n",
    "plt.xlabel(\"$\\Phi_{ext}/\\Phi_0$\")\n",
    "plt.ylabel(\"($\\omega_i$)GHz\")\n",
    "plt.savefig(\"fig1\")"
   ]
  },
  {
   "cell_type": "markdown",
   "metadata": {},
   "source": [
    "## Circuit Hamiltonian\n",
    "In this section, I diogonalize the circuit Hamiltonian without using the Qcircuit Class. The corrected version of the Hamiltonian of the paper is:\n",
    "\n",
    "\\begin{equation}\n",
    "\\begin{aligned}\n",
    "H &=H_{O}+H_{C}+H_{\\mathrm{int}} \\\\\n",
    "H_{\\mathrm{O}} &=\\hbar \\omega_{1} a_{1}^{\\dagger} a_{1}+\\hbar \\omega_{2} a_{2}^{\\dagger} a_{2}-\\frac{\\hbar}{2 \\sqrt{Z_{1} Z_{2}}} \\tilde{c}_{12}^{-1}\\left(a_{1}-a_{1}^{\\dagger}\\right)\\left(a_{2}-a_{2}^{\\dagger}\\right)-\\frac{E_{J 12}}{2}\\left(e^{i \\phi_{\\mathrm{var}}} D_{1}^{\\dagger}\\left(\\alpha_{1}\\right) D_{2}^{\\dagger}\\left(-\\alpha_{2}\\right)+\\mathrm{h.c.}\\right) \\\\\n",
    "H_{\\mathrm{C}} &=\\frac{1}{2} \\tilde{c}_{33}^{-1} \\tilde{Q}_{3}^{2} \\\\\n",
    "H_{\\mathrm{int}} &=-i \\sqrt{\\frac{\\hbar}{2 Z_{1}}} \\tilde{c}_{13}^{-1}\\left(a_{1}-a_{1}^{\\dagger}\\right) \\tilde{Q}_{3}-i \\sqrt{\\frac{\\hbar}{2 Z_{2}}} \\tilde{c}_{23}^{-1}\\left(a_{2}-a_{2}^{\\dagger}\\right) \\tilde{Q}_{3}-\\frac{E_{122}}{2}\\left(e^{-i \\phi_{\\mathrm{ix}}} D_{2}^{\\dagger}\\left(\\alpha_{2}\\right) d_{3}^{-}+\\mathrm{h.c.}\\right) \\\\\n",
    "&-\\frac{E_{\\mathrm{J} 33}}{2}\\left(D_{1}^{\\dagger}\\left(\\alpha_{1}\\right) D_{2}^{\\dagger}\\left(\\alpha_{2}\\right) d_{3}^{-}+\\mathrm{h.c.}\\right)\n",
    "\\end{aligned}\n",
    "\\end{equation}\n"
   ]
  },
  {
   "cell_type": "code",
   "execution_count": 7,
   "metadata": {
    "scrolled": false
   },
   "outputs": [
    {
     "name": "stdout",
     "output_type": "stream",
     "text": [
      "1st frequency: 71.17323277860973\n",
      "2nd frequency: 29.58065928330362\n",
      "3rd frequency: 5.481868369201006\n",
      "[[ 7.95238698e+12 -5.31404281e+12 -4.03473884e+12]\n",
      " [-5.31404281e+12  1.18741408e+13 -2.02490060e+12]\n",
      " [-4.03473884e+12 -2.02490060e+12  4.10885805e+13]]\n",
      "[[ 7.95238698e+12 -5.31404281e+12 -2.32945755e+12]\n",
      " [-5.31404281e+12  1.18741408e+13 -1.16907690e+12]\n",
      " [-4.03473884e+12 -2.02490060e+12  1.36961935e+13]]\n",
      "[67.46265936 37.27511314  0.        ]\n",
      "0.1461403925928947j 0.16282277588255015j\n"
     ]
    }
   ],
   "source": [
    "R = np.array([[1,0,1],[0,1,1],[1,1,1]])\n",
    "RInv = np.linalg.inv(R)\n",
    "Cx = cr1.giveMatC()\n",
    "Lx = cr1.giveMatL()\n",
    "_ ,S = np.linalg.eig(Lx)\n",
    "lRotated = R @ Lx @ R \n",
    "cInvRotated = RInv @ np.linalg.inv(Cx) @ RInv\n",
    "print(\"1st frequency:\", np.sqrt(lRotated[0,0]*cInvRotated[0,0])/GHz)\n",
    "print(\"2nd frequency:\", np.sqrt(lRotated[1,1]*cInvRotated[1,1])/GHz)\n",
    "print(\"3rd frequency:\", 4*cInvRotated[2,2]*e**2/GHz/hbar)\n",
    "# print(cr1.JJEqRotated)\n",
    "# print(cr1.JJEq@R)\n",
    "Z1 = np.sqrt(cInvRotated[0,0]/lRotated[0,0])\n",
    "Z2 = np.sqrt(cInvRotated[1,1]/lRotated[1,1])\n",
    "omega = np.sqrt(np.diag(cInvRotated)*np.diag(lRotated))\n",
    "\n",
    "print(S.T @ np.linalg.inv(Cx) @ S)\n",
    "print(cr1.cInvRotated)\n",
    "print(cr1.omega/GHz)\n",
    "alpha1 = 1j*2*np.pi/Phi0*np.sqrt(hbar*Z1/2)\n",
    "alpha2 = 1j*2*np.pi/Phi0*np.sqrt(hbar*Z2/2)\n",
    "print(alpha1,alpha2)"
   ]
  },
  {
   "cell_type": "code",
   "execution_count": 11,
   "metadata": {},
   "outputs": [],
   "source": [
    "m = 11\n",
    "def Hamil(phiVar,phiFix):\n",
    "    I = q.qeye(m);\n",
    "    num = q.num(m);\n",
    "    charge = q.charge((m-1)/2)\n",
    "    d = cr1.chargeDisp(m)\n",
    "    intr = q.destroy(m) - q.create(m)\n",
    "    \n",
    "    HLC = omega[0]*q.tensor(num,I,I) +\\\n",
    "    omega[1]*q.tensor(I,num,I) +\\\n",
    "    0.5*(2*e)**2*cInvRotated[2,2]/hbar*q.tensor(I,I,charge)*q.tensor(I,I,charge)-\\\n",
    "    1/np.sqrt(Z1*Z2)/2*cInvRotated[0,1]*q.tensor(intr,intr,I) +\\\n",
    "    1j*np.sqrt(1/(2*hbar*Z1))*(2*e)*cInvRotated[0,2]*q.tensor(intr,I,charge) -\\\n",
    "    1j*np.sqrt(1/(2*hbar*Z2))*(2*e)*cInvRotated[1,2]*q.tensor(I,intr,charge)\n",
    "    \n",
    "    alpha1 = 1j*2*np.pi/Phi0*np.sqrt(hbar*Z1/2)\n",
    "    alpha2 = 1j*2*np.pi/Phi0*np.sqrt(hbar*Z2/2)\n",
    "    \n",
    "    HJ12 = -JJ[4]/2*np.exp(1j*phiVar)*q.tensor(q.displace(m,alpha1),q.displace(m,-alpha2),I)\n",
    "    HJ22 = -JJ[1]/2*np.exp(1j*phiFix)*q.tensor(I,q.displace(m,alpha2),d);\n",
    "    HJ33 = -JJ[3]/2*q.tensor(q.displace(m,alpha1),q.displace(m,alpha2),d)\n",
    "    \n",
    "#     HJ12 = -np.exp(1j*phiVar)*q.tensor(q.displace(m,alpha1),q.displace(m,-alpha2),I)\n",
    "#     HJ22 = -np.exp(1j*phiFix)*q.tensor(I,q.displace(m,alpha2),d);\n",
    "#     HJ33 = -q.tensor(q.displace(m,alpha1),q.displace(m,alpha2),d)\n",
    "    \n",
    "    H = HLC +  0*(HJ12+HJ12.dag()) + HJ22+HJ22.dag() + 0*(HJ33+HJ33.dag())\n",
    "    return H, HJ12+HJ12.dag(), HJ22+HJ22.dag(), HJ33+HJ33.dag()"
   ]
  },
  {
   "cell_type": "code",
   "execution_count": 12,
   "metadata": {
    "scrolled": true
   },
   "outputs": [
    {
     "name": "stdout",
     "output_type": "stream",
     "text": [
      "0\n",
      "1\n"
     ]
    }
   ],
   "source": [
    "HamilEig = np.zeros((m**3,len(phiExt)),dtype='complex');\n",
    "HJ22List = [];\n",
    "for i in range(len(phiExt)):\n",
    "    print(i)\n",
    "#     if(i==1):\n",
    "#         continue\n",
    "    H, _,_,_ = Hamil(phiVar = 0, phiFix = phiExt[i]);\n",
    "    eigenValues , eigenVectors = H.eigenstates();\n",
    "    HamilEig[:,i] = eigenValues"
   ]
  },
  {
   "cell_type": "code",
   "execution_count": 13,
   "metadata": {},
   "outputs": [
    {
     "name": "stdout",
     "output_type": "stream",
     "text": [
      "0.0\n",
      "13.52808898655968\n",
      "29.211306150962088\n",
      "44.88762391175432\n",
      "47.72788845472098\n",
      "60.218590747037354\n",
      "66.71843656861422\n",
      "74.66026281480697\n",
      "77.94995551509895\n",
      "86.97593005845752\n"
     ]
    }
   ],
   "source": [
    "for i in range(10):\n",
    "    print(HamilEig[i,0].real/GHz-HamilEig[0,0].real/GHz)"
   ]
  },
  {
   "cell_type": "code",
   "execution_count": 11,
   "metadata": {},
   "outputs": [
    {
     "data": {
      "image/png": "[encoded data removed]",
      "text/plain": [
       "<Figure size 460.8x403.2 with 1 Axes>"
      ]
     },
     "metadata": {},
     "output_type": "display_data"
    }
   ],
   "source": [
    "plt.figure()\n",
    "for i in range(4):\n",
    "    plt.plot(phiExt/2/np.pi,HamilEig[i,:].real/GHz,'.',\\\n",
    "            markersize = 8)\n",
    "plt.xlabel(\"$\\Phi_{ext}/\\Phi_0$\")\n",
    "plt.ylabel(\"($\\omega_i$)GHz\")\n",
    "plt.savefig(\"fig2\")"
   ]
  },
  {
   "cell_type": "code",
   "execution_count": 12,
   "metadata": {},
   "outputs": [
    {
     "name": "stdout",
     "output_type": "stream",
     "text": [
      "[-1.82892518 -1.82892518]\n"
     ]
    }
   ],
   "source": [
    "for i in range(1):\n",
    "    print(HamilEig[i,:].real/(JJ[1]/2))"
   ]
  },
  {
   "cell_type": "code",
   "execution_count": 13,
   "metadata": {
    "scrolled": true
   },
   "outputs": [
    {
     "data": {
      "image/png": "[encoded data removed]",
      "text/plain": [
       "<Figure size 460.8x403.2 with 1 Axes>"
      ]
     },
     "metadata": {},
     "output_type": "display_data"
    }
   ],
   "source": [
    "plt.figure()\n",
    "for i in range(1):\n",
    "    plt.plot(phiExt/2/np.pi,HamilEig[i,:].real/(JJ[1]/2),'.',\\\n",
    "            markersize = 8) \n",
    "plt.xlabel(\"$\\Phi_{ext}/\\Phi_0$\")\n",
    "plt.ylabel(\"($\\omega_i$)GHz\")\n",
    "plt.savefig(\"fig2\")"
   ]
  },
  {
   "cell_type": "code",
   "execution_count": 16,
   "metadata": {},
   "outputs": [],
   "source": [
    "H,H12,H22, H33 = Hamil(phiVar = 0, phiFix =0)"
   ]
  },
  {
   "cell_type": "code",
   "execution_count": 17,
   "metadata": {},
   "outputs": [
    {
     "name": "stdout",
     "output_type": "stream",
     "text": [
      "4212499319.8583302\n"
     ]
    }
   ],
   "source": [
    "eigenValues , eigenVectors =  H.eigenstates();\n",
    "print(eigenValues[1])"
   ]
  },
  {
   "cell_type": "code",
   "execution_count": 18,
   "metadata": {},
   "outputs": [],
   "source": [
    "eigenValues12 , eigenVectors =  H12.eigenstates();\n",
    "eigenValues22 , eigenVectors =  H22.eigenstates();\n",
    "eigenValues33 , eigenVectors =  H33.eigenstates();"
   ]
  },
  {
   "cell_type": "code",
   "execution_count": 19,
   "metadata": {},
   "outputs": [
    {
     "name": "stdout",
     "output_type": "stream",
     "text": [
      "-9.801544142768453e-08 -11349200094.386137 -1.1655781139073322e-08\n"
     ]
    }
   ],
   "source": [
    "print(eigenValues12[1],eigenValues22[1],eigenValues33[1])"
   ]
  },
  {
   "cell_type": "code",
   "execution_count": 20,
   "metadata": {},
   "outputs": [
    {
     "ename": "ValueError",
     "evalue": "too many values to unpack (expected 2)",
     "output_type": "error",
     "traceback": [
      "\u001b[0;31m---------------------------------------------------------------------------\u001b[0m",
      "\u001b[0;31mValueError\u001b[0m                                Traceback (most recent call last)",
      "\u001b[0;32m<ipython-input-20-64716e5d9ec4>\u001b[0m in \u001b[0;36m<module>\u001b[0;34m\u001b[0m\n\u001b[0;32m----> 1\u001b[0;31m \u001b[0mH1\u001b[0m\u001b[0;34m,\u001b[0m\u001b[0m_\u001b[0m \u001b[0;34m=\u001b[0m \u001b[0mHamil\u001b[0m\u001b[0;34m(\u001b[0m\u001b[0mphiVar\u001b[0m \u001b[0;34m=\u001b[0m \u001b[0;36m0\u001b[0m\u001b[0;34m,\u001b[0m \u001b[0mphiFix\u001b[0m \u001b[0;34m=\u001b[0m\u001b[0;36m0\u001b[0m\u001b[0;34m)\u001b[0m\u001b[0;34m\u001b[0m\u001b[0;34m\u001b[0m\u001b[0m\n\u001b[0m\u001b[1;32m      2\u001b[0m \u001b[0mH2\u001b[0m\u001b[0;34m,\u001b[0m\u001b[0m_\u001b[0m \u001b[0;34m=\u001b[0m \u001b[0mHamil\u001b[0m\u001b[0;34m(\u001b[0m\u001b[0mphiVar\u001b[0m \u001b[0;34m=\u001b[0m \u001b[0;36m0\u001b[0m\u001b[0;34m,\u001b[0m \u001b[0mphiFix\u001b[0m \u001b[0;34m=\u001b[0m\u001b[0;36m0.5\u001b[0m\u001b[0;34m)\u001b[0m\u001b[0;34m\u001b[0m\u001b[0;34m\u001b[0m\u001b[0m\n",
      "\u001b[0;31mValueError\u001b[0m: too many values to unpack (expected 2)"
     ]
    }
   ],
   "source": [
    "H1,_ = Hamil(phiVar = 0, phiFix =0)\n",
    "H2,_ = Hamil(phiVar = 0, phiFix =0.5)"
   ]
  },
  {
   "cell_type": "code",
   "execution_count": null,
   "metadata": {},
   "outputs": [],
   "source": [
    "np.min(H.full())"
   ]
  },
  {
   "cell_type": "code",
   "execution_count": null,
   "metadata": {},
   "outputs": [],
   "source": [
    "eigenValues1 , eigenVectors =  (H1).eigenstates();\n",
    "eigenValues2 , eigenVectors =  (H2).eigenstates();\n",
    "print(eigenValues1[1],eigenValues2[1])"
   ]
  },
  {
   "cell_type": "code",
   "execution_count": null,
   "metadata": {},
   "outputs": [],
   "source": [
    "r = 185*np.pi*1e9\n",
    "eigenValues1 , eigenVectors =  (r*H1).eigenstates();\n",
    "eigenValues2 , eigenVectors =  (r*H2).eigenstates();\n",
    "print(eigenValues1[1]/r,eigenValues2[1]/r)"
   ]
  },
  {
   "cell_type": "code",
   "execution_count": null,
   "metadata": {},
   "outputs": [],
   "source": [
    "r = 185*np.pi*1e9\n",
    "eigenValues , eigenVectors =  (r*H2).eigenstates();\n",
    "print(eigenValues[9]/r)"
   ]
  },
  {
   "cell_type": "code",
   "execution_count": null,
   "metadata": {},
   "outputs": [],
   "source": [
    "for i in range(10):\n",
    "    print(HamilEig[i,0].real/GHz-HamilEig[0,0].real/GHz)"
   ]
  },
  {
   "cell_type": "code",
   "execution_count": null,
   "metadata": {
    "scrolled": false
   },
   "outputs": [],
   "source": [
    "plt.figure()\n",
    "for i in range(4):\n",
    "    plt.plot(phiExt/2/np.pi,HamilEig[i,:].real/GHz-np.min(HamilEig[0,:].real)/GHz,'.',\\\n",
    "            markersize = 8)\n",
    "plt.xlabel(\"$\\Phi_{ext}/\\Phi_0$\")\n",
    "plt.ylabel(\"($\\omega_i$)GHz\")\n",
    "plt.savefig(\"fig2\")"
   ]
  },
  {
   "cell_type": "markdown",
   "metadata": {},
   "source": [
    "## JJ part of the Hamiltonian\n",
    "In this part I want to study the $E_{J12}$ part of the Hamiltonian individually\n",
    "$$\n",
    "H_{J12} = -\\frac{E_{J12}}{2}\\left(D_{1}^{\\dagger}\\left(\\alpha_{1}\\right) D_{2}^{\\dagger}\\left(\\alpha_{2}\\right)+\\mathrm{h.c.}\\right)\n",
    "$$\n"
   ]
  },
  {
   "cell_type": "code",
   "execution_count": 109,
   "metadata": {},
   "outputs": [],
   "source": [
    "R = np.array([[1,0,1],[0,1,1],[1,1,1]])\n",
    "RInv = np.linalg.inv(R)\n",
    "Cx = cr1.giveMatC()\n",
    "Lx = cr1.giveMatL()\n",
    "lRotated = R @ Lx @ R \n",
    "cInvRotated = RInv @ np.linalg.inv(Cx) @ RInv\n",
    "Z1 = np.sqrt(cInvRotated[0,0]/lRotated[0,0])\n",
    "Z2 = np.sqrt(cInvRotated[1,1]/lRotated[1,1])\n",
    "alpha1 = 1j*2*np.pi/Phi0*np.sqrt(hbar*Z1/2)\n",
    "alpha2 = 1j*2*np.pi/Phi0*np.sqrt(hbar*Z2/2)\n",
    "phi = 0\n",
    "\n",
    "def Hamil_JJ12(m):\n",
    "    print(m)\n",
    "    H = -JJ[4]/2*np.exp(1j*phi)*q.tensor(q.displace(m[0],alpha1),q.displace(m[1],-alpha2),q.qeye(m[2]))\n",
    "    H = H + H.dag()\n",
    "    print(JJ[4])\n",
    "    return H\n",
    "\n",
    "def eigH_JJ12(m,j):\n",
    "    numEig=3\n",
    "    HamilEig = np.zeros((numEig,len(m[j])),dtype='complex');\n",
    "    for i0 in range(len(m[j])):\n",
    "        mList= [];\n",
    "        for i1 in range(len(m)):\n",
    "            if(i1==j):\n",
    "                mList.append(int(m[i1][i0])) \n",
    "            else:\n",
    "                mList.append(m[i1])\n",
    "        H = Hamil_JJ12(mList)\n",
    "        eigenValues , eigenVectors = H.eigenstates();\n",
    "        HamilEig[:,i0] = eigenValues[0:numEig]\n",
    "    return HamilEig"
   ]
  },
  {
   "cell_type": "code",
   "execution_count": 137,
   "metadata": {
    "scrolled": true
   },
   "outputs": [
    {
     "name": "stdout",
     "output_type": "stream",
     "text": [
      "[8, 17, 21]\n",
      "[9, 17, 21]\n",
      "[10, 17, 21]\n",
      "[11, 17, 21]\n",
      "[12, 17, 21]\n",
      "[13, 17, 21]\n",
      "[14, 17, 21]\n",
      "[15, 17, 21]\n",
      "[16, 17, 21]\n",
      "[17, 17, 21]\n",
      "[18, 17, 21]\n",
      "[19, 17, 21]\n"
     ]
    }
   ],
   "source": [
    "m = [np.linspace(8,19,12),17,21]\n",
    "HamilEig = eigH_JJ12(m,0)"
   ]
  },
  {
   "cell_type": "code",
   "execution_count": 138,
   "metadata": {
    "scrolled": false
   },
   "outputs": [
    {
     "data": {
      "text/plain": [
       "Text(0, 0.5, '($\\\\omega_i$)GHz')"
      ]
     },
     "execution_count": 138,
     "metadata": {},
     "output_type": "execute_result"
    },
    {
     "data": {
      "image/png": "[encoded data removed]",
      "text/plain": [
       "<Figure size 460.8x403.2 with 1 Axes>"
      ]
     },
     "metadata": {},
     "output_type": "display_data"
    }
   ],
   "source": [
    "plt.figure()\n",
    "for i in range(3):\n",
    "    plt.plot(m[0],(HamilEig[i,:]-HamilEig[0,:]).real/GHz,'.',markersize=9)\n",
    "plt.xlabel(\"number of FuckState\")\n",
    "plt.ylabel(\"($\\omega_i$)GHz\")"
   ]
  },
  {
   "cell_type": "code",
   "execution_count": 83,
   "metadata": {},
   "outputs": [
    {
     "name": "stdout",
     "output_type": "stream",
     "text": [
      "[10, 10, 10]\n",
      "9801769079200.154\n"
     ]
    }
   ],
   "source": [
    "H = Hamil_JJ12([10,10,10])\n",
    "I0, J0 = H.data.shape\n",
    "x = np.zeros(H.data.shape, dtype= \"complex\")\n",
    "for i in range(I0):\n",
    "    x[i,i] = H.data[i,i]\n",
    "# eigVal , eigState = np.linalg.eig(x)\n",
    "# print(eigVal)\n",
    "eigVal , eigState = H.eigenstates()\n",
    "# print(eigVal)"
   ]
  },
  {
   "cell_type": "code",
   "execution_count": 49,
   "metadata": {},
   "outputs": [],
   "source": [
    "def Hnew(phi):\n",
    "    m = 11\n",
    "    H = np.exp(1j*phi)*0.5*cr1.chargeDisp(m)\n",
    "    H = H +H.dag()\n",
    "    return H"
   ]
  },
  {
   "cell_type": "code",
   "execution_count": 50,
   "metadata": {},
   "outputs": [],
   "source": [
    "phiList = np.linspace(0,4*np.pi,100);\n",
    "HamilEig = np.zeros((m,len(phiList)),dtype='complex');\n",
    "\n",
    "for i , phi in enumerate(phiList):\n",
    "    H = Hnew(phi)\n",
    "    eigenValues , eigenVectors = H.eigenstates();\n",
    "    HamilEig[:,i] = eigenValues\n",
    "    "
   ]
  },
  {
   "cell_type": "code",
   "execution_count": 51,
   "metadata": {},
   "outputs": [
    {
     "data": {
      "text/plain": [
       "Text(0, 0.5, '($\\\\omega_i$)GHz')"
      ]
     },
     "execution_count": 51,
     "metadata": {},
     "output_type": "execute_result"
    },
    {
     "data": {
      "image/png": "[encoded data removed]",
      "text/plain": [
       "<Figure size 460.8x403.2 with 1 Axes>"
      ]
     },
     "metadata": {},
     "output_type": "display_data"
    }
   ],
   "source": [
    "plt.figure()\n",
    "for i in range(5):\n",
    "    plt.plot(phiList/2/np.pi,HamilEig[i,:].real,'.',markersize = 8)\n",
    "plt.xlabel(\"$\\Phi_{ext}/\\Phi_0$\")\n",
    "plt.ylabel(\"($\\omega_i$)GHz\")\n",
    "# plt.savefig(\"fig2\")"
   ]
  },
  {
   "cell_type": "code",
   "execution_count": null,
   "metadata": {},
   "outputs": [],
   "source": []
  }
 ],
 "metadata": {
  "kernelspec": {
   "display_name": "Python 3",
   "language": "python",
   "name": "python3"
  },
  "language_info": {
   "codemirror_mode": {
    "name": "ipython",
    "version": 3
   },
   "file_extension": ".py",
   "mimetype": "text/x-python",
   "name": "python",
   "nbconvert_exporter": "python",
   "pygments_lexer": "ipython3",
   "version": "3.7.5"
  }
 },
 "nbformat": 4,
 "nbformat_minor": 2
}
