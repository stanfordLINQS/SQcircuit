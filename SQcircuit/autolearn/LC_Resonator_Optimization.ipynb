{
  "nbformat": 4,
  "nbformat_minor": 0,
  "metadata": {
    "colab": {
      "name": "LC Resonator Optimization.ipynb",
      "provenance": []
    },
    "kernelspec": {
      "name": "python3",
      "display_name": "Python 3"
    },
    "language_info": {
      "name": "python"
    }
  },
  "cells": [
    {
      "cell_type": "code",
      "execution_count": 102,
      "metadata": {
        "colab": {
          "base_uri": "https://localhost:8080/"
        },
        "id": "yQeviN3gzvRK",
        "outputId": "3e7a4458-c8cd-4e68-e40a-6a5ed407ce60"
      },
      "outputs": [
        {
          "output_type": "stream",
          "name": "stdout",
          "text": [
            "Looking in indexes: https://pypi.org/simple, https://us-python.pkg.dev/colab-wheels/public/simple/\n",
            "Collecting git+https://github.com/stanfordLINQS/SQcircuit.git@dev-ab\n",
            "  Cloning https://github.com/stanfordLINQS/SQcircuit.git (to revision dev-ab) to /tmp/pip-req-build-5k9mw8dx\n",
            "  Running command git clone -q https://github.com/stanfordLINQS/SQcircuit.git /tmp/pip-req-build-5k9mw8dx\n",
            "  Running command git checkout -b dev-ab --track origin/dev-ab\n",
            "  Switched to a new branch 'dev-ab'\n",
            "  Branch 'dev-ab' set up to track remote branch 'dev-ab' from 'origin'.\n",
            "Requirement already satisfied: numpy>=1.14.2 in /usr/local/lib/python3.7/dist-packages (from SQcircuit==0.0.14) (1.21.6)\n",
            "Requirement already satisfied: scipy>=1.1.0 in /usr/local/lib/python3.7/dist-packages (from SQcircuit==0.0.14) (1.7.3)\n",
            "Requirement already satisfied: matplotlib>=3.0.0 in /usr/local/lib/python3.7/dist-packages (from SQcircuit==0.0.14) (3.2.2)\n",
            "Requirement already satisfied: qutip>=4.3.1 in /usr/local/lib/python3.7/dist-packages (from SQcircuit==0.0.14) (4.7.0)\n",
            "Requirement already satisfied: dill>=0.3.4 in /usr/local/lib/python3.7/dist-packages (from SQcircuit==0.0.14) (0.3.5.1)\n",
            "Requirement already satisfied: IPython>=7.0.0 in /usr/local/lib/python3.7/dist-packages (from SQcircuit==0.0.14) (7.34.0)\n",
            "Requirement already satisfied: backcall in /usr/local/lib/python3.7/dist-packages (from IPython>=7.0.0->SQcircuit==0.0.14) (0.2.0)\n",
            "Requirement already satisfied: decorator in /usr/local/lib/python3.7/dist-packages (from IPython>=7.0.0->SQcircuit==0.0.14) (4.4.2)\n",
            "Requirement already satisfied: jedi>=0.16 in /usr/local/lib/python3.7/dist-packages (from IPython>=7.0.0->SQcircuit==0.0.14) (0.18.1)\n",
            "Requirement already satisfied: prompt-toolkit!=3.0.0,!=3.0.1,<3.1.0,>=2.0.0 in /usr/local/lib/python3.7/dist-packages (from IPython>=7.0.0->SQcircuit==0.0.14) (3.0.30)\n",
            "Requirement already satisfied: pygments in /usr/local/lib/python3.7/dist-packages (from IPython>=7.0.0->SQcircuit==0.0.14) (2.6.1)\n",
            "Requirement already satisfied: matplotlib-inline in /usr/local/lib/python3.7/dist-packages (from IPython>=7.0.0->SQcircuit==0.0.14) (0.1.3)\n",
            "Requirement already satisfied: pickleshare in /usr/local/lib/python3.7/dist-packages (from IPython>=7.0.0->SQcircuit==0.0.14) (0.7.5)\n",
            "Requirement already satisfied: pexpect>4.3 in /usr/local/lib/python3.7/dist-packages (from IPython>=7.0.0->SQcircuit==0.0.14) (4.8.0)\n",
            "Requirement already satisfied: setuptools>=18.5 in /usr/local/lib/python3.7/dist-packages (from IPython>=7.0.0->SQcircuit==0.0.14) (57.4.0)\n",
            "Requirement already satisfied: traitlets>=4.2 in /usr/local/lib/python3.7/dist-packages (from IPython>=7.0.0->SQcircuit==0.0.14) (5.1.1)\n",
            "Requirement already satisfied: parso<0.9.0,>=0.8.0 in /usr/local/lib/python3.7/dist-packages (from jedi>=0.16->IPython>=7.0.0->SQcircuit==0.0.14) (0.8.3)\n",
            "Requirement already satisfied: cycler>=0.10 in /usr/local/lib/python3.7/dist-packages (from matplotlib>=3.0.0->SQcircuit==0.0.14) (0.11.0)\n",
            "Requirement already satisfied: pyparsing!=2.0.4,!=2.1.2,!=2.1.6,>=2.0.1 in /usr/local/lib/python3.7/dist-packages (from matplotlib>=3.0.0->SQcircuit==0.0.14) (3.0.9)\n",
            "Requirement already satisfied: python-dateutil>=2.1 in /usr/local/lib/python3.7/dist-packages (from matplotlib>=3.0.0->SQcircuit==0.0.14) (2.8.2)\n",
            "Requirement already satisfied: kiwisolver>=1.0.1 in /usr/local/lib/python3.7/dist-packages (from matplotlib>=3.0.0->SQcircuit==0.0.14) (1.4.3)\n",
            "Requirement already satisfied: typing-extensions in /usr/local/lib/python3.7/dist-packages (from kiwisolver>=1.0.1->matplotlib>=3.0.0->SQcircuit==0.0.14) (4.1.1)\n",
            "Requirement already satisfied: ptyprocess>=0.5 in /usr/local/lib/python3.7/dist-packages (from pexpect>4.3->IPython>=7.0.0->SQcircuit==0.0.14) (0.7.0)\n",
            "Requirement already satisfied: wcwidth in /usr/local/lib/python3.7/dist-packages (from prompt-toolkit!=3.0.0,!=3.0.1,<3.1.0,>=2.0.0->IPython>=7.0.0->SQcircuit==0.0.14) (0.2.5)\n",
            "Requirement already satisfied: six>=1.5 in /usr/local/lib/python3.7/dist-packages (from python-dateutil>=2.1->matplotlib>=3.0.0->SQcircuit==0.0.14) (1.15.0)\n",
            "Requirement already satisfied: packaging in /usr/local/lib/python3.7/dist-packages (from qutip>=4.3.1->SQcircuit==0.0.14) (21.3)\n"
          ]
        }
      ],
      "source": [
        "!pip install git+https://github.com/stanfordLINQS/SQcircuit.git@dev-ab"
      ]
    },
    {
      "cell_type": "code",
      "source": [
        "import SQcircuit as sq\n",
        "import matplotlib.pyplot as plt\n",
        "import numpy as np\n",
        "from matplotlib.colors import LinearSegmentedColormap"
      ],
      "metadata": {
        "id": "142SvHan18ab"
      },
      "execution_count": 134,
      "outputs": []
    },
    {
      "cell_type": "code",
      "source": [
        "loop1 = sq.Loop()"
      ],
      "metadata": {
        "id": "SANMYhkS2iBz"
      },
      "execution_count": 135,
      "outputs": []
    },
    {
      "cell_type": "code",
      "source": [
        "# define the circuit elements\n",
        "# C = sq.Capacitor(5, 'GHz', Q=1e6)\n",
        "# L = sq.Inductor(2, 'GHz', loops = [loop1])\n",
        "C = sq.Capacitor(7.746, 'pF', Q=1e6)\n",
        "L = sq.Inductor(81.67, 'uH', loops = [loop1])\n",
        "\n",
        "# define the circuit\n",
        "elements = {\n",
        "    (0, 1): [C, L],\n",
        "}\n",
        "\n",
        "cr = sq.Circuit(elements)"
      ],
      "metadata": {
        "id": "ADK9V46a2pYt"
      },
      "execution_count": 141,
      "outputs": []
    },
    {
      "cell_type": "code",
      "source": [
        "cr.description()"
      ],
      "metadata": {
        "colab": {
          "base_uri": "https://localhost:8080/"
        },
        "id": "dWZ9SzdX2rDu",
        "outputId": "ec8edcac-bf1e-4ef6-db98-aacc2d732b28"
      },
      "execution_count": 142,
      "outputs": [
        {
          "output_type": "stream",
          "name": "stdout",
          "text": [
            "H = ω_1ad_1a_1 + EL_1(2265563510.186φ_1)(φ_e1) \n",
            "------------------------------------------------------------\n",
            "mode 1:       harmonic       φ_1 = zp_1(a_1+ad_1)       ω_1/2π = 0.00633       zp_1 = 5.55e-10\n",
            "------------------------------------------------------------\n",
            "parameters:       EL_1 = 0.002       \n",
            "loops:            φ_e1/2π = 0.0       \n"
          ]
        }
      ]
    },
    {
      "cell_type": "code",
      "source": [
        "cr.set_trunc_nums([10,])\n",
        "cr.diag(2)"
      ],
      "metadata": {
        "colab": {
          "base_uri": "https://localhost:8080/"
        },
        "id": "2-RKJsZswg0r",
        "outputId": "684a5b8e-3e2f-4dc2-ed2b-c160e8f6d387"
      },
      "execution_count": 143,
      "outputs": [
        {
          "output_type": "execute_result",
          "data": {
            "text/plain": [
              "(array([-2.98805608e-17,  6.32776158e-03]),\n",
              " [Quantum object: dims = [[10], [1]], shape = (10, 1), type = ket\n",
              "  Qobj data =\n",
              "  [[ 7.35401504e-01+6.77631631e-01j]\n",
              "   [-8.32667268e-17-5.55111512e-17j]\n",
              "   [-2.77555756e-16-6.93889390e-18j]\n",
              "   [-2.77555756e-16-1.94289029e-16j]\n",
              "   [ 1.11022302e-16+1.38777878e-16j]\n",
              "   [ 5.55111512e-17-1.66533454e-16j]\n",
              "   [-2.77555756e-17+5.55111512e-17j]\n",
              "   [-2.77555756e-17-2.77555756e-17j]\n",
              "   [ 1.04083409e-17+1.11022302e-16j]\n",
              "   [-5.55111512e-17+1.11022302e-16j]],\n",
              "  Quantum object: dims = [[10], [1]], shape = (10, 1), type = ket\n",
              "  Qobj data =\n",
              "  [[ 1.34186372e-16+5.42040893e-16j]\n",
              "   [ 6.61144442e-02+9.97812047e-01j]\n",
              "   [-3.19189120e-16-1.66533454e-16j]\n",
              "   [ 3.98986399e-17+4.33680869e-17j]\n",
              "   [-4.16333634e-17+2.08166817e-17j]\n",
              "   [ 1.24900090e-16-2.49800181e-16j]\n",
              "   [ 5.55111512e-17-5.55111512e-17j]\n",
              "   [ 1.66533454e-16-8.32667268e-17j]\n",
              "   [-8.32667268e-17+4.99600361e-16j]\n",
              "   [-2.22044605e-16+2.22044605e-16j]]])"
            ]
          },
          "metadata": {},
          "execution_count": 143
        }
      ]
    },
    {
      "cell_type": "code",
      "source": [
        "cr._efreqs\n",
        "print(f\"Fundamental resonant frequency: {cr._efreqs[1] - cr._efreqs[0]} Hz\")"
      ],
      "metadata": {
        "colab": {
          "base_uri": "https://localhost:8080/"
        },
        "id": "o-Os9gh4uSya",
        "outputId": "735c4b08-dcd5-4584-f6de-9f9ab336aabf"
      },
      "execution_count": 130,
      "outputs": [
        {
          "output_type": "stream",
          "name": "stdout",
          "text": [
            "Fundamental resonant frequency: 39758498.58406887 Hz\n"
          ]
        }
      ]
    },
    {
      "cell_type": "code",
      "source": [
        "cr._evecs"
      ],
      "metadata": {
        "colab": {
          "base_uri": "https://localhost:8080/"
        },
        "id": "KCsARvWD3d8w",
        "outputId": "f551173d-7a52-4829-e878-ffa7b096ff3b"
      },
      "execution_count": 131,
      "outputs": [
        {
          "output_type": "execute_result",
          "data": {
            "text/plain": [
              "[Quantum object: dims = [[10], [1]], shape = (10, 1), type = ket\n",
              " Qobj data =\n",
              " [[-2.45603957e-01-9.69370258e-01j]\n",
              "  [ 7.77156117e-16+3.98986399e-17j]\n",
              "  [-3.88578059e-16-3.33066907e-16j]\n",
              "  [-7.80625564e-18+3.33066907e-16j]\n",
              "  [ 5.55111512e-17+1.38777878e-17j]\n",
              "  [ 0.00000000e+00-5.55111512e-17j]\n",
              "  [ 2.77555756e-17-3.46944695e-18j]\n",
              "  [ 5.55111512e-17+0.00000000e+00j]\n",
              "  [ 2.77555756e-16+5.55111512e-17j]\n",
              "  [-5.55111512e-17+2.77555756e-17j]],\n",
              " Quantum object: dims = [[10], [1]], shape = (10, 1), type = ket\n",
              " Qobj data =\n",
              " [[ 5.38675592e-16-1.53622782e-16j]\n",
              "  [-7.72467852e-02-9.97012003e-01j]\n",
              "  [ 4.99600361e-16-7.07767178e-16j]\n",
              "  [ 8.71698547e-17-2.07270211e-32j]\n",
              "  [ 8.23993651e-17-1.18828558e-16j]\n",
              "  [-3.29597460e-16-1.38777878e-17j]\n",
              "  [-2.87524253e-33+2.25514052e-17j]\n",
              "  [-3.81702691e-33-1.11022302e-16j]\n",
              "  [-3.61746937e-33-1.66533454e-16j]\n",
              "  [ 1.15508595e-32+1.35591517e-32j]]]"
            ]
          },
          "metadata": {},
          "execution_count": 131
        }
      ]
    },
    {
      "cell_type": "code",
      "source": [
        "res_grad_C = cr._get_partial_omega(C, 1, subtract_ground = True)\n",
        "partial_H = cr._get_partial_H(C, None)\n",
        "e_0, e_1 = cr._evecs[0], cr._evecs[1]\n",
        "a = e_0.dag() * (partial_H * e_0)\n",
        "b = e_1.dag() * (partial_H * e_1)\n",
        "print(res_grad_C)\n",
        "print((b - a).data[0, 0].real)\n",
        "print(a, b)\n",
        "print(C.value())"
      ],
      "metadata": {
        "colab": {
          "base_uri": "https://localhost:8080/"
        },
        "id": "zM2XFVy524Wq",
        "outputId": "5a511736-78ef-49f0-a9cc-1bf52c450013"
      },
      "execution_count": 144,
      "outputs": [
        {
          "output_type": "stream",
          "name": "stdout",
          "text": [
            "-2.5663890093429473e+18\n",
            "-2.5663890093429473e+18\n",
            "Quantum object: dims = [[1], [1]], shape = (1, 1), type = bra\n",
            "Qobj data =\n",
            "[[-1.2831945e+18+51.94836587j]] Quantum object: dims = [[1], [1]], shape = (1, 1), type = bra\n",
            "Qobj data =\n",
            "[[-3.84958351e+18-11.87838961j]]\n",
            "7.746e-12\n"
          ]
        }
      ]
    },
    {
      "cell_type": "code",
      "source": [
        "omega_target = 20e6 # 20 MHz\n",
        "learning_rate = 10**(-2.8)\n",
        "for step in range(100):\n",
        "  cr.set_trunc_nums([10,])\n",
        "  cr.diag(2)\n",
        "  omega = cr._efreqs[1] - cr._efreqs[0]\n",
        "  print(f\"Resonant frequency: {omega}\")\n",
        "  ## Backprop C\n",
        "  C_grad_omega = cr._get_partial_omega(C, 1, subtract_ground = True) * 1.0545718e-34\n",
        "  C_grad = C_grad_omega * 2 * (omega - omega_target)\n",
        "  new_C_value = C.cValue * 1e-12 - C_grad * learning_rate\n",
        "  print(f\"C grad: {C_grad}\")\n",
        "  print(f\"C value: {C.value()} -> {new_C_value}\")\n",
        "\n",
        "  ## Backprop L\n",
        "  # print(f\"L grad: {cr._get_partial_omega(L, 1, subtract_ground = True)}\")\n",
        "  # print(f\"L: {(cr._memory_ops['ind_hamil'][(L, 0)] / L.value()**2) / np.sqrt(1.0545718e-34)}\")\n",
        "  '''L_grad_omega = cr._get_partial_omega(L, 1, subtract_ground = True)# * 1.0545718e-34\n",
        "  L_grad = L_grad_omega * 2 * (omega - omega_target)\n",
        "  new_L_value = L.lValue * 1e-6 - L_grad * learning_rate\n",
        "  print(f\"L grad: {L_grad}\")\n",
        "  print(f\"L value: {L.value()} -> {new_L_value}\")'''\n",
        "\n",
        "  C = sq.Capacitor(new_C_value * 1e12, 'pF', Q=1e6)\n",
        "  # L = sq.Inductor(new_L_value * 1e6, 'uH', loops = [loop1])\n",
        "\n",
        "  # define the circuit\n",
        "  elements = {\n",
        "      (0, 1): [C, L],\n",
        "  }\n",
        "\n",
        "  cr = sq.Circuit(elements)"
      ],
      "metadata": {
        "colab": {
          "base_uri": "https://localhost:8080/"
        },
        "id": "_moBbIWN3Zur",
        "outputId": "913f8a10-5ab4-4703-9ba9-d7a323237ffa"
      },
      "execution_count": 145,
      "outputs": [
        {
          "output_type": "stream",
          "name": "stdout",
          "text": [
            "Resonant frequency: 39758498.5840689\n",
            "C grad: -1.0695044018561999e-08\n",
            "C value: 7.746e-12 -> 2.4696502458090868e-11\n",
            "Resonant frequency: 22266450.722458966\n",
            "C grad: -2.154953871179479e-10\n",
            "C value: 2.4696502458090868e-11 -> 2.5038039630140876e-11\n",
            "Resonant frequency: 22114063.93518558\n",
            "C grad: -1.969076138842785e-10\n",
            "C value: 2.5038039630140876e-11 -> 2.535011716692983e-11\n",
            "Resonant frequency: 21977522.666694075\n",
            "C grad: -1.8079915212113767e-10\n",
            "C value: 2.535011716692983e-11 -> 2.5636664512329365e-11\n",
            "Resonant frequency: 21854353.420713995\n",
            "C grad: -1.6670364863430796e-10\n",
            "C value: 2.5636664512329365e-11 -> 2.590087199020831e-11\n",
            "Resonant frequency: 21742602.663218707\n",
            "C grad: -1.5426651584935772e-10\n",
            "C value: 2.590087199020831e-11 -> 2.614536794100265e-11\n",
            "Resonant frequency: 21640701.922328427\n",
            "C grad: -1.43212994512366e-10\n",
            "C value: 2.614536794100265e-11 -> 2.637234524107727e-11\n",
            "Resonant frequency: 21547373.804985404\n",
            "C grad: -1.333266563106862e-10\n",
            "C value: 2.6372345241077267e-11 -> 2.6583653751037677e-11\n",
            "Resonant frequency: 21461564.91551364\n",
            "C grad: -1.2443454886332204e-10\n",
            "C value: 2.6583653751037677e-11 -> 2.6780869220438125e-11\n",
            "Resonant frequency: 21382396.954967014\n",
            "C grad: -1.1639669291382552e-10\n",
            "C value: 2.6780869220438122e-11 -> 2.696534554666223e-11\n",
            "Resonant frequency: 21309130.406284932\n",
            "C grad: -1.0909850538733342e-10\n",
            "C value: 2.696534554666223e-11 -> 2.7138255025158298e-11\n",
            "Resonant frequency: 21241137.118650336\n",
            "C grad: -1.0244523453034016e-10\n",
            "C value: 2.7138255025158298e-11 -> 2.7300619779965515e-11\n",
            "Resonant frequency: 21177879.303906344\n",
            "C grad: -9.635780691973327e-11\n",
            "C value: 2.7300619779965515e-11 -> 2.745333661219308e-11\n",
            "Resonant frequency: 21118893.231475443\n",
            "C grad: -9.07696832240642e-11\n",
            "C value: 2.7453336612193078e-11 -> 2.759719686521675e-11\n",
            "Resonant frequency: 21063776.418758754\n",
            "C grad: -8.562444651720685e-11\n",
            "C value: 2.759719686521675e-11 -> 2.773290246761012e-11\n",
            "Resonant frequency: 21012177.457967028\n",
            "C grad: -8.087393046565684e-11\n",
            "C value: 2.773290246761012e-11 -> 2.7861079009452714e-11\n",
            "Resonant frequency: 20963787.85643365\n",
            "C grad: -7.647675076124633e-11\n",
            "C value: 2.7861079009452714e-11 -> 2.798228649111576e-11\n",
            "Resonant frequency: 20918335.43230035\n",
            "C grad: -7.239714146402651e-11\n",
            "C value: 2.798228649111576e-11 -> 2.8097028227775738e-11\n",
            "Resonant frequency: 20875578.924340434\n",
            "C grad: -6.860402450969626e-11\n",
            "C value: 2.8097028227775738e-11 -> 2.820575827919659e-11\n",
            "Resonant frequency: 20835303.558720227\n",
            "C grad: -6.507025937551008e-11\n",
            "C value: 2.820575827919659e-11 -> 2.8308887690312518e-11\n",
            "Resonant frequency: 20797317.376736004\n",
            "C grad: -6.177203328961321e-11\n",
            "C value: 2.8308887690312518e-11 -> 2.8406789765357705e-11\n",
            "Resonant frequency: 20761448.17270267\n",
            "C grad: -5.868836205790637e-11\n",
            "C value: 2.8406789765357702e-11 -> 2.849980455085997e-11\n",
            "Resonant frequency: 20727540.92483305\n",
            "C grad: -5.580067867718648e-11\n",
            "C value: 2.849980455085997e-11 -> 2.8588242666630153e-11\n",
            "Resonant frequency: 20695455.6272988\n",
            "C grad: -5.3092492154140466e-11\n",
            "C value: 2.858824266663015e-11 -> 2.8672388596016042e-11\n",
            "Resonant frequency: 20665065.450950798\n",
            "C grad: -5.054910287627146e-11\n",
            "C value: 2.8672388596016042e-11 -> 2.875250352504966e-11\n",
            "Resonant frequency: 20636255.17497426\n",
            "C grad: -4.815736384437652e-11\n",
            "C value: 2.875250352504966e-11 -> 2.8828827803173486e-11\n",
            "Resonant frequency: 20608919.84320629\n",
            "C grad: -4.590547933317977e-11\n",
            "C value: 2.8828827803173486e-11 -> 2.8901583084865307e-11\n",
            "Resonant frequency: 20582963.60777753\n",
            "C grad: -4.378283427992965e-11\n",
            "C value: 2.8901583084865307e-11 -> 2.897097420086222e-11\n",
            "Resonant frequency: 20558298.729758333\n",
            "C grad: -4.17798490420599e-11\n",
            "C value: 2.8970974200862218e-11 -> 2.903719079919103e-11\n",
            "Resonant frequency: 20534844.71204532\n",
            "C grad: -3.988785521085176e-11\n",
            "C value: 2.903719079919103e-11 -> 2.9100408789376586e-11\n",
            "Resonant frequency: 20512527.54414559\n",
            "C grad: -3.809898898886414e-11\n",
            "C value: 2.9100408789376586e-11 -> 2.9160791617664685e-11\n",
            "Resonant frequency: 20491279.04206381\n",
            "C grad: -3.640609928785815e-11\n",
            "C value: 2.9160791617664685e-11 -> 2.9218491396590076e-11\n",
            "Resonant frequency: 20471036.2693531\n",
            "C grad: -3.4802668219664495e-11\n",
            "C value: 2.9218491396590076e-11 -> 2.9273649908530904e-11\n",
            "Resonant frequency: 20451741.027711395\n",
            "C grad: -3.328274206534987e-11\n",
            "C value: 2.9273649908530904e-11 -> 2.932639949985671e-11\n",
            "Resonant frequency: 20433339.40738678\n",
            "C grad: -3.1840871139476935e-11\n",
            "C value: 2.932639949985671e-11 -> 2.93768638797677e-11\n",
            "Resonant frequency: 20415781.38920887\n",
            "C grad: -3.0472057235157145e-11\n",
            "C value: 2.93768638797677e-11 -> 2.9425158835839984e-11\n",
            "Resonant frequency: 20399020.491329573\n",
            "C grad: -2.9171707553238586e-11\n",
            "C value: 2.9425158835839984e-11 -> 2.947139287655358e-11\n",
            "Resonant frequency: 20383013.454815004\n",
            "C grad: -2.7935594197563135e-11\n",
            "C value: 2.947139287655358e-11 -> 2.951566780962465e-11\n",
            "Resonant frequency: 20367719.96309672\n",
            "C grad: -2.6759818463836822e-11\n",
            "C value: 2.951566780962465e-11 -> 2.9558079263739483e-11\n",
            "Resonant frequency: 20353102.391025245\n",
            "C grad: -2.5640779270543386e-11\n",
            "C value: 2.9558079263739483e-11 -> 2.959871716025476e-11\n",
            "Resonant frequency: 20339125.579874676\n",
            "C grad: -2.457514517969888e-11\n",
            "C value: 2.959871716025476e-11 -> 2.963766614055381e-11\n",
            "Resonant frequency: 20325756.635159772\n",
            "C grad: -2.35598295380546e-11\n",
            "C value: 2.963766614055381e-11 -> 2.9675005954004215e-11\n",
            "Resonant frequency: 20312964.744561832\n",
            "C grad: -2.259196833861014e-11\n",
            "C value: 2.9675005954004215e-11 -> 2.971081181082837e-11\n",
            "Resonant frequency: 20300721.013619192\n",
            "C grad: -2.166890045966213e-11\n",
            "C value: 2.971081181082837e-11 -> 2.9745154703655006e-11\n",
            "Resonant frequency: 20288998.317156944\n",
            "C grad: -2.0788149987773267e-11\n",
            "C value: 2.9745154703655006e-11 -> 2.9778101701054486e-11\n",
            "Resonant frequency: 20277771.164685145\n",
            "C grad: -1.994741037127135e-11\n",
            "C value: 2.9778101701054486e-11 -> 2.980971621595914e-11\n",
            "Resonant frequency: 20267015.578229833\n",
            "C grad: -1.9144530186165197e-11\n",
            "C value: 2.980971621595914e-11 -> 2.984005825152406e-11\n",
            "Resonant frequency: 20256708.981248602\n",
            "C grad: -1.8377500325280184e-11\n",
            "C value: 2.984005825152406e-11 -> 2.986918462668405e-11\n",
            "Resonant frequency: 20246830.097449068\n",
            "C grad: -1.7644442446425698e-11\n",
            "C value: 2.986918462668405e-11 -> 2.989714918340216e-11\n",
            "Resonant frequency: 20237358.858478528\n",
            "C grad: -1.6943598537198175e-11\n",
            "C value: 2.989714918340216e-11 -> 2.992400297737956e-11\n",
            "Resonant frequency: 20228276.31956568\n",
            "C grad: -1.627332147146877e-11\n",
            "C value: 2.992400297737956e-11 -> 2.994979445379842e-11\n",
            "Resonant frequency: 20219564.582314894\n",
            "C grad: -1.5632066449143268e-11\n",
            "C value: 2.994979445379842e-11 -> 2.997456960949777e-11\n",
            "Resonant frequency: 20211206.72393556\n",
            "C grad: -1.501838322346156e-11\n",
            "C value: 2.997456960949777e-11 -> 2.9998372142830404e-11\n",
            "Resonant frequency: 20203186.732279114\n",
            "C grad: -1.4430909032367263e-11\n",
            "C value: 2.9998372142830404e-11 -> 3.002124359231683e-11\n",
            "Resonant frequency: 20195489.44612156\n",
            "C grad: -1.3868362160129758e-11\n",
            "C value: 3.002124359231683e-11 -> 3.0043223465095004e-11\n",
            "Resonant frequency: 20188100.50019186\n",
            "C grad: -1.3329536064165183e-11\n",
            "C value: 3.0043223465095004e-11 -> 3.006434935606176e-11\n",
            "Resonant frequency: 20181006.27450474\n",
            "C grad: -1.2813294009843308e-11\n",
            "C value: 3.006434935606176e-11 -> 3.0084657058510964e-11\n",
            "Resonant frequency: 20174193.847597852\n",
            "C grad: -1.2318564162223153e-11\n",
            "C value: 3.0084657058510964e-11 -> 3.0104180666992564e-11\n",
            "Resonant frequency: 20167650.95332094\n",
            "C grad: -1.1844335089811889e-11\n",
            "C value: 3.0104180666992564e-11 -> 3.012295267304564e-11\n",
            "Resonant frequency: 20161365.94085726\n",
            "C grad: -1.1389651640168294e-11\n",
            "C value: 3.012295267304564e-11 -> 3.0141004054394644e-11\n",
            "Resonant frequency: 20155327.73769304\n",
            "C grad: -1.0953611151773975e-11\n",
            "C value: 3.0141004054394644e-11 -> 3.0158364358141955e-11\n",
            "Resonant frequency: 20149525.815277692\n",
            "C grad: -1.053535997033203e-11\n",
            "C value: 3.0158364358141955e-11 -> 3.0175061778439064e-11\n",
            "Resonant frequency: 20143950.15714526\n",
            "C grad: -1.0134090241197846e-11\n",
            "C value: 3.0175061778439064e-11 -> 3.019112322907412e-11\n",
            "Resonant frequency: 20138591.2292861\n",
            "C grad: -9.749036952347894e-12\n",
            "C value: 3.019112322907412e-11 -> 3.020657441137295e-11\n",
            "Resonant frequency: 20133439.952584963\n",
            "C grad: -9.379475205431478e-12\n",
            "C value: 3.020657441137295e-11 -> 3.02214398777749e-11\n",
            "Resonant frequency: 20128487.67715159\n",
            "C grad: -9.024717694208842e-12\n",
            "C value: 3.02214398777749e-11 -> 3.023574309141233e-11\n",
            "Resonant frequency: 20123726.15839165\n",
            "C grad: -8.684112372157585e-12\n",
            "C value: 3.023574309141233e-11 -> 3.0249506481993533e-11\n",
            "Resonant frequency: 20119147.534680817\n",
            "C grad: -8.357040292901834e-12\n",
            "C value: 3.0249506481993533e-11 -> 3.026275149826288e-11\n",
            "Resonant frequency: 20114744.30650853\n",
            "C grad: -8.042913608113248e-12\n",
            "C value: 3.026275149826288e-11 -> 3.027549865728793e-11\n",
            "Resonant frequency: 20110509.31698548\n",
            "C grad: -7.741173710105854e-12\n",
            "C value: 3.027549865728793e-11 -> 3.028776759080274e-11\n",
            "Resonant frequency: 20106435.733603608\n",
            "C grad: -7.451289506546828e-12\n",
            "C value: 3.028776759080274e-11 -> 3.029957708881672e-11\n",
            "Resonant frequency: 20102517.031152625\n",
            "C grad: -7.172755816277176e-12\n",
            "C value: 3.029957708881672e-11 -> 3.031094514068112e-11\n",
            "Resonant frequency: 20098746.975712728\n",
            "C grad: -6.905091876778062e-12\n",
            "C value: 3.031094514068112e-11 -> 3.0321888973789945e-11\n",
            "Resonant frequency: 20095119.609634772\n",
            "C grad: -6.64783995362782e-12\n",
            "C value: 3.0321888973789945e-11 -> 3.033242509007702e-11\n",
            "Resonant frequency: 20091629.23744413\n",
            "C grad: -6.400564044393155e-12\n",
            "C value: 3.033242509007702e-11 -> 3.034256930045889e-11\n",
            "Resonant frequency: 20088270.41259396\n",
            "C grad: -6.1628486689769524e-12\n",
            "C value: 3.034256930045889e-11 -> 3.0352336757360515e-11\n",
            "Resonant frequency: 20085037.925012376\n",
            "C grad: -5.934297740035314e-12\n",
            "C value: 3.0352336757360515e-11 -> 3.0361741985450736e-11\n",
            "Resonant frequency: 20081926.78938459\n",
            "C grad: -5.714533507090951e-12\n",
            "C value: 3.0361741985450736e-11 -> 3.0370798910704215e-11\n",
            "Resonant frequency: 20078932.234119467\n",
            "C grad: -5.503195568770862e-12\n",
            "C value: 3.0370798910704215e-11 -> 3.037952088789794e-11\n",
            "Resonant frequency: 20076049.690954223\n",
            "C grad: -5.299939948098853e-12\n",
            "C value: 3.037952088789794e-11 -> 3.0387920726642133e-11\n",
            "Resonant frequency: 20073274.785150774\n",
            "C grad: -5.104438225937996e-12\n",
            "C value: 3.0387920726642133e-11 -> 3.039601071603776e-11\n",
            "Resonant frequency: 20070603.326248474\n",
            "C grad: -4.916376728615357e-12\n",
            "C value: 3.039601071603776e-11 -> 3.040380264804652e-11\n",
            "Resonant frequency: 20068031.29933081\n",
            "C grad: -4.735455765409402e-12\n",
            "C value: 3.040380264804652e-11 -> 3.041130783965232e-11\n",
            "Resonant frequency: 20065554.856777698\n",
            "C grad: -4.56138891269055e-12\n",
            "C value: 3.041130783965232e-11 -> 3.041853715388821e-11\n",
            "Resonant frequency: 20063170.310465947\n",
            "C grad: -4.393902340982887e-12\n",
            "C value: 3.041853715388821e-11 -> 3.042550101979677e-11\n",
            "Resonant frequency: 20060874.124394324\n",
            "C grad: -4.232734182294748e-12\n",
            "C value: 3.042550101979677e-11 -> 3.043220945138779e-11\n",
            "Resonant frequency: 20058662.907703146\n",
            "C grad: -4.0776339346960275e-12\n",
            "C value: 3.043220945138779e-11 -> 3.0438672065652236e-11\n",
            "Resonant frequency: 20056533.408062875\n",
            "C grad: -3.928361901529075e-12\n",
            "C value: 3.0438672065652236e-11 -> 3.0444898099687494e-11\n",
            "Resonant frequency: 20054482.505412634\n",
            "C grad: -3.784688663161482e-12\n",
            "C value: 3.0444898099687494e-11 -> 3.045089642698532e-11\n",
            "Resonant frequency: 20052507.20602118\n",
            "C grad: -3.646394578674509e-12\n",
            "C value: 3.045089642698532e-11 -> 3.045667557293009e-11\n",
            "Resonant frequency: 20050604.63685769\n",
            "C grad: -3.513269315976257e-12\n",
            "C value: 3.045667557293009e-11 -> 3.0462243729552265e-11\n",
            "Resonant frequency: 20048772.040246133\n",
            "C grad: -3.385111407936819e-12\n",
            "C value: 3.0462243729552265e-11 -> 3.0467608769578425e-11\n",
            "Resonant frequency: 20047006.768792976\n",
            "C grad: -3.2617278333086783e-12\n",
            "C value: 3.0467608769578425e-11 -> 3.0472778259817095e-11\n",
            "Resonant frequency: 20045306.28056699\n",
            "C grad: -3.1429336204759132e-12\n",
            "C value: 3.0472778259817095e-11 -> 3.047775947391654e-11\n",
            "Resonant frequency: 20043668.134520248\n",
            "C grad: -3.028551472834213e-12\n",
            "C value: 3.047775947391654e-11 -> 3.048255940452886e-11\n",
            "Resonant frequency: 20042089.986133758\n",
            "C grad: -2.9184114142532116e-12\n",
            "C value: 3.048255940452886e-11 -> 3.048718477491211e-11\n",
            "Resonant frequency: 20040569.583275344\n",
            "C grad: -2.812350453392085e-12\n",
            "C value: 3.048718477491211e-11 -> 3.04916420500005e-11\n",
            "Resonant frequency: 20039104.762258813\n",
            "C grad: -2.7102122657741724e-12\n",
            "C value: 3.04916420500005e-11 -> 3.0495937446970655e-11\n",
            "Resonant frequency: 20037693.444092408\n",
            "C grad: -2.611846892479664e-12\n",
            "C value: 3.0495937446970655e-11 -> 3.05000769453303e-11\n",
            "Resonant frequency: 20036333.63090518\n",
            "C grad: -2.5171104543866032e-12\n",
            "C value: 3.05000769453303e-11 -> 3.050406629655413e-11\n"
          ]
        }
      ]
    },
    {
      "cell_type": "code",
      "source": [
        "# get_partial_H for L 0 since Phi 0; need to address this\n",
        "print(cr._get_external_flux_at_element(None))"
      ],
      "metadata": {
        "colab": {
          "base_uri": "https://localhost:8080/"
        },
        "id": "4nbIk0zJ7jXy",
        "outputId": "56fddee3-8e4e-4ebe-e30c-82e118396397"
      },
      "execution_count": 121,
      "outputs": [
        {
          "output_type": "stream",
          "name": "stdout",
          "text": [
            "[[0.]]\n"
          ]
        }
      ]
    }
  ]
}