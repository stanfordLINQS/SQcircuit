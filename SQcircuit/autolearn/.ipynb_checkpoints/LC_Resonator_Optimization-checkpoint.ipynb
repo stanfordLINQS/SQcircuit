{
 "cells": [
  {
   "cell_type": "code",
   "execution_count": 1,
   "metadata": {
    "colab": {
     "base_uri": "https://localhost:8080/"
    },
    "id": "yQeviN3gzvRK",
    "outputId": "3e7a4458-c8cd-4e68-e40a-6a5ed407ce60"
   },
   "outputs": [],
   "source": [
    "# !pip install git+https://github.com/stanfordLINQS/SQcircuit.git@dev-ab\n",
    "\n",
    "import sys\n",
    "dev_path = '/Volumes/GoogleDrive-105648963011426938594/My Drive/numerics/220109_Qcircuit_v1.0/SQcircuit'\n",
    "sys.path.insert(0, dev_path)"
   ]
  },
  {
   "cell_type": "code",
   "execution_count": 2,
   "metadata": {
    "id": "142SvHan18ab"
   },
   "outputs": [],
   "source": [
    "import SQcircuit as sq\n",
    "import matplotlib.pyplot as plt\n",
    "import numpy as np\n",
    "from matplotlib.colors import LinearSegmentedColormap"
   ]
  },
  {
   "cell_type": "code",
   "execution_count": 3,
   "metadata": {
    "id": "SANMYhkS2iBz"
   },
   "outputs": [],
   "source": [
    "loop1 = sq.Loop()"
   ]
  },
  {
   "cell_type": "code",
   "execution_count": 4,
   "metadata": {
    "id": "ADK9V46a2pYt"
   },
   "outputs": [],
   "source": [
    "# define the circuit elements\n",
    "# C = sq.Capacitor(5, 'GHz', Q=1e6)\n",
    "# L = sq.Inductor(2, 'GHz', loops = [loop1])\n",
    "C = sq.Capacitor(7.746, 'pF', Q=1e6)\n",
    "L = sq.Inductor(81.67, 'uH', loops = [loop1])\n",
    "\n",
    "# define the circuit\n",
    "elements = {\n",
    "    (0, 1): [C, L],\n",
    "}\n",
    "\n",
    "cr = sq.Circuit(elements)"
   ]
  },
  {
   "cell_type": "code",
   "execution_count": 5,
   "metadata": {
    "colab": {
     "base_uri": "https://localhost:8080/"
    },
    "id": "dWZ9SzdX2rDu",
    "outputId": "ec8edcac-bf1e-4ef6-db98-aacc2d732b28"
   },
   "outputs": [
    {
     "data": {
      "text/latex": [
       "$\\hat{H} =~\\omega_1\\hat a^\\dagger_1\\hat a_1~+~E_{L_{1}}(2265563510.186\\hat{\\varphi}_1)(\\varphi_{\\text{ext}_{1}})~$"
      ],
      "text/plain": [
       "<IPython.core.display.Latex object>"
      ]
     },
     "metadata": {},
     "output_type": "display_data"
    },
    {
     "data": {
      "text/latex": [
       "$------------------------------------------------------------$"
      ],
      "text/plain": [
       "<IPython.core.display.Latex object>"
      ]
     },
     "metadata": {},
     "output_type": "display_data"
    },
    {
     "data": {
      "text/latex": [
       "$\\text{mode}~1:~~~~~~~~~~~\\text{harmonic}~~~~~~~~~~~\\hat{\\varphi}_1~=~\\varphi_{zp_{1}}(\\hat a_1+\\hat a^\\dagger_1)~~~~~~~~~~~\\omega_1/2\\pi~=~0.00633~~~~~~~~~~~\\varphi_{zp_{1}}~=~5.55e-10$"
      ],
      "text/plain": [
       "<IPython.core.display.Latex object>"
      ]
     },
     "metadata": {},
     "output_type": "display_data"
    },
    {
     "data": {
      "text/latex": [
       "$------------------------------------------------------------$"
      ],
      "text/plain": [
       "<IPython.core.display.Latex object>"
      ]
     },
     "metadata": {},
     "output_type": "display_data"
    },
    {
     "data": {
      "text/latex": [
       "$\\text{parameters}:~~~~~~~~~~~E_{L_{1}}~=~0.002~~~~~~~~~~~$"
      ],
      "text/plain": [
       "<IPython.core.display.Latex object>"
      ]
     },
     "metadata": {},
     "output_type": "display_data"
    },
    {
     "data": {
      "text/latex": [
       "$\\text{loops}:~~~~~~~~~~~~~~~~~~~~\\varphi_{\\text{ext}_{1}}/2\\pi~=~0.0~~~~~~~~~~~$"
      ],
      "text/plain": [
       "<IPython.core.display.Latex object>"
      ]
     },
     "metadata": {},
     "output_type": "display_data"
    }
   ],
   "source": [
    "cr.description()"
   ]
  },
  {
   "cell_type": "code",
   "execution_count": 6,
   "metadata": {
    "colab": {
     "base_uri": "https://localhost:8080/"
    },
    "id": "2-RKJsZswg0r",
    "outputId": "684a5b8e-3e2f-4dc2-ed2b-c160e8f6d387"
   },
   "outputs": [
    {
     "data": {
      "text/plain": [
       "(array([-8.73005304e-18,  6.32776158e-03]),\n",
       " [Quantum object: dims = [[10], [1]], shape = (10, 1), type = ket\n",
       "  Qobj data =\n",
       "  [[ 2.18565964e-03-9.99997611e-01j]\n",
       "   [-1.20080130e-15+1.29856912e-15j]\n",
       "   [-1.12749059e-16-8.17538813e-17j]\n",
       "   [-5.21108785e-17-4.97851783e-17j]\n",
       "   [ 1.09304135e-16+5.37602380e-17j]\n",
       "   [-6.62449984e-17+1.55194438e-16j]\n",
       "   [-8.34278459e-17+1.13043048e-16j]\n",
       "   [ 1.14716931e-16+4.80448284e-17j]\n",
       "   [-1.07210473e-16+4.43131827e-16j]\n",
       "   [-3.50569075e-16+3.33956890e-17j]],\n",
       "  Quantum object: dims = [[10], [1]], shape = (10, 1), type = ket\n",
       "  Qobj data =\n",
       "  [[-7.56157477e-17-1.93417334e-15j]\n",
       "   [ 6.93878663e-01-7.20091939e-01j]\n",
       "   [ 7.17526883e-17-3.33090304e-18j]\n",
       "   [-1.01598875e-17+7.54953307e-17j]\n",
       "   [ 3.22088340e-17+2.82283794e-17j]\n",
       "   [-1.39040941e-16+8.31081382e-17j]\n",
       "   [ 6.53842634e-17-1.31027782e-17j]\n",
       "   [ 6.59129720e-16+3.79866689e-16j]\n",
       "   [ 1.47213378e-17+4.65368513e-16j]\n",
       "   [-4.23424618e-17-1.14077196e-17j]]])"
      ]
     },
     "execution_count": 6,
     "metadata": {},
     "output_type": "execute_result"
    }
   ],
   "source": [
    "cr.set_trunc_nums([10,])\n",
    "cr.diag(2)"
   ]
  },
  {
   "cell_type": "code",
   "execution_count": 7,
   "metadata": {
    "colab": {
     "base_uri": "https://localhost:8080/"
    },
    "id": "o-Os9gh4uSya",
    "outputId": "735c4b08-dcd5-4584-f6de-9f9ab336aabf"
   },
   "outputs": [
    {
     "name": "stdout",
     "output_type": "stream",
     "text": [
      "Fundamental resonant frequency: 39758498.58406875 Hz\n"
     ]
    }
   ],
   "source": [
    "cr._efreqs\n",
    "print(f\"Fundamental resonant frequency: {cr._efreqs[1] - cr._efreqs[0]} Hz\")"
   ]
  },
  {
   "cell_type": "code",
   "execution_count": 8,
   "metadata": {
    "colab": {
     "base_uri": "https://localhost:8080/"
    },
    "id": "KCsARvWD3d8w",
    "outputId": "f551173d-7a52-4829-e878-ffa7b096ff3b"
   },
   "outputs": [
    {
     "data": {
      "text/plain": [
       "[Quantum object: dims = [[10], [1]], shape = (10, 1), type = ket\n",
       " Qobj data =\n",
       " [[ 2.18565964e-03-9.99997611e-01j]\n",
       "  [-1.20080130e-15+1.29856912e-15j]\n",
       "  [-1.12749059e-16-8.17538813e-17j]\n",
       "  [-5.21108785e-17-4.97851783e-17j]\n",
       "  [ 1.09304135e-16+5.37602380e-17j]\n",
       "  [-6.62449984e-17+1.55194438e-16j]\n",
       "  [-8.34278459e-17+1.13043048e-16j]\n",
       "  [ 1.14716931e-16+4.80448284e-17j]\n",
       "  [-1.07210473e-16+4.43131827e-16j]\n",
       "  [-3.50569075e-16+3.33956890e-17j]],\n",
       " Quantum object: dims = [[10], [1]], shape = (10, 1), type = ket\n",
       " Qobj data =\n",
       " [[-7.56157477e-17-1.93417334e-15j]\n",
       "  [ 6.93878663e-01-7.20091939e-01j]\n",
       "  [ 7.17526883e-17-3.33090304e-18j]\n",
       "  [-1.01598875e-17+7.54953307e-17j]\n",
       "  [ 3.22088340e-17+2.82283794e-17j]\n",
       "  [-1.39040941e-16+8.31081382e-17j]\n",
       "  [ 6.53842634e-17-1.31027782e-17j]\n",
       "  [ 6.59129720e-16+3.79866689e-16j]\n",
       "  [ 1.47213378e-17+4.65368513e-16j]\n",
       "  [-4.23424618e-17-1.14077196e-17j]]]"
      ]
     },
     "execution_count": 8,
     "metadata": {},
     "output_type": "execute_result"
    }
   ],
   "source": [
    "cr._evecs"
   ]
  },
  {
   "cell_type": "code",
   "execution_count": 9,
   "metadata": {
    "colab": {
     "base_uri": "https://localhost:8080/"
    },
    "id": "zM2XFVy524Wq",
    "outputId": "5a511736-78ef-49f0-a9cc-1bf52c450013"
   },
   "outputs": [
    {
     "name": "stdout",
     "output_type": "stream",
     "text": [
      "-2.5663890093429473e+18\n",
      "-2.5663890093429473e+18\n",
      "Quantum object: dims = [[1], [1]], shape = (1, 1), type = bra\n",
      "Qobj data =\n",
      "[[-1.2831945e+18-0.06925874j]] Quantum object: dims = [[1], [1]], shape = (1, 1), type = bra\n",
      "Qobj data =\n",
      "[[-3.84958351e+18-141.65818202j]]\n",
      "7.746e-12\n"
     ]
    }
   ],
   "source": [
    "res_grad_C = cr._get_partial_omega(C, 1, subtract_ground = True)\n",
    "partial_H = cr._get_partial_H(C, None)\n",
    "e_0, e_1 = cr._evecs[0], cr._evecs[1]\n",
    "a = e_0.dag() * (partial_H * e_0)\n",
    "b = e_1.dag() * (partial_H * e_1)\n",
    "print(res_grad_C)\n",
    "print((b - a).data[0, 0].real)\n",
    "print(a, b)\n",
    "print(C.value())"
   ]
  },
  {
   "cell_type": "code",
   "execution_count": 10,
   "metadata": {
    "colab": {
     "base_uri": "https://localhost:8080/"
    },
    "id": "_moBbIWN3Zur",
    "outputId": "913f8a10-5ab4-4703-9ba9-d7a323237ffa"
   },
   "outputs": [
    {
     "name": "stdout",
     "output_type": "stream",
     "text": [
      "Resonant frequency: 39758498.58406852\n",
      "C grad: -1.0695044018561807e-08\n",
      "C value: 7.746e-12 -> 2.4696502458090565e-11\n",
      "Resonant frequency: 22266450.722459063\n",
      "C grad: -2.1549538711796077e-10\n",
      "C value: 2.4696502458090565e-11 -> 2.503803963014059e-11\n",
      "Resonant frequency: 22114063.93518584\n",
      "C grad: -1.9690761388430556e-10\n",
      "C value: 2.503803963014059e-11 -> 2.535011716692959e-11\n",
      "Resonant frequency: 21977522.66669415\n",
      "C grad: -1.807991521211473e-10\n",
      "C value: 2.535011716692959e-11 -> 2.5636664512329135e-11\n",
      "Resonant frequency: 21854353.420713913\n",
      "C grad: -1.667036486343026e-10\n",
      "C value: 2.5636664512329132e-11 -> 2.5900871990208067e-11\n",
      "Resonant frequency: 21742602.663218785\n",
      "C grad: -1.5426651584936698e-10\n",
      "C value: 2.5900871990208067e-11 -> 2.6145367941002422e-11\n",
      "Resonant frequency: 21640701.92232858\n",
      "C grad: -1.4321299451238113e-10\n",
      "C value: 2.6145367941002422e-11 -> 2.6372345241077067e-11\n",
      "Resonant frequency: 21547373.80498552\n",
      "C grad: -1.3332665631069773e-10\n",
      "C value: 2.6372345241077067e-11 -> 2.6583653751037496e-11\n",
      "Resonant frequency: 21461564.91551374\n",
      "C grad: -1.244345488633319e-10\n",
      "C value: 2.6583653751037496e-11 -> 2.678086922043796e-11\n",
      "Resonant frequency: 21382396.954967186\n",
      "C grad: -1.1639669291384074e-10\n",
      "C value: 2.678086922043796e-11 -> 2.6965345546662092e-11\n",
      "Resonant frequency: 21309130.406285208\n",
      "C grad: -1.0909850538735746e-10\n",
      "C value: 2.6965345546662092e-11 -> 2.7138255025158198e-11\n",
      "Resonant frequency: 21241137.1186504\n",
      "C grad: -1.0244523453034578e-10\n",
      "C value: 2.7138255025158198e-11 -> 2.7300619779965425e-11\n",
      "Resonant frequency: 21177879.30390629\n",
      "C grad: -9.635780691972946e-11\n",
      "C value: 2.7300619779965425e-11 -> 2.7453336612192988e-11\n",
      "Resonant frequency: 21118893.23147536\n",
      "C grad: -9.076968322405791e-11\n",
      "C value: 2.7453336612192988e-11 -> 2.759719686521665e-11\n",
      "Resonant frequency: 21063776.418758657\n",
      "C grad: -8.562444651719945e-11\n",
      "C value: 2.759719686521665e-11 -> 2.773290246761001e-11\n",
      "Resonant frequency: 21012177.457967117\n",
      "C grad: -8.087393046566437e-11\n",
      "C value: 2.773290246761001e-11 -> 2.7861079009452617e-11\n",
      "Resonant frequency: 20963787.8564336\n",
      "C grad: -7.647675076124288e-11\n",
      "C value: 2.7861079009452617e-11 -> 2.7982286491115655e-11\n",
      "Resonant frequency: 20918335.432300456\n",
      "C grad: -7.239714146403517e-11\n",
      "C value: 2.7982286491115655e-11 -> 2.8097028227775648e-11\n",
      "Resonant frequency: 20875578.924340468\n",
      "C grad: -6.860402450969919e-11\n",
      "C value: 2.8097028227775648e-11 -> 2.8205758279196504e-11\n",
      "Resonant frequency: 20835303.558720287\n",
      "C grad: -6.507025937551498e-11\n",
      "C value: 2.8205758279196504e-11 -> 2.8308887690312437e-11\n",
      "Resonant frequency: 20797317.376736\n",
      "C grad: -6.177203328961318e-11\n",
      "C value: 2.8308887690312433e-11 -> 2.840678976535762e-11\n",
      "Resonant frequency: 20761448.172702827\n",
      "C grad: -5.868836205791869e-11\n",
      "C value: 2.840678976535762e-11 -> 2.849980455085991e-11\n",
      "Resonant frequency: 20727540.924833164\n",
      "C grad: -5.580067867719522e-11\n",
      "C value: 2.849980455085991e-11 -> 2.8588242666630108e-11\n",
      "Resonant frequency: 20695455.627298813\n",
      "C grad: -5.309249215414162e-11\n",
      "C value: 2.8588242666630108e-11 -> 2.8672388596016003e-11\n",
      "Resonant frequency: 20665065.450950935\n",
      "C grad: -5.054910287628203e-11\n",
      "C value: 2.8672388596016003e-11 -> 2.8752503525049638e-11\n",
      "Resonant frequency: 20636255.1749743\n",
      "C grad: -4.8157363844379624e-11\n",
      "C value: 2.8752503525049635e-11 -> 2.8828827803173466e-11\n",
      "Resonant frequency: 20608919.84320635\n",
      "C grad: -4.590547933318428e-11\n",
      "C value: 2.8828827803173466e-11 -> 2.8901583084865294e-11\n",
      "Resonant frequency: 20582963.60777757\n",
      "C grad: -4.378283427993278e-11\n",
      "C value: 2.8901583084865294e-11 -> 2.897097420086221e-11\n",
      "Resonant frequency: 20558298.72975831\n",
      "C grad: -4.177984904205817e-11\n",
      "C value: 2.897097420086221e-11 -> 2.9037190799191022e-11\n",
      "Resonant frequency: 20534844.712045353\n",
      "C grad: -3.988785521085425e-11\n",
      "C value: 2.9037190799191022e-11 -> 2.910040878937658e-11\n",
      "Resonant frequency: 20512527.54414567\n",
      "C grad: -3.809898898886997e-11\n",
      "C value: 2.910040878937658e-11 -> 2.916079161766469e-11\n",
      "Resonant frequency: 20491279.04206363\n",
      "C grad: -3.6406099287844943e-11\n",
      "C value: 2.916079161766469e-11 -> 2.921849139659006e-11\n",
      "Resonant frequency: 20471036.269353062\n",
      "C grad: -3.4802668219661793e-11\n",
      "C value: 2.921849139659006e-11 -> 2.9273649908530885e-11\n",
      "Resonant frequency: 20451741.027711384\n",
      "C grad: -3.328274206534902e-11\n",
      "C value: 2.9273649908530885e-11 -> 2.9326399499856694e-11\n",
      "Resonant frequency: 20433339.407386873\n",
      "C grad: -3.184087113948381e-11\n",
      "C value: 2.9326399499856694e-11 -> 2.9376863879767694e-11\n",
      "Resonant frequency: 20415781.389208857\n",
      "C grad: -3.047205723515632e-11\n",
      "C value: 2.9376863879767694e-11 -> 2.942515883583998e-11\n",
      "Resonant frequency: 20399020.491329536\n",
      "C grad: -2.917170755323585e-11\n",
      "C value: 2.942515883583998e-11 -> 2.947139287655357e-11\n",
      "Resonant frequency: 20383013.454815023\n",
      "C grad: -2.7935594197564566e-11\n",
      "C value: 2.947139287655357e-11 -> 2.9515667809624646e-11\n",
      "Resonant frequency: 20367719.963096682\n",
      "C grad: -2.675981846383414e-11\n",
      "C value: 2.9515667809624646e-11 -> 2.955807926373947e-11\n",
      "Resonant frequency: 20353102.391025268\n",
      "C grad: -2.5640779270544973e-11\n",
      "C value: 2.955807926373947e-11 -> 2.9598717160254756e-11\n",
      "Resonant frequency: 20339125.579874616\n",
      "C grad: -2.4575145179694544e-11\n",
      "C value: 2.9598717160254756e-11 -> 2.96376661405538e-11\n",
      "Resonant frequency: 20325756.635159865\n",
      "C grad: -2.3559829538061303e-11\n",
      "C value: 2.96376661405538e-11 -> 2.9675005954004215e-11\n",
      "Resonant frequency: 20312964.744561832\n",
      "C grad: -2.2591968338610114e-11\n",
      "C value: 2.9675005954004215e-11 -> 2.971081181082837e-11\n",
      "Resonant frequency: 20300721.01361927\n",
      "C grad: -2.1668900459667762e-11\n",
      "C value: 2.971081181082837e-11 -> 2.974515470365502e-11\n",
      "Resonant frequency: 20288998.317156974\n",
      "C grad: -2.078814998777542e-11\n",
      "C value: 2.974515470365502e-11 -> 2.9778101701054506e-11\n",
      "Resonant frequency: 20277771.164685253\n",
      "C grad: -1.99474103712791e-11\n",
      "C value: 2.9778101701054506e-11 -> 2.980971621595917e-11\n",
      "Resonant frequency: 20267015.578230012\n",
      "C grad: -1.9144530186177973e-11\n",
      "C value: 2.980971621595917e-11 -> 2.984005825152411e-11\n",
      "Resonant frequency: 20256708.981248472\n",
      "C grad: -1.837750032527087e-11\n",
      "C value: 2.984005825152411e-11 -> 2.986918462668408e-11\n",
      "Resonant frequency: 20246830.097449068\n",
      "C grad: -1.7644442446425682e-11\n",
      "C value: 2.986918462668408e-11 -> 2.989714918340219e-11\n",
      "Resonant frequency: 20237358.85847844\n",
      "C grad: -1.6943598537192013e-11\n",
      "C value: 2.989714918340219e-11 -> 2.992400297737958e-11\n",
      "Resonant frequency: 20228276.319565706\n",
      "C grad: -1.6273321471470635e-11\n",
      "C value: 2.992400297737958e-11 -> 2.9949794453798446e-11\n",
      "Resonant frequency: 20219564.582314886\n",
      "C grad: -1.5632066449142702e-11\n",
      "C value: 2.9949794453798446e-11 -> 2.9974569609497793e-11\n",
      "Resonant frequency: 20211206.723935343\n",
      "C grad: -1.5018383223446186e-11\n",
      "C value: 2.9974569609497793e-11 -> 2.9998372142830404e-11\n",
      "Resonant frequency: 20203186.73227922\n",
      "C grad: -1.4430909032374647e-11\n",
      "C value: 2.9998372142830404e-11 -> 3.002124359231684e-11\n",
      "Resonant frequency: 20195489.44612153\n",
      "C grad: -1.386836216012763e-11\n",
      "C value: 3.002124359231684e-11 -> 3.004322346509501e-11\n",
      "Resonant frequency: 20188100.500191882\n",
      "C grad: -1.3329536064166768e-11\n",
      "C value: 3.004322346509501e-11 -> 3.0064349356061776e-11\n",
      "Resonant frequency: 20181006.27450466\n",
      "C grad: -1.2813294009837777e-11\n",
      "C value: 3.0064349356061776e-11 -> 3.008465705851097e-11\n",
      "Resonant frequency: 20174193.847597852\n",
      "C grad: -1.2318564162223171e-11\n",
      "C value: 3.008465705851097e-11 -> 3.010418066699257e-11\n",
      "Resonant frequency: 20167650.953320947\n",
      "C grad: -1.1844335089812446e-11\n",
      "C value: 3.010418066699257e-11 -> 3.0122952673045645e-11\n",
      "Resonant frequency: 20161365.94085721\n",
      "C grad: -1.138965164016462e-11\n",
      "C value: 3.0122952673045645e-11 -> 3.0141004054394644e-11\n",
      "Resonant frequency: 20155327.73769293\n",
      "C grad: -1.0953611151766086e-11\n",
      "C value: 3.0141004054394644e-11 -> 3.015836435814194e-11\n",
      "Resonant frequency: 20149525.81527775\n",
      "C grad: -1.0535359970336248e-11\n",
      "C value: 3.015836435814194e-11 -> 3.017506177843906e-11\n",
      "Resonant frequency: 20143950.157145083\n",
      "C grad: -1.0134090241185255e-11\n",
      "C value: 3.017506177843906e-11 -> 3.0191123229074096e-11\n",
      "Resonant frequency: 20138591.229286026\n",
      "C grad: -9.74903695234267e-12\n",
      "C value: 3.0191123229074096e-11 -> 3.020657441137292e-11\n",
      "Resonant frequency: 20133439.952584963\n",
      "C grad: -9.3794752054315e-12\n",
      "C value: 3.020657441137292e-11 -> 3.0221439877774866e-11\n",
      "Resonant frequency: 20128487.677151617\n",
      "C grad: -9.024717694210687e-12\n",
      "C value: 3.0221439877774866e-11 -> 3.0235743091412307e-11\n",
      "Resonant frequency: 20123726.1583918\n",
      "C grad: -8.68411237216803e-12\n",
      "C value: 3.0235743091412307e-11 -> 3.024950648199352e-11\n",
      "Resonant frequency: 20119147.53468072\n",
      "C grad: -8.35704029289505e-12\n",
      "C value: 3.024950648199352e-11 -> 3.026275149826285e-11\n",
      "Resonant frequency: 20114744.30650832\n",
      "C grad: -8.042913608098632e-12\n",
      "C value: 3.026275149826285e-11 -> 3.0275498657287883e-11\n",
      "Resonant frequency: 20110509.316985548\n",
      "C grad: -7.741173710110564e-12\n",
      "C value: 3.0275498657287883e-11 -> 3.02877675908027e-11\n",
      "Resonant frequency: 20106435.733603552\n",
      "C grad: -7.45128950654294e-12\n",
      "C value: 3.02877675908027e-11 -> 3.029957708881667e-11\n",
      "Resonant frequency: 20102517.031152796\n",
      "C grad: -7.172755816289196e-12\n",
      "C value: 3.029957708881667e-11 -> 3.0310945140681094e-11\n",
      "Resonant frequency: 20098746.97571271\n",
      "C grad: -6.905091876776768e-12\n",
      "C value: 3.0310945140681094e-11 -> 3.032188897378991e-11\n",
      "Resonant frequency: 20095119.60963478\n",
      "C grad: -6.647839953628344e-12\n",
      "C value: 3.032188897378991e-11 -> 3.033242509007699e-11\n",
      "Resonant frequency: 20091629.237444077\n",
      "C grad: -6.400564044389525e-12\n",
      "C value: 3.033242509007699e-11 -> 3.0342569300458855e-11\n",
      "Resonant frequency: 20088270.412594065\n",
      "C grad: -6.1628486689842476e-12\n",
      "C value: 3.0342569300458855e-11 -> 3.0352336757360496e-11\n",
      "Resonant frequency: 20085037.92501235\n",
      "C grad: -5.934297740033505e-12\n",
      "C value: 3.0352336757360496e-11 -> 3.036174198545071e-11\n",
      "Resonant frequency: 20081926.789384536\n",
      "C grad: -5.714533507087318e-12\n",
      "C value: 3.036174198545071e-11 -> 3.037079891070418e-11\n",
      "Resonant frequency: 20078932.234119568\n",
      "C grad: -5.503195568777897e-12\n",
      "C value: 3.037079891070418e-11 -> 3.037952088789792e-11\n",
      "Resonant frequency: 20076049.690954175\n",
      "C grad: -5.29993994809548e-12\n",
      "C value: 3.037952088789792e-11 -> 3.0387920726642114e-11\n",
      "Resonant frequency: 20073274.785150856\n",
      "C grad: -5.104438225943705e-12\n",
      "C value: 3.0387920726642114e-11 -> 3.039601071603775e-11\n",
      "Resonant frequency: 20070603.326248366\n",
      "C grad: -4.9163767286078305e-12\n",
      "C value: 3.039601071603775e-11 -> 3.04038026480465e-11\n",
      "Resonant frequency: 20068031.299330693\n",
      "C grad: -4.73545576540136e-12\n",
      "C value: 3.04038026480465e-11 -> 3.0411307839652286e-11\n",
      "Resonant frequency: 20065554.856777716\n",
      "C grad: -4.56138891269185e-12\n",
      "C value: 3.0411307839652286e-11 -> 3.0418537153888176e-11\n",
      "Resonant frequency: 20063170.310465913\n",
      "C grad: -4.3939023409805674e-12\n",
      "C value: 3.0418537153888176e-11 -> 3.042550101979673e-11\n",
      "Resonant frequency: 20060874.12439438\n",
      "C grad: -4.232734182298642e-12\n",
      "C value: 3.042550101979673e-11 -> 3.0432209451387756e-11\n",
      "Resonant frequency: 20058662.90770312\n",
      "C grad: -4.077633934694215e-12\n",
      "C value: 3.0432209451387756e-11 -> 3.0438672065652204e-11\n",
      "Resonant frequency: 20056533.408063\n",
      "C grad: -3.928361901537626e-12\n",
      "C value: 3.0438672065652204e-11 -> 3.0444898099687475e-11\n",
      "Resonant frequency: 20054482.505412586\n",
      "C grad: -3.784688663158123e-12\n",
      "C value: 3.0444898099687475e-11 -> 3.0450896426985297e-11\n",
      "Resonant frequency: 20052507.206021264\n",
      "C grad: -3.646394578680462e-12\n",
      "C value: 3.0450896426985297e-11 -> 3.045667557293007e-11\n"
     ]
    },
    {
     "name": "stdout",
     "output_type": "stream",
     "text": [
      "Resonant frequency: 20050604.636857595\n",
      "C grad: -3.513269315969791e-12\n",
      "C value: 3.045667557293007e-11 -> 3.046224372955223e-11\n",
      "Resonant frequency: 20048772.0402463\n",
      "C grad: -3.385111407948461e-12\n",
      "C value: 3.046224372955223e-11 -> 3.046760876957841e-11\n",
      "Resonant frequency: 20047006.768792905\n",
      "C grad: -3.2617278333037746e-12\n",
      "C value: 3.046760876957841e-11 -> 3.0472778259817075e-11\n",
      "Resonant frequency: 20045306.280566897\n",
      "C grad: -3.1429336204694598e-12\n",
      "C value: 3.0472778259817075e-11 -> 3.047775947391652e-11\n",
      "Resonant frequency: 20043668.134520415\n",
      "C grad: -3.028551472845846e-12\n",
      "C value: 3.047775947391652e-11 -> 3.048255940452885e-11\n",
      "Resonant frequency: 20042089.986133922\n",
      "C grad: -2.918411414264578e-12\n",
      "C value: 3.048255940452885e-11 -> 3.048718477491212e-11\n",
      "Resonant frequency: 20040569.583275344\n",
      "C grad: -2.8123504533920804e-12\n",
      "C value: 3.048718477491212e-11 -> 3.0491642050000516e-11\n",
      "Resonant frequency: 20039104.762258887\n",
      "C grad: -2.710212265779335e-12\n",
      "C value: 3.0491642050000516e-11 -> 3.0495937446970674e-11\n",
      "Resonant frequency: 20037693.44409238\n",
      "C grad: -2.611846892477849e-12\n",
      "C value: 3.0495937446970674e-11 -> 3.050007694533031e-11\n",
      "Resonant frequency: 20036333.63090524\n",
      "C grad: -2.517110454390733e-12\n",
      "C value: 3.050007694533031e-11 -> 3.050406629655415e-11\n"
     ]
    }
   ],
   "source": [
    "omega_target = 20e6 # 20 MHz\n",
    "learning_rate = 10**(-2.8)\n",
    "for step in range(100):\n",
    "    cr.set_trunc_nums([10,])\n",
    "    cr.diag(2)\n",
    "    omega = cr._efreqs[1] - cr._efreqs[0]\n",
    "    print(f\"Resonant frequency: {omega}\")\n",
    "    ## Backprop C\n",
    "    C_grad_omega = cr._get_partial_omega(C, 1, subtract_ground = True) * 1.0545718e-34\n",
    "    C_grad = C_grad_omega * 2 * (omega - omega_target)\n",
    "    new_C_value = C.cValue * 1e-12 - C_grad * learning_rate\n",
    "    print(f\"C grad: {C_grad}\")\n",
    "    print(f\"C value: {C.value()} -> {new_C_value}\")\n",
    "\n",
    "    ## Backprop L\n",
    "    # print(f\"L grad: {cr._get_partial_omega(L, 1, subtract_ground = True)}\")\n",
    "    # print(f\"L: {(cr._memory_ops['ind_hamil'][(L, 0)] / L.value()**2) / np.sqrt(1.0545718e-34)}\")\n",
    "    '''L_grad_omega = cr._get_partial_omega(L, 1, subtract_ground = True)# * 1.0545718e-34\n",
    "    L_grad = L_grad_omega * 2 * (omega - omega_target)\n",
    "    new_L_value = L.lValue * 1e-6 - L_grad * learning_rate\n",
    "    print(f\"L grad: {L_grad}\")\n",
    "    print(f\"L value: {L.value()} -> {new_L_value}\")'''\n",
    "\n",
    "    C = sq.Capacitor(new_C_value * 1e12, 'pF', Q=1e6)\n",
    "    # L = sq.Inductor(new_L_value * 1e6, 'uH', loops = [loop1])\n",
    "\n",
    "    # define the circuit\n",
    "    elements = {\n",
    "      (0, 1): [C, L],\n",
    "    }\n",
    "\n",
    "    cr = sq.Circuit(elements)"
   ]
  },
  {
   "cell_type": "code",
   "execution_count": 11,
   "metadata": {
    "colab": {
     "base_uri": "https://localhost:8080/"
    },
    "id": "4nbIk0zJ7jXy",
    "outputId": "56fddee3-8e4e-4ebe-e30c-82e118396397"
   },
   "outputs": [
    {
     "name": "stdout",
     "output_type": "stream",
     "text": [
      "[[0.]]\n"
     ]
    }
   ],
   "source": [
    "# get_partial_H for L 0 since Phi 0; need to address this\n",
    "print(cr._get_external_flux_at_element(None))"
   ]
  },
  {
   "cell_type": "code",
   "execution_count": null,
   "metadata": {},
   "outputs": [],
   "source": []
  },
  {
   "cell_type": "code",
   "execution_count": null,
   "metadata": {},
   "outputs": [],
   "source": []
  }
 ],
 "metadata": {
  "colab": {
   "name": "LC Resonator Optimization.ipynb",
   "provenance": []
  },
  "kernelspec": {
   "display_name": "Python 3 (ipykernel)",
   "language": "python",
   "name": "python3"
  },
  "language_info": {
   "codemirror_mode": {
    "name": "ipython",
    "version": 3
   },
   "file_extension": ".py",
   "mimetype": "text/x-python",
   "name": "python",
   "nbconvert_exporter": "python",
   "pygments_lexer": "ipython3",
   "version": "3.9.7"
  }
 },
 "nbformat": 4,
 "nbformat_minor": 1
}
